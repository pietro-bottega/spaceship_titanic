{
 "cells": [
  {
   "cell_type": "markdown",
   "id": "31e9b4e9",
   "metadata": {},
   "source": [
    "# [Spaceship Titanic](https://www.kaggle.com/competitions/spaceship-titanic/)"
   ]
  },
  {
   "cell_type": "markdown",
   "id": "efc6a731",
   "metadata": {
    "tags": []
   },
   "source": [
    "## Description\n",
    "\n",
    "Welcome to the year 2912, where your data science skills are needed to solve a cosmic mystery. We've received a transmission from four lightyears away and things aren't looking good.\n",
    "\n",
    "The Spaceship Titanic was an interstellar passenger liner launched a month ago. With almost 13,000 passengers on board, the vessel set out on its maiden voyage transporting emigrants from our solar system to three newly habitable exoplanets orbiting nearby stars.\n",
    "\n",
    "While rounding Alpha Centauri en route to its first destination—the torrid 55 Cancri E—the unwary Spaceship Titanic collided with a spacetime anomaly hidden within a dust cloud. Sadly, it met a similar fate as its namesake from 1000 years before. Though the ship stayed intact, almost half of the passengers were transported to an alternate dimension!\n",
    "\n",
    "<br>\n",
    "<div style=\"text-align: center;\">\n",
    "    <img src=\"https://storage.googleapis.com/kaggle-media/competitions/Spaceship%20Titanic/joel-filipe-QwoNAhbmLLo-unsplash.jpg\" alt=\"Deep Space\" style=\"width: 400px;\"/>\n",
    "</div>\n",
    "\n",
    "To help rescue crews and retrieve the lost passengers, you are challenged to predict which passengers were transported by the anomaly using records recovered from the spaceship’s damaged computer system.\n",
    "\n",
    "Help save them and change history!\n"
   ]
  },
  {
   "cell_type": "markdown",
   "id": "b0a08f15",
   "metadata": {
    "tags": []
   },
   "source": [
    "## Evaluation\n",
    "\n",
    "### Metric\n",
    "Submissions are evaluated based on their [classification accuracy](https://developers.google.com/machine-learning/crash-course/classification/accuracy), the percentage of predicted labels that are correct.\n",
    "\n",
    "### Submission Format\n",
    "The submission format for the competition is a csv file with the following format:\n",
    "\n",
    "```js\n",
    "PassengerId,Transported\n",
    "0013_01,False\n",
    "0018_01,False\n",
    "0019_01,False\n",
    "0021_01,False\n",
    "etc.\n",
    "```"
   ]
  },
  {
   "cell_type": "markdown",
   "id": "ba58ef97",
   "metadata": {},
   "source": [
    "## Dataset Description\n",
    "\n",
    "In this competition your task is to predict whether a passenger was transported to an alternate dimension during the Spaceship Titanic's collision with the spacetime anomaly. To help you make these predictions, you're given a set of personal records recovered from the ship's damaged computer system.\n",
    "<br><br>\n",
    "\n",
    "### File and Data Field Descriptions\n",
    "- **train.csv** - Personal records for about two-thirds (~8700) of the passengers, to be used as training data.\n",
    "    - ```PassengerId``` - A unique Id for each passenger. Each Id takes the form ```gggg_pp``` where ```gggg``` indicates a group the passenger is travelling with and ```pp``` is their number within the group. People in a group are often family members, but not always.\n",
    "    - ```HomePlanet``` - The planet the passenger departed from, typically their planet of permanent residence.\n",
    "    - ```CryoSleep``` - Indicates whether the passenger elected to be put into suspended animation for the duration of the voyage. Passengers in cryosleep are confined to their cabins.\n",
    "    - ```Cabin``` - The cabin number where the passenger is staying. Takes the form ```deck/num/side```, where side can be either ```P``` for *Port* or ```S``` for *Starboard*.\n",
    "    - ```Destination``` - The planet the passenger will be debarking to.\n",
    "    - ```Age``` - The age of the passenger.\n",
    "    - ```VIP``` - Whether the passenger has paid for special VIP service during the voyage.\n",
    "    - ```RoomService```, ```FoodCourt```, ```ShoppingMall```, ```Spa```, ```VRDeck``` - Amount the passenger has billed at each of the Spaceship Titanic's many luxury amenities.\n",
    "    - ```Name``` - The first and last names of the passenger.\n",
    "    - ```Transported``` - Whether the passenger was transported to another dimension. This is the target, the column you are trying to predict.<br><br>\n",
    "- **test.csv** - Personal records for the remaining one-third (~4300) of the passengers, to be used as test data. Your task is to predict the value of ```Transported``` for the passengers in this set.<br><br>\n",
    "- **sample_submission.csv** - A submission file in the correct format.\n",
    "    - ```PassengerId``` - Id for each passenger in the test set.\n",
    "    - ```Transported``` - The target. For each passenger, predict either ```True``` or ```False```."
   ]
  },
  {
   "cell_type": "markdown",
   "id": "4c0d4dc4-ef5e-4cb9-8cc3-5d41370b3949",
   "metadata": {
    "tags": []
   },
   "source": [
    "---\n",
    "\n",
    "## Spaceship Titanic"
   ]
  },
  {
   "cell_type": "markdown",
   "id": "0833c7e0-745b-4cac-a4e5-06c4f2187bed",
   "metadata": {
    "tags": []
   },
   "source": [
    "### Importing libs"
   ]
  },
  {
   "cell_type": "code",
   "execution_count": 1,
   "id": "678d8143-d73f-4c60-92c8-fc162569b19b",
   "metadata": {
    "tags": []
   },
   "outputs": [
    {
     "name": "stderr",
     "output_type": "stream",
     "text": [
      "2024-11-13 13:49:09.069262: E external/local_xla/xla/stream_executor/cuda/cuda_fft.cc:485] Unable to register cuFFT factory: Attempting to register factory for plugin cuFFT when one has already been registered\n",
      "2024-11-13 13:49:09.080403: E external/local_xla/xla/stream_executor/cuda/cuda_dnn.cc:8454] Unable to register cuDNN factory: Attempting to register factory for plugin cuDNN when one has already been registered\n",
      "2024-11-13 13:49:09.083591: E external/local_xla/xla/stream_executor/cuda/cuda_blas.cc:1452] Unable to register cuBLAS factory: Attempting to register factory for plugin cuBLAS when one has already been registered\n",
      "2024-11-13 13:49:09.093182: I tensorflow/core/platform/cpu_feature_guard.cc:210] This TensorFlow binary is optimized to use available CPU instructions in performance-critical operations.\n",
      "To enable the following instructions: AVX2 FMA, in other operations, rebuild TensorFlow with the appropriate compiler flags.\n",
      "2024-11-13 13:49:09.772430: W tensorflow/compiler/tf2tensorrt/utils/py_utils.cc:38] TF-TRT Warning: Could not find TensorRT\n"
     ]
    }
   ],
   "source": [
    "# necessary imports\n",
    "from sklearn.model_selection import train_test_split\n",
    "import tensorflow as tf\n",
    "import tensorflow_decision_forests as tfdf\n",
    "import pandas as pd\n",
    "import numpy as np\n",
    "import seaborn as sns\n",
    "import matplotlib.pyplot as plt"
   ]
  },
  {
   "cell_type": "code",
   "execution_count": 2,
   "id": "b7755ed2-e4d2-4838-9fca-7f7195100622",
   "metadata": {
    "tags": []
   },
   "outputs": [
    {
     "name": "stdout",
     "output_type": "stream",
     "text": [
      "TensorFlow v2.17.0\n",
      "TensorFlow Decision Forests v1.10.0\n"
     ]
    }
   ],
   "source": [
    "print(\"TensorFlow v\" + tf.__version__)\n",
    "print(\"TensorFlow Decision Forests v\" + tfdf.__version__)"
   ]
  },
  {
   "cell_type": "markdown",
   "id": "f978e867-fd63-475f-9b44-7d21d74ddcf8",
   "metadata": {},
   "source": [
    "### Loading the dataset"
   ]
  },
  {
   "cell_type": "code",
   "execution_count": 3,
   "id": "93334841-e863-4525-829b-932db5e3bd9d",
   "metadata": {
    "tags": []
   },
   "outputs": [
    {
     "name": "stdout",
     "output_type": "stream",
     "text": [
      "Full train dataset shape is (8693, 14)\n"
     ]
    }
   ],
   "source": [
    "dataset_df = pd.read_csv(\"train.csv\")\n",
    "print(\"Full train dataset shape is {}\".format(dataset_df.shape))"
   ]
  },
  {
   "cell_type": "markdown",
   "id": "16019671-0730-43a0-9172-f1f501d7c7d0",
   "metadata": {},
   "source": [
    "The data is composed of 14 columns and 8693 entries"
   ]
  },
  {
   "cell_type": "code",
   "execution_count": 4,
   "id": "5805bd47-8782-43fe-a890-649591d29587",
   "metadata": {
    "tags": []
   },
   "outputs": [
    {
     "data": {
      "text/html": [
       "<div>\n",
       "<style scoped>\n",
       "    .dataframe tbody tr th:only-of-type {\n",
       "        vertical-align: middle;\n",
       "    }\n",
       "\n",
       "    .dataframe tbody tr th {\n",
       "        vertical-align: top;\n",
       "    }\n",
       "\n",
       "    .dataframe thead th {\n",
       "        text-align: right;\n",
       "    }\n",
       "</style>\n",
       "<table border=\"1\" class=\"dataframe\">\n",
       "  <thead>\n",
       "    <tr style=\"text-align: right;\">\n",
       "      <th></th>\n",
       "      <th>PassengerId</th>\n",
       "      <th>HomePlanet</th>\n",
       "      <th>CryoSleep</th>\n",
       "      <th>Cabin</th>\n",
       "      <th>Destination</th>\n",
       "      <th>Age</th>\n",
       "      <th>VIP</th>\n",
       "      <th>RoomService</th>\n",
       "      <th>FoodCourt</th>\n",
       "      <th>ShoppingMall</th>\n",
       "      <th>Spa</th>\n",
       "      <th>VRDeck</th>\n",
       "      <th>Name</th>\n",
       "      <th>Transported</th>\n",
       "    </tr>\n",
       "  </thead>\n",
       "  <tbody>\n",
       "    <tr>\n",
       "      <th>0</th>\n",
       "      <td>0001_01</td>\n",
       "      <td>Europa</td>\n",
       "      <td>False</td>\n",
       "      <td>B/0/P</td>\n",
       "      <td>TRAPPIST-1e</td>\n",
       "      <td>39.0</td>\n",
       "      <td>False</td>\n",
       "      <td>0.0</td>\n",
       "      <td>0.0</td>\n",
       "      <td>0.0</td>\n",
       "      <td>0.0</td>\n",
       "      <td>0.0</td>\n",
       "      <td>Maham Ofracculy</td>\n",
       "      <td>False</td>\n",
       "    </tr>\n",
       "    <tr>\n",
       "      <th>1</th>\n",
       "      <td>0002_01</td>\n",
       "      <td>Earth</td>\n",
       "      <td>False</td>\n",
       "      <td>F/0/S</td>\n",
       "      <td>TRAPPIST-1e</td>\n",
       "      <td>24.0</td>\n",
       "      <td>False</td>\n",
       "      <td>109.0</td>\n",
       "      <td>9.0</td>\n",
       "      <td>25.0</td>\n",
       "      <td>549.0</td>\n",
       "      <td>44.0</td>\n",
       "      <td>Juanna Vines</td>\n",
       "      <td>True</td>\n",
       "    </tr>\n",
       "    <tr>\n",
       "      <th>2</th>\n",
       "      <td>0003_01</td>\n",
       "      <td>Europa</td>\n",
       "      <td>False</td>\n",
       "      <td>A/0/S</td>\n",
       "      <td>TRAPPIST-1e</td>\n",
       "      <td>58.0</td>\n",
       "      <td>True</td>\n",
       "      <td>43.0</td>\n",
       "      <td>3576.0</td>\n",
       "      <td>0.0</td>\n",
       "      <td>6715.0</td>\n",
       "      <td>49.0</td>\n",
       "      <td>Altark Susent</td>\n",
       "      <td>False</td>\n",
       "    </tr>\n",
       "  </tbody>\n",
       "</table>\n",
       "</div>"
      ],
      "text/plain": [
       "  PassengerId HomePlanet CryoSleep  Cabin  Destination   Age    VIP  \\\n",
       "0     0001_01     Europa     False  B/0/P  TRAPPIST-1e  39.0  False   \n",
       "1     0002_01      Earth     False  F/0/S  TRAPPIST-1e  24.0  False   \n",
       "2     0003_01     Europa     False  A/0/S  TRAPPIST-1e  58.0   True   \n",
       "\n",
       "   RoomService  FoodCourt  ShoppingMall     Spa  VRDeck             Name  \\\n",
       "0          0.0        0.0           0.0     0.0     0.0  Maham Ofracculy   \n",
       "1        109.0        9.0          25.0   549.0    44.0     Juanna Vines   \n",
       "2         43.0     3576.0           0.0  6715.0    49.0    Altark Susent   \n",
       "\n",
       "   Transported  \n",
       "0        False  \n",
       "1         True  \n",
       "2        False  "
      ]
     },
     "execution_count": 4,
     "metadata": {},
     "output_type": "execute_result"
    }
   ],
   "source": [
    "dataset_df.head(3)"
   ]
  },
  {
   "cell_type": "markdown",
   "id": "8d0411e1-0d25-4e90-81ca-37e621c7ca22",
   "metadata": {},
   "source": [
    "There are 12 feature columns. Using these features your model has to predict whether the passenger is rescued or not indicated by the column ```Transported```.\n",
    "\n"
   ]
  },
  {
   "cell_type": "markdown",
   "id": "b48d250e-d666-4f88-b0e7-fffe62a609da",
   "metadata": {
    "tags": []
   },
   "source": [
    "### Let's perform a basic exploration of the dataset"
   ]
  },
  {
   "cell_type": "code",
   "execution_count": 5,
   "id": "d1127530-bada-420c-aa1e-e776b4065ccc",
   "metadata": {
    "tags": []
   },
   "outputs": [
    {
     "data": {
      "text/html": [
       "<div>\n",
       "<style scoped>\n",
       "    .dataframe tbody tr th:only-of-type {\n",
       "        vertical-align: middle;\n",
       "    }\n",
       "\n",
       "    .dataframe tbody tr th {\n",
       "        vertical-align: top;\n",
       "    }\n",
       "\n",
       "    .dataframe thead th {\n",
       "        text-align: right;\n",
       "    }\n",
       "</style>\n",
       "<table border=\"1\" class=\"dataframe\">\n",
       "  <thead>\n",
       "    <tr style=\"text-align: right;\">\n",
       "      <th></th>\n",
       "      <th>Age</th>\n",
       "      <th>RoomService</th>\n",
       "      <th>FoodCourt</th>\n",
       "      <th>ShoppingMall</th>\n",
       "      <th>Spa</th>\n",
       "      <th>VRDeck</th>\n",
       "    </tr>\n",
       "  </thead>\n",
       "  <tbody>\n",
       "    <tr>\n",
       "      <th>count</th>\n",
       "      <td>8514.000000</td>\n",
       "      <td>8512.000000</td>\n",
       "      <td>8510.000000</td>\n",
       "      <td>8485.000000</td>\n",
       "      <td>8510.000000</td>\n",
       "      <td>8505.000000</td>\n",
       "    </tr>\n",
       "    <tr>\n",
       "      <th>mean</th>\n",
       "      <td>28.827930</td>\n",
       "      <td>224.687617</td>\n",
       "      <td>458.077203</td>\n",
       "      <td>173.729169</td>\n",
       "      <td>311.138778</td>\n",
       "      <td>304.854791</td>\n",
       "    </tr>\n",
       "    <tr>\n",
       "      <th>std</th>\n",
       "      <td>14.489021</td>\n",
       "      <td>666.717663</td>\n",
       "      <td>1611.489240</td>\n",
       "      <td>604.696458</td>\n",
       "      <td>1136.705535</td>\n",
       "      <td>1145.717189</td>\n",
       "    </tr>\n",
       "    <tr>\n",
       "      <th>min</th>\n",
       "      <td>0.000000</td>\n",
       "      <td>0.000000</td>\n",
       "      <td>0.000000</td>\n",
       "      <td>0.000000</td>\n",
       "      <td>0.000000</td>\n",
       "      <td>0.000000</td>\n",
       "    </tr>\n",
       "    <tr>\n",
       "      <th>25%</th>\n",
       "      <td>19.000000</td>\n",
       "      <td>0.000000</td>\n",
       "      <td>0.000000</td>\n",
       "      <td>0.000000</td>\n",
       "      <td>0.000000</td>\n",
       "      <td>0.000000</td>\n",
       "    </tr>\n",
       "    <tr>\n",
       "      <th>50%</th>\n",
       "      <td>27.000000</td>\n",
       "      <td>0.000000</td>\n",
       "      <td>0.000000</td>\n",
       "      <td>0.000000</td>\n",
       "      <td>0.000000</td>\n",
       "      <td>0.000000</td>\n",
       "    </tr>\n",
       "    <tr>\n",
       "      <th>75%</th>\n",
       "      <td>38.000000</td>\n",
       "      <td>47.000000</td>\n",
       "      <td>76.000000</td>\n",
       "      <td>27.000000</td>\n",
       "      <td>59.000000</td>\n",
       "      <td>46.000000</td>\n",
       "    </tr>\n",
       "    <tr>\n",
       "      <th>max</th>\n",
       "      <td>79.000000</td>\n",
       "      <td>14327.000000</td>\n",
       "      <td>29813.000000</td>\n",
       "      <td>23492.000000</td>\n",
       "      <td>22408.000000</td>\n",
       "      <td>24133.000000</td>\n",
       "    </tr>\n",
       "  </tbody>\n",
       "</table>\n",
       "</div>"
      ],
      "text/plain": [
       "               Age   RoomService     FoodCourt  ShoppingMall           Spa  \\\n",
       "count  8514.000000   8512.000000   8510.000000   8485.000000   8510.000000   \n",
       "mean     28.827930    224.687617    458.077203    173.729169    311.138778   \n",
       "std      14.489021    666.717663   1611.489240    604.696458   1136.705535   \n",
       "min       0.000000      0.000000      0.000000      0.000000      0.000000   \n",
       "25%      19.000000      0.000000      0.000000      0.000000      0.000000   \n",
       "50%      27.000000      0.000000      0.000000      0.000000      0.000000   \n",
       "75%      38.000000     47.000000     76.000000     27.000000     59.000000   \n",
       "max      79.000000  14327.000000  29813.000000  23492.000000  22408.000000   \n",
       "\n",
       "             VRDeck  \n",
       "count   8505.000000  \n",
       "mean     304.854791  \n",
       "std     1145.717189  \n",
       "min        0.000000  \n",
       "25%        0.000000  \n",
       "50%        0.000000  \n",
       "75%       46.000000  \n",
       "max    24133.000000  "
      ]
     },
     "execution_count": 5,
     "metadata": {},
     "output_type": "execute_result"
    }
   ],
   "source": [
    "dataset_df.describe()"
   ]
  },
  {
   "cell_type": "code",
   "execution_count": 6,
   "id": "7f202331-e972-4eef-85fe-a85b84581304",
   "metadata": {
    "tags": []
   },
   "outputs": [
    {
     "name": "stdout",
     "output_type": "stream",
     "text": [
      "<class 'pandas.core.frame.DataFrame'>\n",
      "RangeIndex: 8693 entries, 0 to 8692\n",
      "Data columns (total 14 columns):\n",
      " #   Column        Non-Null Count  Dtype  \n",
      "---  ------        --------------  -----  \n",
      " 0   PassengerId   8693 non-null   object \n",
      " 1   HomePlanet    8492 non-null   object \n",
      " 2   CryoSleep     8476 non-null   object \n",
      " 3   Cabin         8494 non-null   object \n",
      " 4   Destination   8511 non-null   object \n",
      " 5   Age           8514 non-null   float64\n",
      " 6   VIP           8490 non-null   object \n",
      " 7   RoomService   8512 non-null   float64\n",
      " 8   FoodCourt     8510 non-null   float64\n",
      " 9   ShoppingMall  8485 non-null   float64\n",
      " 10  Spa           8510 non-null   float64\n",
      " 11  VRDeck        8505 non-null   float64\n",
      " 12  Name          8493 non-null   object \n",
      " 13  Transported   8693 non-null   bool   \n",
      "dtypes: bool(1), float64(6), object(7)\n",
      "memory usage: 891.5+ KB\n"
     ]
    }
   ],
   "source": [
    "dataset_df.info()"
   ]
  },
  {
   "cell_type": "markdown",
   "id": "8726d612-ff71-4e70-aaf3-fbd35a0db75f",
   "metadata": {},
   "source": [
    "#### Bar chart for ```Transported```"
   ]
  },
  {
   "cell_type": "code",
   "execution_count": 7,
   "id": "40e7c5b8-fcb0-4401-84bc-996886a1ba2b",
   "metadata": {
    "tags": []
   },
   "outputs": [
    {
     "data": {
      "text/plain": [
       "<Axes: xlabel='Transported'>"
      ]
     },
     "execution_count": 7,
     "metadata": {},
     "output_type": "execute_result"
    },
    {
     "data": {
      "image/png": "[encoded data removed]",
      "text/plain": [
       "<Figure size 640x480 with 1 Axes>"
      ]
     },
     "metadata": {},
     "output_type": "display_data"
    }
   ],
   "source": [
    "plot_df = dataset_df.Transported.value_counts()\n",
    "plot_df.plot(kind=\"bar\", color=('green','red'))"
   ]
  },
  {
   "cell_type": "markdown",
   "id": "c10e52c5-82ec-44c9-aa52-6a3d03f39623",
   "metadata": {},
   "source": [
    "#### Numerical data distribution"
   ]
  },
  {
   "cell_type": "code",
   "execution_count": 8,
   "id": "4960e1c6-9f57-41ee-9bdb-a6c6b619317f",
   "metadata": {
    "tags": []
   },
   "outputs": [
    {
     "data": {
      "image/png": "[encoded data removed]",
      "text/plain": [
       "<Figure size 1000x1000 with 5 Axes>"
      ]
     },
     "metadata": {},
     "output_type": "display_data"
    }
   ],
   "source": [
    "fig, ax = plt.subplots(5,1,  figsize=(10, 10))\n",
    "plt.subplots_adjust(top = 2)\n",
    "\n",
    "sns.histplot(dataset_df['Age'], color='coral', bins=50, ax=ax[0]);\n",
    "sns.histplot(dataset_df['FoodCourt'], color='coral', bins=50, ax=ax[1]);\n",
    "sns.histplot(dataset_df['ShoppingMall'], color='coral', bins=50, ax=ax[2]);\n",
    "sns.histplot(dataset_df['Spa'], color='coral', bins=50, ax=ax[3]);\n",
    "sns.histplot(dataset_df['VRDeck'], color='coral', bins=50, ax=ax[4]);"
   ]
  },
  {
   "cell_type": "markdown",
   "id": "21b2f31a-3de1-4d06-83b2-6695c2db10b3",
   "metadata": {},
   "source": [
    "### Let's Prepare the dataset\n",
    "\n",
    "We will drop both ```PassengerId``` and ```Name``` columns as they are not necessary for model training"
   ]
  },
  {
   "cell_type": "code",
   "execution_count": 9,
   "id": "dbf60386-7ced-419f-bd88-eceea2281fd6",
   "metadata": {
    "tags": []
   },
   "outputs": [
    {
     "data": {
      "text/html": [
       "<div>\n",
       "<style scoped>\n",
       "    .dataframe tbody tr th:only-of-type {\n",
       "        vertical-align: middle;\n",
       "    }\n",
       "\n",
       "    .dataframe tbody tr th {\n",
       "        vertical-align: top;\n",
       "    }\n",
       "\n",
       "    .dataframe thead th {\n",
       "        text-align: right;\n",
       "    }\n",
       "</style>\n",
       "<table border=\"1\" class=\"dataframe\">\n",
       "  <thead>\n",
       "    <tr style=\"text-align: right;\">\n",
       "      <th></th>\n",
       "      <th>HomePlanet</th>\n",
       "      <th>CryoSleep</th>\n",
       "      <th>Cabin</th>\n",
       "      <th>Destination</th>\n",
       "      <th>Age</th>\n",
       "      <th>VIP</th>\n",
       "      <th>RoomService</th>\n",
       "      <th>FoodCourt</th>\n",
       "      <th>ShoppingMall</th>\n",
       "      <th>Spa</th>\n",
       "      <th>VRDeck</th>\n",
       "      <th>Transported</th>\n",
       "    </tr>\n",
       "  </thead>\n",
       "  <tbody>\n",
       "    <tr>\n",
       "      <th>0</th>\n",
       "      <td>Europa</td>\n",
       "      <td>False</td>\n",
       "      <td>B/0/P</td>\n",
       "      <td>TRAPPIST-1e</td>\n",
       "      <td>39.0</td>\n",
       "      <td>False</td>\n",
       "      <td>0.0</td>\n",
       "      <td>0.0</td>\n",
       "      <td>0.0</td>\n",
       "      <td>0.0</td>\n",
       "      <td>0.0</td>\n",
       "      <td>False</td>\n",
       "    </tr>\n",
       "    <tr>\n",
       "      <th>1</th>\n",
       "      <td>Earth</td>\n",
       "      <td>False</td>\n",
       "      <td>F/0/S</td>\n",
       "      <td>TRAPPIST-1e</td>\n",
       "      <td>24.0</td>\n",
       "      <td>False</td>\n",
       "      <td>109.0</td>\n",
       "      <td>9.0</td>\n",
       "      <td>25.0</td>\n",
       "      <td>549.0</td>\n",
       "      <td>44.0</td>\n",
       "      <td>True</td>\n",
       "    </tr>\n",
       "    <tr>\n",
       "      <th>2</th>\n",
       "      <td>Europa</td>\n",
       "      <td>False</td>\n",
       "      <td>A/0/S</td>\n",
       "      <td>TRAPPIST-1e</td>\n",
       "      <td>58.0</td>\n",
       "      <td>True</td>\n",
       "      <td>43.0</td>\n",
       "      <td>3576.0</td>\n",
       "      <td>0.0</td>\n",
       "      <td>6715.0</td>\n",
       "      <td>49.0</td>\n",
       "      <td>False</td>\n",
       "    </tr>\n",
       "  </tbody>\n",
       "</table>\n",
       "</div>"
      ],
      "text/plain": [
       "  HomePlanet CryoSleep  Cabin  Destination   Age    VIP  RoomService  \\\n",
       "0     Europa     False  B/0/P  TRAPPIST-1e  39.0  False          0.0   \n",
       "1      Earth     False  F/0/S  TRAPPIST-1e  24.0  False        109.0   \n",
       "2     Europa     False  A/0/S  TRAPPIST-1e  58.0   True         43.0   \n",
       "\n",
       "   FoodCourt  ShoppingMall     Spa  VRDeck  Transported  \n",
       "0        0.0           0.0     0.0     0.0        False  \n",
       "1        9.0          25.0   549.0    44.0         True  \n",
       "2     3576.0           0.0  6715.0    49.0        False  "
      ]
     },
     "execution_count": 9,
     "metadata": {},
     "output_type": "execute_result"
    }
   ],
   "source": [
    "dataset_df = dataset_df.drop(['PassengerId', 'Name'], axis=1)\n",
    "dataset_df.head(3)"
   ]
  },
  {
   "cell_type": "markdown",
   "id": "7576341a-9ebc-4d24-8d29-b517f0acf663",
   "metadata": {},
   "source": [
    "Let's check for the missing values"
   ]
  },
  {
   "cell_type": "code",
   "execution_count": 10,
   "id": "fc48f4d9-4893-4e83-919b-87db28a4426e",
   "metadata": {
    "tags": []
   },
   "outputs": [
    {
     "data": {
      "text/plain": [
       "CryoSleep       217\n",
       "ShoppingMall    208\n",
       "VIP             203\n",
       "HomePlanet      201\n",
       "Cabin           199\n",
       "VRDeck          188\n",
       "FoodCourt       183\n",
       "Spa             183\n",
       "Destination     182\n",
       "RoomService     181\n",
       "Age             179\n",
       "Transported       0\n",
       "dtype: int64"
      ]
     },
     "execution_count": 10,
     "metadata": {},
     "output_type": "execute_result"
    }
   ],
   "source": [
    "dataset_df.isnull().sum().sort_values(ascending=False)"
   ]
  },
  {
   "cell_type": "markdown",
   "id": "9ab0a94a-4ebd-414b-8774-4692264ccee6",
   "metadata": {},
   "source": [
    "This dataset contains a mix of numeric, categorical and missing features. TF-DF supports all these feature types natively, and no preprocessing is required.\n",
    "\n",
    "But this datatset also has boolean fields with missing values. TF-DF doesn't support boolean fields yet. So we need to convert those fields into int. \n",
    "\n",
    "To account for the missing values let's input it with the mean values for each column."
   ]
  },
  {
   "cell_type": "code",
   "execution_count": 11,
   "id": "36cb7a7b-9249-48ac-ad63-fd08ebc7ac13",
   "metadata": {
    "tags": []
   },
   "outputs": [
    {
     "data": {
      "text/plain": [
       "HomePlanet      201\n",
       "Cabin           199\n",
       "Destination     182\n",
       "RoomService     181\n",
       "Age             179\n",
       "CryoSleep         0\n",
       "VIP               0\n",
       "FoodCourt         0\n",
       "ShoppingMall      0\n",
       "Spa               0\n",
       "VRDeck            0\n",
       "Transported       0\n",
       "dtype: int64"
      ]
     },
     "execution_count": 11,
     "metadata": {},
     "output_type": "execute_result"
    }
   ],
   "source": [
    "numerical_columns = ['FoodCourt', 'ShoppingMall', 'Spa', 'VRDeck']\n",
    "dataset_df[numerical_columns] = dataset_df[numerical_columns].fillna(dataset_df[numerical_columns].mean())\n",
    "\n",
    "categorical_columns = ['VIP', 'CryoSleep']\n",
    "dataset_df[categorical_columns] = dataset_df[categorical_columns].fillna(dataset_df[categorical_columns].mode().iloc[0])\n",
    "\n",
    "dataset_df.isnull().sum().sort_values(ascending=False)"
   ]
  },
  {
   "cell_type": "markdown",
   "id": "cce2260f-b791-41e4-9d2c-932d92d23d5f",
   "metadata": {},
   "source": [
    "Since, TF-DF cannot handle boolean columns, we will have to adjust the labels in column Transported to convert them into the integer format that TF-DF expects."
   ]
  },
  {
   "cell_type": "code",
   "execution_count": 12,
   "id": "cb2e263c-300e-4a19-aa38-9ff917238910",
   "metadata": {
    "tags": []
   },
   "outputs": [],
   "source": [
    "label = \"Transported\"\n",
    "dataset_df[label] = dataset_df[label].astype(int)"
   ]
  },
  {
   "cell_type": "markdown",
   "id": "bffb56c9-1d8c-4a67-8f4a-684b4fa8f381",
   "metadata": {},
   "source": [
    "Let's convert the boolean fields CryoSleep and VIP to int"
   ]
  },
  {
   "cell_type": "code",
   "execution_count": 13,
   "id": "987d0025-4a49-4fc3-b105-c171a0a52314",
   "metadata": {
    "tags": []
   },
   "outputs": [],
   "source": [
    "dataset_df['VIP'] = dataset_df['VIP'].astype(int)\n",
    "dataset_df['CryoSleep'] = dataset_df['CryoSleep'].astype(int)"
   ]
  },
  {
   "cell_type": "markdown",
   "id": "77e0b591-2922-4441-b8d7-e1b54ad0e8b8",
   "metadata": {
    "tags": []
   },
   "source": [
    "The value of column ```Cabin``` is a string with the format ```Deck/Cabin_num/Side```. Here we will split the ```Cabin``` column and create 3 new columns ```Deck```, ```Cabin_num``` and ```Side```, since it will be easier to train the model on those individual data."
   ]
  },
  {
   "cell_type": "code",
   "execution_count": 14,
   "id": "934f6258-6e2f-44c7-99a0-1d6a7cc3a84c",
   "metadata": {
    "tags": []
   },
   "outputs": [],
   "source": [
    "dataset_df[[\"Deck\", \"Cabin_num\", \"Side\"]] = dataset_df[\"Cabin\"].str.split(\"/\", expand=True)"
   ]
  },
  {
   "cell_type": "code",
   "execution_count": 15,
   "id": "d6dbfede-122f-4024-a2aa-ad54be2d4723",
   "metadata": {
    "tags": []
   },
   "outputs": [
    {
     "data": {
      "text/html": [
       "<div>\n",
       "<style scoped>\n",
       "    .dataframe tbody tr th:only-of-type {\n",
       "        vertical-align: middle;\n",
       "    }\n",
       "\n",
       "    .dataframe tbody tr th {\n",
       "        vertical-align: top;\n",
       "    }\n",
       "\n",
       "    .dataframe thead th {\n",
       "        text-align: right;\n",
       "    }\n",
       "</style>\n",
       "<table border=\"1\" class=\"dataframe\">\n",
       "  <thead>\n",
       "    <tr style=\"text-align: right;\">\n",
       "      <th></th>\n",
       "      <th>HomePlanet</th>\n",
       "      <th>CryoSleep</th>\n",
       "      <th>Cabin</th>\n",
       "      <th>Destination</th>\n",
       "      <th>Age</th>\n",
       "      <th>VIP</th>\n",
       "      <th>RoomService</th>\n",
       "      <th>FoodCourt</th>\n",
       "      <th>ShoppingMall</th>\n",
       "      <th>Spa</th>\n",
       "      <th>VRDeck</th>\n",
       "      <th>Transported</th>\n",
       "      <th>Deck</th>\n",
       "      <th>Cabin_num</th>\n",
       "      <th>Side</th>\n",
       "    </tr>\n",
       "  </thead>\n",
       "  <tbody>\n",
       "    <tr>\n",
       "      <th>0</th>\n",
       "      <td>Europa</td>\n",
       "      <td>0</td>\n",
       "      <td>B/0/P</td>\n",
       "      <td>TRAPPIST-1e</td>\n",
       "      <td>39.0</td>\n",
       "      <td>0</td>\n",
       "      <td>0.0</td>\n",
       "      <td>0.0</td>\n",
       "      <td>0.0</td>\n",
       "      <td>0.0</td>\n",
       "      <td>0.0</td>\n",
       "      <td>0</td>\n",
       "      <td>B</td>\n",
       "      <td>0</td>\n",
       "      <td>P</td>\n",
       "    </tr>\n",
       "    <tr>\n",
       "      <th>1</th>\n",
       "      <td>Earth</td>\n",
       "      <td>0</td>\n",
       "      <td>F/0/S</td>\n",
       "      <td>TRAPPIST-1e</td>\n",
       "      <td>24.0</td>\n",
       "      <td>0</td>\n",
       "      <td>109.0</td>\n",
       "      <td>9.0</td>\n",
       "      <td>25.0</td>\n",
       "      <td>549.0</td>\n",
       "      <td>44.0</td>\n",
       "      <td>1</td>\n",
       "      <td>F</td>\n",
       "      <td>0</td>\n",
       "      <td>S</td>\n",
       "    </tr>\n",
       "    <tr>\n",
       "      <th>2</th>\n",
       "      <td>Europa</td>\n",
       "      <td>0</td>\n",
       "      <td>A/0/S</td>\n",
       "      <td>TRAPPIST-1e</td>\n",
       "      <td>58.0</td>\n",
       "      <td>1</td>\n",
       "      <td>43.0</td>\n",
       "      <td>3576.0</td>\n",
       "      <td>0.0</td>\n",
       "      <td>6715.0</td>\n",
       "      <td>49.0</td>\n",
       "      <td>0</td>\n",
       "      <td>A</td>\n",
       "      <td>0</td>\n",
       "      <td>S</td>\n",
       "    </tr>\n",
       "  </tbody>\n",
       "</table>\n",
       "</div>"
      ],
      "text/plain": [
       "  HomePlanet  CryoSleep  Cabin  Destination   Age  VIP  RoomService  \\\n",
       "0     Europa          0  B/0/P  TRAPPIST-1e  39.0    0          0.0   \n",
       "1      Earth          0  F/0/S  TRAPPIST-1e  24.0    0        109.0   \n",
       "2     Europa          0  A/0/S  TRAPPIST-1e  58.0    1         43.0   \n",
       "\n",
       "   FoodCourt  ShoppingMall     Spa  VRDeck  Transported Deck Cabin_num Side  \n",
       "0        0.0           0.0     0.0     0.0            0    B         0    P  \n",
       "1        9.0          25.0   549.0    44.0            1    F         0    S  \n",
       "2     3576.0           0.0  6715.0    49.0            0    A         0    S  "
      ]
     },
     "execution_count": 15,
     "metadata": {},
     "output_type": "execute_result"
    }
   ],
   "source": [
    "dataset_df.head(3)"
   ]
  },
  {
   "cell_type": "markdown",
   "id": "b8ca469e-9075-4063-a5bc-079e2b445566",
   "metadata": {},
   "source": [
    "Now, we can remove ```Cabin``` feature from the dataset"
   ]
  },
  {
   "cell_type": "code",
   "execution_count": 16,
   "id": "600892e4-ccaf-42b8-9d92-7c7095ab2121",
   "metadata": {
    "tags": []
   },
   "outputs": [],
   "source": [
    "try:\n",
    "    dataset_df = dataset_df.drop('Cabin', axis=1)\n",
    "except KeyError:\n",
    "    print(\"Field does not exist\")"
   ]
  },
  {
   "cell_type": "code",
   "execution_count": 17,
   "id": "6103ab6f-548c-4cd7-96ff-a5d7ea276910",
   "metadata": {
    "tags": []
   },
   "outputs": [
    {
     "data": {
      "text/html": [
       "<div>\n",
       "<style scoped>\n",
       "    .dataframe tbody tr th:only-of-type {\n",
       "        vertical-align: middle;\n",
       "    }\n",
       "\n",
       "    .dataframe tbody tr th {\n",
       "        vertical-align: top;\n",
       "    }\n",
       "\n",
       "    .dataframe thead th {\n",
       "        text-align: right;\n",
       "    }\n",
       "</style>\n",
       "<table border=\"1\" class=\"dataframe\">\n",
       "  <thead>\n",
       "    <tr style=\"text-align: right;\">\n",
       "      <th></th>\n",
       "      <th>HomePlanet</th>\n",
       "      <th>CryoSleep</th>\n",
       "      <th>Destination</th>\n",
       "      <th>Age</th>\n",
       "      <th>VIP</th>\n",
       "      <th>RoomService</th>\n",
       "      <th>FoodCourt</th>\n",
       "      <th>ShoppingMall</th>\n",
       "      <th>Spa</th>\n",
       "      <th>VRDeck</th>\n",
       "      <th>Transported</th>\n",
       "      <th>Deck</th>\n",
       "      <th>Cabin_num</th>\n",
       "      <th>Side</th>\n",
       "    </tr>\n",
       "  </thead>\n",
       "  <tbody>\n",
       "    <tr>\n",
       "      <th>0</th>\n",
       "      <td>Europa</td>\n",
       "      <td>0</td>\n",
       "      <td>TRAPPIST-1e</td>\n",
       "      <td>39.0</td>\n",
       "      <td>0</td>\n",
       "      <td>0.0</td>\n",
       "      <td>0.0</td>\n",
       "      <td>0.0</td>\n",
       "      <td>0.0</td>\n",
       "      <td>0.0</td>\n",
       "      <td>0</td>\n",
       "      <td>B</td>\n",
       "      <td>0</td>\n",
       "      <td>P</td>\n",
       "    </tr>\n",
       "    <tr>\n",
       "      <th>1</th>\n",
       "      <td>Earth</td>\n",
       "      <td>0</td>\n",
       "      <td>TRAPPIST-1e</td>\n",
       "      <td>24.0</td>\n",
       "      <td>0</td>\n",
       "      <td>109.0</td>\n",
       "      <td>9.0</td>\n",
       "      <td>25.0</td>\n",
       "      <td>549.0</td>\n",
       "      <td>44.0</td>\n",
       "      <td>1</td>\n",
       "      <td>F</td>\n",
       "      <td>0</td>\n",
       "      <td>S</td>\n",
       "    </tr>\n",
       "    <tr>\n",
       "      <th>2</th>\n",
       "      <td>Europa</td>\n",
       "      <td>0</td>\n",
       "      <td>TRAPPIST-1e</td>\n",
       "      <td>58.0</td>\n",
       "      <td>1</td>\n",
       "      <td>43.0</td>\n",
       "      <td>3576.0</td>\n",
       "      <td>0.0</td>\n",
       "      <td>6715.0</td>\n",
       "      <td>49.0</td>\n",
       "      <td>0</td>\n",
       "      <td>A</td>\n",
       "      <td>0</td>\n",
       "      <td>S</td>\n",
       "    </tr>\n",
       "  </tbody>\n",
       "</table>\n",
       "</div>"
      ],
      "text/plain": [
       "  HomePlanet  CryoSleep  Destination   Age  VIP  RoomService  FoodCourt  \\\n",
       "0     Europa          0  TRAPPIST-1e  39.0    0          0.0        0.0   \n",
       "1      Earth          0  TRAPPIST-1e  24.0    0        109.0        9.0   \n",
       "2     Europa          0  TRAPPIST-1e  58.0    1         43.0     3576.0   \n",
       "\n",
       "   ShoppingMall     Spa  VRDeck  Transported Deck Cabin_num Side  \n",
       "0           0.0     0.0     0.0            0    B         0    P  \n",
       "1          25.0   549.0    44.0            1    F         0    S  \n",
       "2           0.0  6715.0    49.0            0    A         0    S  "
      ]
     },
     "execution_count": 17,
     "metadata": {},
     "output_type": "execute_result"
    }
   ],
   "source": [
    "dataset_df.head(3)"
   ]
  },
  {
   "cell_type": "code",
   "execution_count": 18,
   "id": "6da4259f-d995-44ac-9660-ad7176756526",
   "metadata": {
    "tags": []
   },
   "outputs": [
    {
     "name": "stdout",
     "output_type": "stream",
     "text": [
      "<class 'pandas.core.frame.DataFrame'>\n",
      "RangeIndex: 8693 entries, 0 to 8692\n",
      "Data columns (total 14 columns):\n",
      " #   Column        Non-Null Count  Dtype  \n",
      "---  ------        --------------  -----  \n",
      " 0   HomePlanet    8492 non-null   object \n",
      " 1   CryoSleep     8693 non-null   int64  \n",
      " 2   Destination   8511 non-null   object \n",
      " 3   Age           8514 non-null   float64\n",
      " 4   VIP           8693 non-null   int64  \n",
      " 5   RoomService   8512 non-null   float64\n",
      " 6   FoodCourt     8693 non-null   float64\n",
      " 7   ShoppingMall  8693 non-null   float64\n",
      " 8   Spa           8693 non-null   float64\n",
      " 9   VRDeck        8693 non-null   float64\n",
      " 10  Transported   8693 non-null   int64  \n",
      " 11  Deck          8494 non-null   object \n",
      " 12  Cabin_num     8494 non-null   object \n",
      " 13  Side          8494 non-null   object \n",
      "dtypes: float64(6), int64(3), object(5)\n",
      "memory usage: 950.9+ KB\n"
     ]
    }
   ],
   "source": [
    "dataset_df.info()"
   ]
  },
  {
   "cell_type": "code",
   "execution_count": 19,
   "id": "de7b43cb-a16f-4633-8fc8-ebd265d08724",
   "metadata": {
    "tags": []
   },
   "outputs": [],
   "source": [
    "# dataset_df.isnull().sum().sort_values(ascending=False)"
   ]
  },
  {
   "cell_type": "markdown",
   "id": "b86110bd-c083-4315-a4ea-be3beffc5fef",
   "metadata": {
    "tags": []
   },
   "source": [
    "#### We still have the following missing values:\n",
    "\n",
    "- HomePlanet      201 -> object\n",
    "- Deck            199 -> object\n",
    "- Cabin_num       199 -> object\n",
    "- Side            199 -> object\n",
    "- Destination     182 -> object\n",
    "- RoomService     181 -> float64\n",
    "- Age             179 -> float64\n",
    "\n",
    "Let's fill them with mode and mean"
   ]
  },
  {
   "cell_type": "code",
   "execution_count": 20,
   "id": "5c1828c3-3b15-4c32-a7f9-5dcf0346a8d6",
   "metadata": {
    "tags": []
   },
   "outputs": [
    {
     "data": {
      "text/plain": [
       "HomePlanet      0\n",
       "CryoSleep       0\n",
       "Destination     0\n",
       "Age             0\n",
       "VIP             0\n",
       "RoomService     0\n",
       "FoodCourt       0\n",
       "ShoppingMall    0\n",
       "Spa             0\n",
       "VRDeck          0\n",
       "Transported     0\n",
       "Deck            0\n",
       "Cabin_num       0\n",
       "Side            0\n",
       "dtype: int64"
      ]
     },
     "execution_count": 20,
     "metadata": {},
     "output_type": "execute_result"
    }
   ],
   "source": [
    "categorical_columns = ['HomePlanet', 'Deck', 'Cabin_num', 'Side', 'Destination']\n",
    "dataset_df[categorical_columns] = dataset_df[categorical_columns].fillna(dataset_df[categorical_columns].mode().iloc[0])\n",
    "\n",
    "numerical_columns = ['RoomService', 'Age']\n",
    "dataset_df[numerical_columns] = dataset_df[numerical_columns].fillna(dataset_df[numerical_columns].mean())\n",
    "\n",
    "dataset_df.isnull().sum().sort_values(ascending=False)"
   ]
  },
  {
   "cell_type": "markdown",
   "id": "d5b20fe7-189e-480e-be27-adf9fc74f056",
   "metadata": {},
   "source": [
    "#### Let's Split the dataset"
   ]
  },
  {
   "cell_type": "code",
   "execution_count": 21,
   "id": "a5926102-e346-4d8e-9e1e-c97728729c83",
   "metadata": {
    "tags": []
   },
   "outputs": [],
   "source": [
    "train_ds_pd, valid_ds_pd = train_test_split(\n",
    "    dataset_df, \n",
    "    test_size=0.2, \n",
    "    random_state=42, \n",
    "    stratify=dataset_df[label]\n",
    ")"
   ]
  },
  {
   "cell_type": "markdown",
   "id": "44dee4a5-f31d-41ea-9d86-94188bf4117a",
   "metadata": {},
   "source": [
    "We need to transform it to tensorflow dataset"
   ]
  },
  {
   "cell_type": "code",
   "execution_count": 22,
   "id": "009f89cb-a0f2-40b9-8d5a-142235426be2",
   "metadata": {
    "tags": []
   },
   "outputs": [
    {
     "name": "stderr",
     "output_type": "stream",
     "text": [
      "WARNING: All log messages before absl::InitializeLog() is called are written to STDERR\n",
      "I0000 00:00:1731516551.974873   91721 cuda_executor.cc:1001] could not open file to read NUMA node: /sys/bus/pci/devices/0000:01:00.0/numa_node\n",
      "Your kernel may have been built without NUMA support.\n",
      "2024-11-13 13:49:12.253751: W tensorflow/core/common_runtime/gpu/gpu_device.cc:2343] Cannot dlopen some GPU libraries. Please make sure the missing libraries mentioned above are installed properly if you would like to use GPU. Follow the guide at https://www.tensorflow.org/install/gpu for how to download and setup the required libraries for your platform.\n",
      "Skipping registering GPU devices...\n"
     ]
    }
   ],
   "source": [
    "train_ds = tfdf.keras.pd_dataframe_to_tf_dataset(train_ds_pd, label=label)\n",
    "valid_ds = tfdf.keras.pd_dataframe_to_tf_dataset(valid_ds_pd, label=label)"
   ]
  },
  {
   "cell_type": "markdown",
   "id": "edd36397-030e-46c8-b74e-319e30ec55fd",
   "metadata": {
    "tags": []
   },
   "source": [
    "Checking the distribution"
   ]
  },
  {
   "cell_type": "code",
   "execution_count": 23,
   "id": "1bf4da35-0ee4-4b06-8c20-0d980a2c85a2",
   "metadata": {
    "tags": []
   },
   "outputs": [
    {
     "name": "stdout",
     "output_type": "stream",
     "text": [
      "6954 examples in train the set and 1739 examples in the validation set\n"
     ]
    }
   ],
   "source": [
    "print(f\"{len(train_ds_pd)} examples in train the set and {len(valid_ds_pd)} examples in the validation set\")"
   ]
  },
  {
   "cell_type": "code",
   "execution_count": 24,
   "id": "cdc0e337-3d3a-45f9-b7dc-d8cc616b660f",
   "metadata": {
    "tags": []
   },
   "outputs": [
    {
     "name": "stdout",
     "output_type": "stream",
     "text": [
      "Transported\n",
      "1    0.503595\n",
      "0    0.496405\n",
      "Name: proportion, dtype: float64\n"
     ]
    }
   ],
   "source": [
    "train_distribution = train_ds_pd[label].value_counts(normalize=True)\n",
    "print(train_distribution)"
   ]
  },
  {
   "cell_type": "code",
   "execution_count": 25,
   "id": "747e1421-3d1c-49bd-bb57-f2e9a6f49d2d",
   "metadata": {
    "tags": []
   },
   "outputs": [
    {
     "name": "stdout",
     "output_type": "stream",
     "text": [
      "Transported\n",
      "1    0.503738\n",
      "0    0.496262\n",
      "Name: proportion, dtype: float64\n"
     ]
    }
   ],
   "source": [
    "valid_distribution = valid_ds_pd[label].value_counts(normalize=True)\n",
    "print(valid_distribution)"
   ]
  },
  {
   "cell_type": "markdown",
   "id": "c7b0d723-3ea1-4fd7-83ee-dc2b5cd41185",
   "metadata": {
    "tags": []
   },
   "source": [
    "## First submission"
   ]
  },
  {
   "cell_type": "markdown",
   "id": "3648b67d-6556-4807-8888-a156ac2cf7ca",
   "metadata": {
    "tags": []
   },
   "source": [
    "### We can select a model or use them all\n",
    "\n",
    "There are several tree-based models for you to choose from.\n",
    "- RandomForestModel\n",
    "- GradientBoostedTreesModel\n",
    "- CartModel\n",
    "- DistributedGradientBoostedTreesModel"
   ]
  },
  {
   "cell_type": "code",
   "execution_count": 26,
   "id": "42e89c25-344d-4664-bde2-7cf6655105a5",
   "metadata": {
    "tags": []
   },
   "outputs": [
    {
     "data": {
      "text/plain": [
       "[tensorflow_decision_forests.keras.RandomForestModel,\n",
       " tensorflow_decision_forests.keras.GradientBoostedTreesModel,\n",
       " tensorflow_decision_forests.keras.CartModel,\n",
       " tensorflow_decision_forests.keras.DistributedGradientBoostedTreesModel]"
      ]
     },
     "execution_count": 26,
     "metadata": {},
     "output_type": "execute_result"
    }
   ],
   "source": [
    "tfdf.keras.get_all_models()"
   ]
  },
  {
   "cell_type": "markdown",
   "id": "79d45b6d-185f-42cc-87f9-21327a679a41",
   "metadata": {},
   "source": [
    "##### Configure the model\n",
    "\n",
    "TensorFlow Decision Forests provides good defaults for you (e.g. the top ranking hyperparameters on our benchmarks, slightly modified to run in reasonable time). If you would like to configure the learning algorithm, you will find many options you can explore to get the highest possible accuracy.\n",
    "\n",
    "You can select a template and/or set parameters as follows:\n",
    "\n",
    "```rf = tfdf.keras.RandomForestModel(hyperparameter_template=\"benchmark_rank1\")```"
   ]
  },
  {
   "cell_type": "markdown",
   "id": "adbb9b50-8361-439f-ac2b-8cc95ba8d37d",
   "metadata": {},
   "source": [
    "#### Let's create a Random Forest with our data"
   ]
  },
  {
   "cell_type": "code",
   "execution_count": 27,
   "id": "9610bc4e-5264-43ae-8b36-ebbafdc69744",
   "metadata": {
    "tags": []
   },
   "outputs": [
    {
     "name": "stdout",
     "output_type": "stream",
     "text": [
      "Use /tmp/tmpgoc_dksx as temporary training directory\n"
     ]
    }
   ],
   "source": [
    "rf = tfdf.keras.RandomForestModel()\n",
    "rf.compile(metrics=[\"accuracy\"]) # Optional, you can use this to include a list of eval metrics"
   ]
  },
  {
   "cell_type": "markdown",
   "id": "ce8369ac-b1ee-4060-becc-050c38efc9f5",
   "metadata": {},
   "source": [
    "#### Starting the training phase"
   ]
  },
  {
   "cell_type": "code",
   "execution_count": 28,
   "id": "06582d61-ab13-4f72-b85c-effac33ccd56",
   "metadata": {
    "tags": []
   },
   "outputs": [
    {
     "name": "stdout",
     "output_type": "stream",
     "text": [
      "Reading training dataset...\n",
      "Training dataset read in 0:00:02.368458. Found 6954 examples.\n",
      "Training model...\n"
     ]
    },
    {
     "name": "stderr",
     "output_type": "stream",
     "text": [
      "WARNING: All log messages before absl::InitializeLog() is called are written to STDERR\n",
      "I0000 00:00:1731516554.742494   91721 kernel.cc:774] Start Yggdrasil model training\n",
      "I0000 00:00:1731516554.742913   91721 kernel.cc:775] Collect training examples\n",
      "I0000 00:00:1731516554.742960   91721 kernel.cc:787] Dataspec guide:\n",
      "column_guides {\n",
      "  column_name_pattern: \"^__LABEL$\"\n",
      "  type: CATEGORICAL\n",
      "  categorial {\n",
      "    min_vocab_frequency: 0\n",
      "    max_vocab_count: -1\n",
      "  }\n",
      "}\n",
      "default_column_guide {\n",
      "  categorial {\n",
      "    max_vocab_count: 2000\n",
      "  }\n",
      "  discretized_numerical {\n",
      "    maximum_num_bins: 255\n",
      "  }\n",
      "}\n",
      "ignore_columns_without_guides: false\n",
      "detect_numerical_as_discretized_numerical: false\n",
      "\n",
      "I0000 00:00:1731516554.743243   91721 kernel.cc:394] Number of batches: 7\n",
      "I0000 00:00:1731516554.743279   91721 kernel.cc:395] Number of examples: 6954\n",
      "I0000 00:00:1731516554.744862   91721 data_spec_inference.cc:306] 1273 item(s) have been pruned (i.e. they are considered out of dictionary) for the column Cabin_num (472 item(s) left) because min_value_count=5 and max_number_of_unique_values=2000\n",
      "I0000 00:00:1731516554.745002   91721 data_spec_inference.cc:306] 1 item(s) have been pruned (i.e. they are considered out of dictionary) for the column Deck (7 item(s) left) because min_value_count=5 and max_number_of_unique_values=2000\n",
      "I0000 00:00:1731516554.745798   91721 kernel.cc:794] Training dataset:\n",
      "Number of records: 6954\n",
      "Number of columns: 14\n",
      "\n",
      "Number of columns by type:\n",
      "\tNUMERICAL: 8 (57.1429%)\n",
      "\tCATEGORICAL: 6 (42.8571%)\n",
      "\n",
      "Columns:\n",
      "\n",
      "NUMERICAL: 8 (57.1429%)\n",
      "\t0: \"Age\" NUMERICAL mean:28.6867 min:0 max:79 sd:14.3508\n",
      "\t2: \"CryoSleep\" NUMERICAL mean:0.350302 min:0 max:1 sd:0.477064\n",
      "\t5: \"FoodCourt\" NUMERICAL mean:452.732 min:0 max:29813 sd:1584.51\n",
      "\t7: \"RoomService\" NUMERICAL mean:230.036 min:0 max:14327 sd:669.201\n",
      "\t8: \"ShoppingMall\" NUMERICAL mean:170.123 min:0 max:12253 sd:542.005\n",
      "\t10: \"Spa\" NUMERICAL mean:308.917 min:0 max:22408 sd:1129.65\n",
      "\t11: \"VIP\" NUMERICAL mean:0.0228645 min:0 max:1 sd:0.149472\n",
      "\t12: \"VRDeck\" NUMERICAL mean:296.82 min:0 max:20336 sd:1096.96\n",
      "\n",
      "CATEGORICAL: 6 (42.8571%)\n",
      "\t1: \"Cabin_num\" CATEGORICAL has-dict vocab-size:473 num-oods:2861 (41.1418%) most-frequent:\"<OOD>\" 2861 (41.1418%)\n",
      "\t3: \"Deck\" CATEGORICAL has-dict vocab-size:8 num-oods:4 (0.0575209%) most-frequent:\"F\" 2389 (34.3543%)\n",
      "\t4: \"Destination\" CATEGORICAL has-dict vocab-size:4 zero-ood-items most-frequent:\"TRAPPIST-1e\" 4847 (69.7009%)\n",
      "\t6: \"HomePlanet\" CATEGORICAL has-dict vocab-size:4 zero-ood-items most-frequent:\"Earth\" 3842 (55.2488%)\n",
      "\t9: \"Side\" CATEGORICAL has-dict vocab-size:3 zero-ood-items most-frequent:\"S\" 3573 (51.3805%)\n",
      "\t13: \"__LABEL\" CATEGORICAL integerized vocab-size:3 no-ood-item\n",
      "\n",
      "Terminology:\n",
      "\tnas: Number of non-available (i.e. missing) values.\n",
      "\tood: Out of dictionary.\n",
      "\tmanually-defined: Attribute whose type is manually defined by the user, i.e., the type was not automatically inferred.\n",
      "\ttokenized: The attribute value is obtained through tokenization.\n",
      "\thas-dict: The attribute is attached to a string dictionary e.g. a categorical attribute stored as a string.\n",
      "\tvocab-size: Number of unique values.\n",
      "\n",
      "I0000 00:00:1731516554.745883   91721 kernel.cc:810] Configure learner\n",
      "I0000 00:00:1731516554.746083   91721 kernel.cc:824] Training config:\n",
      "learner: \"RANDOM_FOREST\"\n",
      "features: \"^Age$\"\n",
      "features: \"^Cabin_num$\"\n",
      "features: \"^CryoSleep$\"\n",
      "features: \"^Deck$\"\n",
      "features: \"^Destination$\"\n",
      "features: \"^FoodCourt$\"\n",
      "features: \"^HomePlanet$\"\n",
      "features: \"^RoomService$\"\n",
      "features: \"^ShoppingMall$\"\n",
      "features: \"^Side$\"\n",
      "features: \"^Spa$\"\n",
      "features: \"^VIP$\"\n",
      "features: \"^VRDeck$\"\n",
      "label: \"^__LABEL$\"\n",
      "task: CLASSIFICATION\n",
      "random_seed: 123456\n",
      "metadata {\n",
      "  framework: \"TF Keras\"\n",
      "}\n",
      "pure_serving_model: false\n",
      "[yggdrasil_decision_forests.model.random_forest.proto.random_forest_config] {\n",
      "  num_trees: 300\n",
      "  decision_tree {\n",
      "    max_depth: 16\n",
      "    min_examples: 5\n",
      "    in_split_min_examples_check: true\n",
      "    keep_non_leaf_label_distribution: true\n",
      "    num_candidate_attributes: 0\n",
      "    missing_value_policy: GLOBAL_IMPUTATION\n",
      "    allow_na_conditions: false\n",
      "    categorical_set_greedy_forward {\n",
      "      sampling: 0.1\n",
      "      max_num_items: -1\n",
      "      min_item_frequency: 1\n",
      "    }\n",
      "    growing_strategy_local {\n",
      "    }\n",
      "    categorical {\n",
      "      cart {\n",
      "      }\n",
      "    }\n",
      "    axis_aligned_split {\n",
      "    }\n",
      "    internal {\n",
      "      sorting_strategy: PRESORTED\n",
      "    }\n",
      "    uplift {\n",
      "      min_examples_in_treatment: 5\n",
      "      split_score: KULLBACK_LEIBLER\n",
      "    }\n",
      "  }\n",
      "  winner_take_all_inference: true\n",
      "  compute_oob_performances: true\n",
      "  compute_oob_variable_importances: false\n",
      "  num_oob_variable_importances_permutations: 1\n",
      "  bootstrap_training_dataset: true\n",
      "  bootstrap_size_ratio: 1\n",
      "  adapt_bootstrap_size_ratio_for_maximum_training_duration: false\n",
      "  sampling_with_replacement: true\n",
      "}\n",
      "\n",
      "I0000 00:00:1731516554.746357   91721 kernel.cc:827] Deployment config:\n",
      "cache_path: \"/tmp/tmpgoc_dksx/working_cache\"\n",
      "num_threads: 12\n",
      "try_resume_training: true\n",
      "\n",
      "I0000 00:00:1731516554.746507   91860 kernel.cc:888] Train model\n",
      "I0000 00:00:1731516554.746735   91860 random_forest.cc:428] Training random forest on 6954 example(s) and 13 feature(s).\n",
      "I0000 00:00:1731516554.957987   91875 random_forest.cc:812] Training of tree  1/300 (tree index:3) done accuracy:0.746013 logloss:9.15461\n",
      "I0000 00:00:1731516555.057857   91876 random_forest.cc:812] Training of tree  11/300 (tree index:4) done accuracy:0.759855 logloss:3.31584\n",
      "I0000 00:00:1731516555.296256   91874 random_forest.cc:812] Training of tree  21/300 (tree index:21) done accuracy:0.776068 logloss:1.82933\n",
      "I0000 00:00:1731516555.534435   91877 random_forest.cc:812] Training of tree  31/300 (tree index:31) done accuracy:0.783003 logloss:1.38316\n",
      "I0000 00:00:1731516555.801635   91879 random_forest.cc:812] Training of tree  41/300 (tree index:39) done accuracy:0.780558 logloss:1.21783\n",
      "I0000 00:00:1731516556.043987   91882 random_forest.cc:812] Training of tree  51/300 (tree index:54) done accuracy:0.785591 logloss:1.04455\n",
      "I0000 00:00:1731516556.232549   91881 random_forest.cc:812] Training of tree  61/300 (tree index:59) done accuracy:0.790336 logloss:0.923613\n",
      "I0000 00:00:1731516556.509811   91873 random_forest.cc:812] Training of tree  71/300 (tree index:69) done accuracy:0.790768 logloss:0.828946\n",
      "I0000 00:00:1731516556.714948   91874 random_forest.cc:812] Training of tree  81/300 (tree index:80) done accuracy:0.79048 logloss:0.783571\n",
      "I0000 00:00:1731516557.011105   91874 random_forest.cc:812] Training of tree  91/300 (tree index:92) done accuracy:0.791631 logloss:0.745218\n",
      "I0000 00:00:1731516557.226904   91873 random_forest.cc:812] Training of tree  101/300 (tree index:98) done accuracy:0.792062 logloss:0.731106\n",
      "I0000 00:00:1731516557.377440   91882 random_forest.cc:812] Training of tree  111/300 (tree index:108) done accuracy:0.792637 logloss:0.703579\n",
      "I0000 00:00:1731516557.677712   91882 random_forest.cc:812] Training of tree  121/300 (tree index:122) done accuracy:0.790049 logloss:0.688857\n",
      "I0000 00:00:1731516557.939662   91882 random_forest.cc:812] Training of tree  131/300 (tree index:132) done accuracy:0.789905 logloss:0.669997\n",
      "I0000 00:00:1731516558.158581   91876 random_forest.cc:812] Training of tree  141/300 (tree index:144) done accuracy:0.791631 logloss:0.655209\n",
      "I0000 00:00:1731516558.469153   91884 random_forest.cc:812] Training of tree  151/300 (tree index:148) done accuracy:0.790768 logloss:0.649772\n",
      "I0000 00:00:1731516558.733964   91874 random_forest.cc:812] Training of tree  161/300 (tree index:161) done accuracy:0.791775 logloss:0.649748\n",
      "I0000 00:00:1731516558.882855   91883 random_forest.cc:812] Training of tree  171/300 (tree index:171) done accuracy:0.791343 logloss:0.632251\n",
      "I0000 00:00:1731516559.150417   91883 random_forest.cc:812] Training of tree  181/300 (tree index:182) done accuracy:0.790193 logloss:0.61351\n",
      "I0000 00:00:1731516559.438507   91884 random_forest.cc:812] Training of tree  191/300 (tree index:191) done accuracy:0.792062 logloss:0.603765\n",
      "I0000 00:00:1731516559.692081   91881 random_forest.cc:812] Training of tree  201/300 (tree index:201) done accuracy:0.790624 logloss:0.598096\n",
      "I0000 00:00:1731516559.885033   91882 random_forest.cc:812] Training of tree  211/300 (tree index:211) done accuracy:0.791631 logloss:0.592968\n",
      "I0000 00:00:1731516560.180112   91874 random_forest.cc:812] Training of tree  221/300 (tree index:220) done accuracy:0.792206 logloss:0.588127\n",
      "I0000 00:00:1731516560.420598   91873 random_forest.cc:812] Training of tree  231/300 (tree index:225) done accuracy:0.791199 logloss:0.588291\n",
      "I0000 00:00:1731516560.633417   91878 random_forest.cc:812] Training of tree  241/300 (tree index:238) done accuracy:0.791631 logloss:0.578883\n",
      "I0000 00:00:1731516560.886200   91884 random_forest.cc:812] Training of tree  251/300 (tree index:249) done accuracy:0.791918 logloss:0.578367\n",
      "I0000 00:00:1731516561.119646   91884 random_forest.cc:812] Training of tree  261/300 (tree index:262) done accuracy:0.791343 logloss:0.569428\n",
      "I0000 00:00:1731516561.406893   91882 random_forest.cc:812] Training of tree  271/300 (tree index:274) done accuracy:0.790912 logloss:0.564887\n",
      "I0000 00:00:1731516561.633935   91879 random_forest.cc:812] Training of tree  281/300 (tree index:280) done accuracy:0.790768 logloss:0.559937\n",
      "I0000 00:00:1731516561.833387   91880 random_forest.cc:812] Training of tree  291/300 (tree index:290) done accuracy:0.790768 logloss:0.55993\n",
      "I0000 00:00:1731516561.985937   91873 random_forest.cc:812] Training of tree  300/300 (tree index:299) done accuracy:0.790624 logloss:0.555023\n",
      "I0000 00:00:1731516561.986144   91860 random_forest.cc:892] Final OOB metrics: accuracy:0.790624 logloss:0.555023\n",
      "I0000 00:00:1731516562.042185   91860 kernel.cc:920] Export model in log directory: /tmp/tmpgoc_dksx with prefix 9d7af19bc1a54ec8\n",
      "I0000 00:00:1731516562.160336   91860 kernel.cc:938] Save model in resources\n",
      "I0000 00:00:1731516562.162197   91721 abstract_model.cc:833] Model self evaluation:\n",
      "Number of predictions (without weights): 6954\n",
      "Number of predictions (with weights): 6954\n",
      "Task: CLASSIFICATION\n",
      "Label: __LABEL\n",
      "\n",
      "Accuracy: 0.790624  CI95[W][0.782437 0.79863]\n",
      "LogLoss: : 0.555023\n",
      "ErrorRate: : 0.209376\n",
      "\n",
      "Default Accuracy: : 0.503595\n",
      "Default LogLoss: : 0.693121\n",
      "Default ErrorRate: : 0.496405\n",
      "\n",
      "Confusion Table:\n",
      "truth\\prediction\n",
      "      1     2\n",
      "1  2729   723\n",
      "2   733  2769\n",
      "Total: 6954\n",
      "\n",
      "\n",
      "2024-11-13 13:49:22.233346: I tensorflow_decision_forests/tensorflow/ops/inference/kernel.cc:1234] Loading model from path /tmp/tmpgoc_dksx/model/ with prefix 9d7af19bc1a54ec8\n"
     ]
    },
    {
     "name": "stdout",
     "output_type": "stream",
     "text": [
      "Model trained in 0:00:07.908972\n",
      "Compiling model...\n"
     ]
    },
    {
     "name": "stderr",
     "output_type": "stream",
     "text": [
      "WARNING: All log messages before absl::InitializeLog() is called are written to STDERR\n",
      "I0000 00:00:1731516562.584073   91721 decision_forest.cc:761] Model loaded with 300 root(s), 233660 node(s), and 13 input feature(s).\n",
      "I0000 00:00:1731516562.587329   91721 abstract_model.cc:1323] Engine \"RandomForestGeneric\" built\n",
      "2024-11-13 13:49:22.587374: I tensorflow_decision_forests/tensorflow/ops/inference/kernel.cc:1062] Use fast generic engine\n"
     ]
    },
    {
     "name": "stdout",
     "output_type": "stream",
     "text": [
      "Model compiled.\n"
     ]
    },
    {
     "data": {
      "text/plain": [
       "<tf_keras.src.callbacks.History at 0x7fe5b3d77ad0>"
      ]
     },
     "execution_count": 28,
     "metadata": {},
     "output_type": "execute_result"
    }
   ],
   "source": [
    "rf.fit(x=train_ds)"
   ]
  },
  {
   "cell_type": "markdown",
   "id": "083d6f2c-e1c1-49c7-b782-3cb061857ed1",
   "metadata": {
    "tags": []
   },
   "source": [
    "### Visualize the model\n",
    "\n",
    "One benefit of tree-based models is that we can easily visualize them."
   ]
  },
  {
   "cell_type": "code",
   "execution_count": 29,
   "id": "9fe2ed15-049d-4a63-a7d9-c9d92f192664",
   "metadata": {
    "tags": []
   },
   "outputs": [
    {
     "data": {
      "text/html": [
       "\n",
       "<script src=\"https://d3js.org/d3.v6.min.js\"></script>\n",
       "<div id=\"tree_plot_e39df84bf55642318b900082fa04269a\"></div>\n",
       "<script>\n",
       "/*\n",
       " * Copyright 2021 Google LLC.\n",
       " * Licensed under the Apache License, Version 2.0 (the \"License\");\n",
       " * you may not use this file except in compliance with the License.\n",
       " * You may obtain a copy of the License at\n",
       " *\n",
       " *     https://www.apache.org/licenses/LICENSE-2.0\n",
       " *\n",
       " * Unless required by applicable law or agreed to in writing, software\n",
       " * distributed under the License is distributed on an \"AS IS\" BASIS,\n",
       " * WITHOUT WARRANTIES OR CONDITIONS OF ANY KIND, either express or implied.\n",
       " * See the License for the specific language governing permissions and\n",
       " * limitations under the License.\n",
       " */\n",
       "\n",
       "/**\n",
       " *  Plotting of decision trees generated by TF-DF.\n",
       " *\n",
       " *  A tree is a recursive structure of node objects.\n",
       " *  A node contains one or more of the following components:\n",
       " *\n",
       " *    - A value: Representing the output of the node. If the node is not a leaf,\n",
       " *      the value is only present for analysis i.e. it is not used for\n",
       " *      predictions.\n",
       " *\n",
       " *    - A condition : For non-leaf nodes, the condition (also known as split)\n",
       " *      defines a binary test to branch to the positive or negative child.\n",
       " *\n",
       " *    - An explanation: Generally a plot showing the relation between the label\n",
       " *      and the condition to give insights about the effect of the condition.\n",
       " *\n",
       " *    - Two children : For non-leaf nodes, the children nodes. The first\n",
       " *      children (i.e. \"node.children[0]\") is the negative children (drawn in\n",
       " *      red). The second children is the positive one (drawn in green).\n",
       " *\n",
       " */\n",
       "\n",
       "/**\n",
       " * Plots a single decision tree into a DOM element.\n",
       " * @param {!options} options Dictionary of configurations.\n",
       " * @param {!tree} raw_tree Recursive tree structure.\n",
       " * @param {string} canvas_id Id of the output dom element.\n",
       " */\n",
       "function display_tree(options, raw_tree, canvas_id) {\n",
       "  console.log(options);\n",
       "\n",
       "  // Determine the node placement.\n",
       "  const tree_struct = d3.tree().nodeSize(\n",
       "      [options.node_y_offset, options.node_x_offset])(d3.hierarchy(raw_tree));\n",
       "\n",
       "  // Boundaries of the node placement.\n",
       "  let x_min = Infinity;\n",
       "  let x_max = -x_min;\n",
       "  let y_min = Infinity;\n",
       "  let y_max = -x_min;\n",
       "\n",
       "  tree_struct.each(d => {\n",
       "    if (d.x > x_max) x_max = d.x;\n",
       "    if (d.x < x_min) x_min = d.x;\n",
       "    if (d.y > y_max) y_max = d.y;\n",
       "    if (d.y < y_min) y_min = d.y;\n",
       "  });\n",
       "\n",
       "  // Size of the plot.\n",
       "  const width = y_max - y_min + options.node_x_size + options.margin * 2;\n",
       "  const height = x_max - x_min + options.node_y_size + options.margin * 2 +\n",
       "      options.node_y_offset - options.node_y_size;\n",
       "\n",
       "  const plot = d3.select(canvas_id);\n",
       "\n",
       "  // Tool tip\n",
       "  options.tooltip = plot.append('div')\n",
       "                        .attr('width', 100)\n",
       "                        .attr('height', 100)\n",
       "                        .style('padding', '4px')\n",
       "                        .style('background', '#fff')\n",
       "                        .style('box-shadow', '4px 4px 0px rgba(0,0,0,0.1)')\n",
       "                        .style('border', '1px solid black')\n",
       "                        .style('font-family', 'sans-serif')\n",
       "                        .style('font-size', options.font_size)\n",
       "                        .style('position', 'absolute')\n",
       "                        .style('z-index', '10')\n",
       "                        .attr('pointer-events', 'none')\n",
       "                        .style('display', 'none');\n",
       "\n",
       "  // Create canvas\n",
       "  const svg = plot.append('svg').attr('width', width).attr('height', height);\n",
       "  const graph =\n",
       "      svg.style('overflow', 'visible')\n",
       "          .append('g')\n",
       "          .attr('font-family', 'sans-serif')\n",
       "          .attr('font-size', options.font_size)\n",
       "          .attr(\n",
       "              'transform',\n",
       "              () => `translate(${options.margin},${\n",
       "                  - x_min + options.node_y_offset / 2 + options.margin})`);\n",
       "\n",
       "  // Plot bounding box.\n",
       "  if (options.show_plot_bounding_box) {\n",
       "    svg.append('rect')\n",
       "        .attr('width', width)\n",
       "        .attr('height', height)\n",
       "        .attr('fill', 'none')\n",
       "        .attr('stroke-width', 1.0)\n",
       "        .attr('stroke', 'black');\n",
       "  }\n",
       "\n",
       "  // Draw the edges.\n",
       "  display_edges(options, graph, tree_struct);\n",
       "\n",
       "  // Draw the nodes.\n",
       "  display_nodes(options, graph, tree_struct);\n",
       "}\n",
       "\n",
       "/**\n",
       " * Draw the nodes of the tree.\n",
       " * @param {!options} options Dictionary of configurations.\n",
       " * @param {!graph} graph D3 search handle containing the graph.\n",
       " * @param {!tree_struct} tree_struct Structure of the tree (node placement,\n",
       " *     data, etc.).\n",
       " */\n",
       "function display_nodes(options, graph, tree_struct) {\n",
       "  const nodes = graph.append('g')\n",
       "                    .selectAll('g')\n",
       "                    .data(tree_struct.descendants())\n",
       "                    .join('g')\n",
       "                    .attr('transform', d => `translate(${d.y},${d.x})`);\n",
       "\n",
       "  nodes.append('rect')\n",
       "      .attr('x', 0.5)\n",
       "      .attr('y', 0.5)\n",
       "      .attr('width', options.node_x_size)\n",
       "      .attr('height', options.node_y_size)\n",
       "      .attr('stroke', 'lightgrey')\n",
       "      .attr('stroke-width', 1)\n",
       "      .attr('fill', 'white')\n",
       "      .attr('y', -options.node_y_size / 2);\n",
       "\n",
       "  // Brackets on the right of condition nodes without children.\n",
       "  non_leaf_node_without_children =\n",
       "      nodes.filter(node => node.data.condition != null && node.children == null)\n",
       "          .append('g')\n",
       "          .attr('transform', `translate(${options.node_x_size},0)`);\n",
       "\n",
       "  non_leaf_node_without_children.append('path')\n",
       "      .attr('d', 'M0,0 C 10,0 0,10 10,10')\n",
       "      .attr('fill', 'none')\n",
       "      .attr('stroke-width', 1.0)\n",
       "      .attr('stroke', '#F00');\n",
       "\n",
       "  non_leaf_node_without_children.append('path')\n",
       "      .attr('d', 'M0,0 C 10,0 0,-10 10,-10')\n",
       "      .attr('fill', 'none')\n",
       "      .attr('stroke-width', 1.0)\n",
       "      .attr('stroke', '#0F0');\n",
       "\n",
       "  const node_content = nodes.append('g').attr(\n",
       "      'transform',\n",
       "      `translate(0,${options.node_padding - options.node_y_size / 2})`);\n",
       "\n",
       "  node_content.append(node => create_node_element(options, node));\n",
       "}\n",
       "\n",
       "/**\n",
       " * Creates the D3 content for a single node.\n",
       " * @param {!options} options Dictionary of configurations.\n",
       " * @param {!node} node Node to draw.\n",
       " * @return {!d3} D3 content.\n",
       " */\n",
       "function create_node_element(options, node) {\n",
       "  // Output accumulator.\n",
       "  let output = {\n",
       "    // Content to draw.\n",
       "    content: d3.create('svg:g'),\n",
       "    // Vertical offset to the next element to draw.\n",
       "    vertical_offset: 0\n",
       "  };\n",
       "\n",
       "  // Conditions.\n",
       "  if (node.data.condition != null) {\n",
       "    display_condition(options, node.data.condition, output);\n",
       "  }\n",
       "\n",
       "  // Values.\n",
       "  if (node.data.value != null) {\n",
       "    display_value(options, node.data.value, output);\n",
       "  }\n",
       "\n",
       "  // Explanations.\n",
       "  if (node.data.explanation != null) {\n",
       "    display_explanation(options, node.data.explanation, output);\n",
       "  }\n",
       "\n",
       "  return output.content.node();\n",
       "}\n",
       "\n",
       "\n",
       "/**\n",
       " * Adds a single line of text inside of a node.\n",
       " * @param {!options} options Dictionary of configurations.\n",
       " * @param {string} text Text to display.\n",
       " * @param {!output} output Output display accumulator.\n",
       " */\n",
       "function display_node_text(options, text, output) {\n",
       "  output.content.append('text')\n",
       "      .attr('x', options.node_padding)\n",
       "      .attr('y', output.vertical_offset)\n",
       "      .attr('alignment-baseline', 'hanging')\n",
       "      .text(text);\n",
       "  output.vertical_offset += 10;\n",
       "}\n",
       "\n",
       "/**\n",
       " * Adds a single line of text inside of a node with a tooltip.\n",
       " * @param {!options} options Dictionary of configurations.\n",
       " * @param {string} text Text to display.\n",
       " * @param {string} tooltip Text in the Tooltip.\n",
       " * @param {!output} output Output display accumulator.\n",
       " */\n",
       "function display_node_text_with_tooltip(options, text, tooltip, output) {\n",
       "  const item = output.content.append('text')\n",
       "                   .attr('x', options.node_padding)\n",
       "                   .attr('alignment-baseline', 'hanging')\n",
       "                   .text(text);\n",
       "\n",
       "  add_tooltip(options, item, () => tooltip);\n",
       "  output.vertical_offset += 10;\n",
       "}\n",
       "\n",
       "/**\n",
       " * Adds a tooltip to a dom element.\n",
       " * @param {!options} options Dictionary of configurations.\n",
       " * @param {!dom} target Dom element to equip with a tooltip.\n",
       " * @param {!func} get_content Generates the html content of the tooltip.\n",
       " */\n",
       "function add_tooltip(options, target, get_content) {\n",
       "  function show(d) {\n",
       "    options.tooltip.style('display', 'block');\n",
       "    options.tooltip.html(get_content());\n",
       "  }\n",
       "\n",
       "  function hide(d) {\n",
       "    options.tooltip.style('display', 'none');\n",
       "  }\n",
       "\n",
       "  function move(d) {\n",
       "    options.tooltip.style('display', 'block');\n",
       "    options.tooltip.style('left', (d.pageX + 5) + 'px');\n",
       "    options.tooltip.style('top', d.pageY + 'px');\n",
       "  }\n",
       "\n",
       "  target.on('mouseover', show);\n",
       "  target.on('mouseout', hide);\n",
       "  target.on('mousemove', move);\n",
       "}\n",
       "\n",
       "/**\n",
       " * Adds a condition inside of a node.\n",
       " * @param {!options} options Dictionary of configurations.\n",
       " * @param {!condition} condition Condition to display.\n",
       " * @param {!output} output Output display accumulator.\n",
       " */\n",
       "function display_condition(options, condition, output) {\n",
       "  threshold_format = d3.format('r');\n",
       "\n",
       "  if (condition.type === 'IS_MISSING') {\n",
       "    display_node_text(options, `${condition.attribute} is missing`, output);\n",
       "    return;\n",
       "  }\n",
       "\n",
       "  if (condition.type === 'IS_TRUE') {\n",
       "    display_node_text(options, `${condition.attribute} is true`, output);\n",
       "    return;\n",
       "  }\n",
       "\n",
       "  if (condition.type === 'NUMERICAL_IS_HIGHER_THAN') {\n",
       "    format = d3.format('r');\n",
       "    display_node_text(\n",
       "        options,\n",
       "        `${condition.attribute} >= ${threshold_format(condition.threshold)}`,\n",
       "        output);\n",
       "    return;\n",
       "  }\n",
       "\n",
       "  if (condition.type === 'CATEGORICAL_IS_IN') {\n",
       "    display_node_text_with_tooltip(\n",
       "        options, `${condition.attribute} in [...]`,\n",
       "        `${condition.attribute} in [${condition.mask}]`, output);\n",
       "    return;\n",
       "  }\n",
       "\n",
       "  if (condition.type === 'CATEGORICAL_SET_CONTAINS') {\n",
       "    display_node_text_with_tooltip(\n",
       "        options, `${condition.attribute} intersect [...]`,\n",
       "        `${condition.attribute} intersect [${condition.mask}]`, output);\n",
       "    return;\n",
       "  }\n",
       "\n",
       "  if (condition.type === 'NUMERICAL_SPARSE_OBLIQUE') {\n",
       "    display_node_text_with_tooltip(\n",
       "        options, `Sparse oblique split...`,\n",
       "        `[${condition.attributes}]*[${condition.weights}]>=${\n",
       "            threshold_format(condition.threshold)}`,\n",
       "        output);\n",
       "    return;\n",
       "  }\n",
       "\n",
       "  display_node_text(\n",
       "      options, `Non supported condition ${condition.type}`, output);\n",
       "}\n",
       "\n",
       "/**\n",
       " * Adds a value inside of a node.\n",
       " * @param {!options} options Dictionary of configurations.\n",
       " * @param {!value} value Value to display.\n",
       " * @param {!output} output Output display accumulator.\n",
       " */\n",
       "function display_value(options, value, output) {\n",
       "  if (value.type === 'PROBABILITY') {\n",
       "    const left_margin = 0;\n",
       "    const right_margin = 50;\n",
       "    const plot_width = options.node_x_size - options.node_padding * 2 -\n",
       "        left_margin - right_margin;\n",
       "\n",
       "    let cusum = Array.from(d3.cumsum(value.distribution));\n",
       "    cusum.unshift(0);\n",
       "    const distribution_plot = output.content.append('g').attr(\n",
       "        'transform', `translate(0,${output.vertical_offset + 0.5})`);\n",
       "\n",
       "    distribution_plot.selectAll('rect')\n",
       "        .data(value.distribution)\n",
       "        .join('rect')\n",
       "        .attr('height', 10)\n",
       "        .attr(\n",
       "            'x',\n",
       "            (d, i) =>\n",
       "                (cusum[i] * plot_width + left_margin + options.node_padding))\n",
       "        .attr('width', (d, i) => d * plot_width)\n",
       "        .style('fill', (d, i) => d3.schemeSet1[i]);\n",
       "\n",
       "    const num_examples =\n",
       "        output.content.append('g')\n",
       "            .attr('transform', `translate(0,${output.vertical_offset})`)\n",
       "            .append('text')\n",
       "            .attr('x', options.node_x_size - options.node_padding)\n",
       "            .attr('alignment-baseline', 'hanging')\n",
       "            .attr('text-anchor', 'end')\n",
       "            .text(`(${value.num_examples})`);\n",
       "\n",
       "    const distribution_details = d3.create('ul');\n",
       "    distribution_details.selectAll('li')\n",
       "        .data(value.distribution)\n",
       "        .join('li')\n",
       "        .append('span')\n",
       "        .text(\n",
       "            (d, i) =>\n",
       "                'class ' + i + ': ' + d3.format('.3%')(value.distribution[i]));\n",
       "\n",
       "    add_tooltip(options, distribution_plot, () => distribution_details.html());\n",
       "    add_tooltip(options, num_examples, () => 'Number of examples');\n",
       "\n",
       "    output.vertical_offset += 10;\n",
       "    return;\n",
       "  }\n",
       "\n",
       "  if (value.type === 'REGRESSION') {\n",
       "    display_node_text(\n",
       "        options,\n",
       "        'value: ' + d3.format('r')(value.value) + ` (` +\n",
       "            d3.format('.6')(value.num_examples) + `)`,\n",
       "        output);\n",
       "    return;\n",
       "  }\n",
       "\n",
       "  if (value.type === 'UPLIFT') {\n",
       "    display_node_text(\n",
       "        options,\n",
       "        'effect: ' + d3.format('r')(value.treatment_effect) + ` (` +\n",
       "            d3.format('.6')(value.num_examples) + `)`,\n",
       "        output);\n",
       "    return;\n",
       "  }\n",
       "\n",
       "  display_node_text(options, `Non supported value ${value.type}`, output);\n",
       "}\n",
       "\n",
       "/**\n",
       " * Adds an explanation inside of a node.\n",
       " * @param {!options} options Dictionary of configurations.\n",
       " * @param {!explanation} explanation Explanation to display.\n",
       " * @param {!output} output Output display accumulator.\n",
       " */\n",
       "function display_explanation(options, explanation, output) {\n",
       "  // Margin before the explanation.\n",
       "  output.vertical_offset += 10;\n",
       "\n",
       "  display_node_text(\n",
       "      options, `Non supported explanation ${explanation.type}`, output);\n",
       "}\n",
       "\n",
       "\n",
       "/**\n",
       " * Draw the edges of the tree.\n",
       " * @param {!options} options Dictionary of configurations.\n",
       " * @param {!graph} graph D3 search handle containing the graph.\n",
       " * @param {!tree_struct} tree_struct Structure of the tree (node placement,\n",
       " *     data, etc.).\n",
       " */\n",
       "function display_edges(options, graph, tree_struct) {\n",
       "  // Draw an edge between a parent and a child node with a bezier.\n",
       "  function draw_single_edge(d) {\n",
       "    return 'M' + (d.source.y + options.node_x_size) + ',' + d.source.x + ' C' +\n",
       "        (d.source.y + options.node_x_size + options.edge_rounding) + ',' +\n",
       "        d.source.x + ' ' + (d.target.y - options.edge_rounding) + ',' +\n",
       "        d.target.x + ' ' + d.target.y + ',' + d.target.x;\n",
       "  }\n",
       "\n",
       "  graph.append('g')\n",
       "      .attr('fill', 'none')\n",
       "      .attr('stroke-width', 1.2)\n",
       "      .selectAll('path')\n",
       "      .data(tree_struct.links())\n",
       "      .join('path')\n",
       "      .attr('d', draw_single_edge)\n",
       "      .attr(\n",
       "          'stroke', d => (d.target === d.source.children[0]) ? '#0F0' : '#F00');\n",
       "}\n",
       "\n",
       "display_tree({\"margin\": 10, \"node_x_size\": 160, \"node_y_size\": 28, \"node_x_offset\": 180, \"node_y_offset\": 33, \"font_size\": 10, \"edge_rounding\": 20, \"node_padding\": 2, \"show_plot_bounding_box\": false}, {\"value\": {\"type\": \"PROBABILITY\", \"distribution\": [0.4946793212539546, 0.5053206787460455], \"num_examples\": 6954.0}, \"condition\": {\"type\": \"NUMERICAL_IS_HIGHER_THAN\", \"attribute\": \"Spa\", \"threshold\": 0.5}, \"children\": [{\"value\": {\"type\": \"PROBABILITY\", \"distribution\": [0.7084580838323353, 0.29154191616766467], \"num_examples\": 2672.0}, \"condition\": {\"type\": \"NUMERICAL_IS_HIGHER_THAN\", \"attribute\": \"FoodCourt\", \"threshold\": 2211.0}, \"children\": [{\"value\": {\"type\": \"PROBABILITY\", \"distribution\": [0.3685636856368564, 0.6314363143631436], \"num_examples\": 369.0}, \"condition\": {\"type\": \"CATEGORICAL_IS_IN\", \"attribute\": \"Cabin_num\", \"mask\": [\"82\", \"19\", \"65\", \"176\", \"97\", \"9\", \"42\", \"27\", \"186\", \"57\", \"56\", \"43\", \"270\", \"23\", \"16\", \"150\", \"0\", \"80\", \"32\", \"25\", \"238\", \"227\", \"55\", \"22\", \"201\", \"185\", \"145\", \"258\", \"200\", \"198\", \"127\", \"120\", \"119\", \"92\", \"81\", \"6\", \"58\", \"49\", \"268\", \"250\", \"217\", \"116\", \"102\", \"10\", \"94\", \"291\", \"278\", \"220\", \"211\", \"126\", \"90\", \"74\", \"51\", \"299\", \"290\", \"236\", \"2\", \"190\", \"181\", \"179\", \"171\", \"113\", \"112\", \"439\", \"331\", \"224\", \"196\", \"77\", \"603\", \"329\", \"275\", \"17\", \"138\"]}, \"children\": [{\"value\": {\"type\": \"PROBABILITY\", \"distribution\": [0.5054945054945055, 0.4945054945054945], \"num_examples\": 182.0}, \"condition\": {\"type\": \"NUMERICAL_IS_HIGHER_THAN\", \"attribute\": \"VRDeck\", \"threshold\": 978.5}}, {\"value\": {\"type\": \"PROBABILITY\", \"distribution\": [0.23529411764705882, 0.7647058823529411], \"num_examples\": 187.0}, \"condition\": {\"type\": \"CATEGORICAL_IS_IN\", \"attribute\": \"Deck\", \"mask\": [\"F\", \"E\", \"B\", \"C\", \"D\"]}}]}, {\"value\": {\"type\": \"PROBABILITY\", \"distribution\": [0.7629179331306991, 0.23708206686930092], \"num_examples\": 2303.0}, \"condition\": {\"type\": \"NUMERICAL_IS_HIGHER_THAN\", \"attribute\": \"VRDeck\", \"threshold\": 1369.0}, \"children\": [{\"value\": {\"type\": \"PROBABILITY\", \"distribution\": [0.9831223628691983, 0.016877637130801686], \"num_examples\": 237.0}, \"condition\": {\"type\": \"CATEGORICAL_IS_IN\", \"attribute\": \"Deck\", \"mask\": [\"C\", \"A\"]}}, {\"value\": {\"type\": \"PROBABILITY\", \"distribution\": [0.7376573088092934, 0.2623426911907067], \"num_examples\": 2066.0}, \"condition\": {\"type\": \"NUMERICAL_IS_HIGHER_THAN\", \"attribute\": \"ShoppingMall\", \"threshold\": 610.0}}]}]}, {\"value\": {\"type\": \"PROBABILITY\", \"distribution\": [0.36127977580569826, 0.6387202241943017], \"num_examples\": 4282.0}, \"condition\": {\"type\": \"NUMERICAL_IS_HIGHER_THAN\", \"attribute\": \"FoodCourt\", \"threshold\": 0.5}, \"children\": [{\"value\": {\"type\": \"PROBABILITY\", \"distribution\": [0.5472972972972973, 0.4527027027027027], \"num_examples\": 888.0}, \"condition\": {\"type\": \"NUMERICAL_IS_HIGHER_THAN\", \"attribute\": \"FoodCourt\", \"threshold\": 452.0}, \"children\": [{\"value\": {\"type\": \"PROBABILITY\", \"distribution\": [0.4114713216957606, 0.5885286783042394], \"num_examples\": 401.0}, \"condition\": {\"type\": \"NUMERICAL_IS_HIGHER_THAN\", \"attribute\": \"VRDeck\", \"threshold\": 1368.5}}, {\"value\": {\"type\": \"PROBABILITY\", \"distribution\": [0.6591375770020534, 0.3408624229979466], \"num_examples\": 487.0}, \"condition\": {\"type\": \"NUMERICAL_IS_HIGHER_THAN\", \"attribute\": \"VRDeck\", \"threshold\": 6.5}}]}, {\"value\": {\"type\": \"PROBABILITY\", \"distribution\": [0.31261048909840894, 0.6873895109015911], \"num_examples\": 3394.0}, \"condition\": {\"type\": \"CATEGORICAL_IS_IN\", \"attribute\": \"Deck\", \"mask\": [\"B\", \"C\", \"A\"]}, \"children\": [{\"value\": {\"type\": \"PROBABILITY\", \"distribution\": [0.0344311377245509, 0.9655688622754491], \"num_examples\": 668.0}, \"condition\": {\"type\": \"CATEGORICAL_IS_IN\", \"attribute\": \"Cabin_num\", \"mask\": [\"86\", \"35\", \"176\", \"103\", \"97\", \"42\", \"27\", \"144\", \"56\", \"23\", \"229\", \"18\", \"151\", \"137\", \"123\", \"11\", \"80\", \"38\", \"32\", \"25\", \"24\", \"226\", \"125\", \"1\", \"67\", \"281\", \"255\", \"247\", \"22\", \"216\", \"208\", \"158\", \"99\", \"62\", \"260\", \"222\", \"200\", \"198\", \"152\", \"127\", \"122\", \"120\", \"105\", \"92\", \"85\", \"6\", \"58\", \"49\", \"47\", \"292\", \"262\", \"250\", \"225\", \"219\", \"134\", \"116\", \"102\", \"87\", \"78\", \"71\", \"61\", \"308\", \"297\", \"29\", \"289\", \"272\", \"239\", \"221\", \"213\", \"188\", \"182\", \"170\", \"136\", \"135\", \"54\", \"39\", \"36\", \"295\", \"285\", \"271\", \"251\", \"248\", \"236\", \"202\", \"171\", \"161\", \"149\", \"113\", \"323\", \"261\", \"244\", \"165\", \"128\", \"111\", \"73\", \"329\", \"325\", \"321\", \"316\", \"192\", \"180\", \"157\", \"40\", \"333\", \"164\"]}}, {\"value\": {\"type\": \"PROBABILITY\", \"distribution\": [0.38077769625825386, 0.6192223037417461], \"num_examples\": 2726.0}, \"condition\": {\"type\": \"NUMERICAL_IS_HIGHER_THAN\", \"attribute\": \"RoomService\", \"threshold\": 278.0}}]}]}]}, \"#tree_plot_e39df84bf55642318b900082fa04269a\")\n",
       "</script>\n"
      ],
      "text/plain": [
       "<IPython.core.display.HTML object>"
      ]
     },
     "execution_count": 29,
     "metadata": {},
     "output_type": "execute_result"
    }
   ],
   "source": [
    "# There are 300 trees (by default), let's visualize the first\n",
    "tfdf.model_plotter.plot_model_in_colab(rf, tree_idx=0, max_depth=3)"
   ]
  },
  {
   "cell_type": "markdown",
   "id": "c317bcf7-f26c-4fb6-9eda-a9d675ee26b6",
   "metadata": {
    "tags": []
   },
   "source": [
    "#### Evaluate the model on the Out of bag (OOB) data and the validation dataset\n",
    "\n",
    "Before training the dataset we have manually seperated 20% of the dataset for validation named as ```valid_ds```.\n",
    "\n",
    "We can also use Out of bag (OOB) score to validate our RandomForestModel. To train a Random Forest Model, a set of random samples from training set are choosen by the algorithm and the rest of the samples are used to finetune the model.The subset of data that is not chosen is known as Out of bag data (OOB). OOB score is computed on the OOB data."
   ]
  },
  {
   "cell_type": "code",
   "execution_count": 30,
   "id": "72176c46-78f6-4fad-b449-f7cf1e2d4061",
   "metadata": {
    "tags": []
   },
   "outputs": [
    {
     "data": {
      "image/png": "[encoded data removed]",
      "text/plain": [
       "<Figure size 640x480 with 1 Axes>"
      ]
     },
     "metadata": {},
     "output_type": "display_data"
    }
   ],
   "source": [
    "import matplotlib.pyplot as plt\n",
    "logs = rf.make_inspector().training_logs()\n",
    "plt.plot([log.num_trees for log in logs], [log.evaluation.accuracy for log in logs])\n",
    "plt.xlabel(\"Number of trees\")\n",
    "plt.ylabel(\"Accuracy (out-of-bag)\")\n",
    "plt.show()"
   ]
  },
  {
   "cell_type": "markdown",
   "id": "518bc817-3d48-4453-a942-41c1d2c2ab81",
   "metadata": {},
   "source": [
    "We can also see some general stats on the OOB dataset:"
   ]
  },
  {
   "cell_type": "code",
   "execution_count": 31,
   "id": "ca68dcd2-0292-4040-a71d-1510facf0fb5",
   "metadata": {
    "tags": []
   },
   "outputs": [
    {
     "data": {
      "text/plain": [
       "Evaluation(num_examples=6954, accuracy=0.7906241012366984, loss=0.5550227396493241, rmse=None, ndcg=None, aucs=None, auuc=None, qini=None)"
      ]
     },
     "execution_count": 31,
     "metadata": {},
     "output_type": "execute_result"
    }
   ],
   "source": [
    "inspector = rf.make_inspector()\n",
    "inspector.evaluation()"
   ]
  },
  {
   "cell_type": "markdown",
   "id": "4bed246a-293a-40fe-a92c-67989ad17d27",
   "metadata": {},
   "source": [
    "Now, let us run an evaluation using the validation dataset"
   ]
  },
  {
   "cell_type": "code",
   "execution_count": 32,
   "id": "4cc2b326-aeca-44ac-946a-d7020eb2732f",
   "metadata": {
    "tags": []
   },
   "outputs": [
    {
     "name": "stdout",
     "output_type": "stream",
     "text": [
      "2/2 [==============================] - 0s 42ms/step - loss: 0.0000e+00 - accuracy: 0.8010\n",
      "loss: 0.0000\n",
      "accuracy: 0.8010\n"
     ]
    }
   ],
   "source": [
    "evaluation = rf.evaluate(x=valid_ds,return_dict=True)\n",
    "\n",
    "for name, value in evaluation.items():\n",
    "  print(f\"{name}: {value:.4f}\")"
   ]
  },
  {
   "cell_type": "markdown",
   "id": "8363a7ca-d5be-4579-95d4-b124a867adf5",
   "metadata": {},
   "source": [
    "### Variable importances\n",
    "Variable importances generally indicate how much a feature contributes to the model predictions or quality. \n",
    "\n",
    "There are several ways to identify important features using TensorFlow Decision Forests. Let us list the available ```Variable Importances``` for Decision Trees:"
   ]
  },
  {
   "cell_type": "code",
   "execution_count": 33,
   "id": "833927ac-21d2-4607-9479-01a0903f315c",
   "metadata": {
    "tags": []
   },
   "outputs": [
    {
     "name": "stdout",
     "output_type": "stream",
     "text": [
      "Available variable importances:\n",
      "\t INV_MEAN_MIN_DEPTH\n",
      "\t NUM_AS_ROOT\n",
      "\t SUM_SCORE\n",
      "\t NUM_NODES\n"
     ]
    }
   ],
   "source": [
    "print(f\"Available variable importances:\")\n",
    "for importance in inspector.variable_importances().keys():\n",
    "  print(\"\\t\", importance)"
   ]
  },
  {
   "cell_type": "markdown",
   "id": "d25c6c97-a110-446d-9749-dda980eaab7c",
   "metadata": {
    "tags": []
   },
   "source": [
    "As an example, let us display the important features for the Variable Importance ```NUM_AS_ROOT```.\n",
    "\n",
    "The larger the importance score for ```NUM_AS_ROOT```, the more impact it has on the outcome of the model.\n",
    "\n",
    "By default, the list is sorted from the most important to the least. From the output you can infer that the feature at the top of the list is used as the root node in most number of trees in the random forest than any other feature."
   ]
  },
  {
   "cell_type": "code",
   "execution_count": 34,
   "id": "c416e5d6-4ba4-462c-8287-c562fd7103fb",
   "metadata": {
    "tags": []
   },
   "outputs": [
    {
     "data": {
      "text/plain": [
       "[(\"CryoSleep\" (1; #2), 113.0),\n",
       " (\"RoomService\" (1; #7), 64.0),\n",
       " (\"Spa\" (1; #10), 62.0),\n",
       " (\"VRDeck\" (1; #12), 26.0),\n",
       " (\"ShoppingMall\" (1; #8), 17.0),\n",
       " (\"FoodCourt\" (1; #5), 8.0),\n",
       " (\"Deck\" (4; #3), 5.0),\n",
       " (\"HomePlanet\" (4; #6), 5.0)]"
      ]
     },
     "execution_count": 34,
     "metadata": {},
     "output_type": "execute_result"
    }
   ],
   "source": [
    "# Each line is: (feature name, (index of the feature), importance score)\n",
    "inspector.variable_importances()[\"NUM_AS_ROOT\"]"
   ]
  },
  {
   "cell_type": "markdown",
   "id": "6ae4f87c-1a60-4b92-8b0c-1bc30affbabe",
   "metadata": {
    "tags": []
   },
   "source": [
    "## Second Submission\n",
    "\n",
    "Let's test different models"
   ]
  },
  {
   "cell_type": "code",
   "execution_count": 35,
   "id": "53c6cadc-7ae2-4df6-ae05-a8ba8fdfc9ca",
   "metadata": {
    "tags": []
   },
   "outputs": [
    {
     "name": "stdout",
     "output_type": "stream",
     "text": [
      "<class 'pandas.core.frame.DataFrame'>\n",
      "Index: 6954 entries, 3600 to 7925\n",
      "Data columns (total 14 columns):\n",
      " #   Column        Non-Null Count  Dtype  \n",
      "---  ------        --------------  -----  \n",
      " 0   HomePlanet    6954 non-null   object \n",
      " 1   CryoSleep     6954 non-null   int64  \n",
      " 2   Destination   6954 non-null   object \n",
      " 3   Age           6954 non-null   float64\n",
      " 4   VIP           6954 non-null   int64  \n",
      " 5   RoomService   6954 non-null   float64\n",
      " 6   FoodCourt     6954 non-null   float64\n",
      " 7   ShoppingMall  6954 non-null   float64\n",
      " 8   Spa           6954 non-null   float64\n",
      " 9   VRDeck        6954 non-null   float64\n",
      " 10  Transported   6954 non-null   int64  \n",
      " 11  Deck          6954 non-null   object \n",
      " 12  Cabin_num     6954 non-null   object \n",
      " 13  Side          6954 non-null   object \n",
      "dtypes: float64(6), int64(3), object(5)\n",
      "memory usage: 814.9+ KB\n"
     ]
    }
   ],
   "source": [
    "train_ds_pd.info()"
   ]
  },
  {
   "cell_type": "code",
   "execution_count": 36,
   "id": "41d15bef-1735-4377-b81b-99b01fafcb3c",
   "metadata": {
    "tags": []
   },
   "outputs": [],
   "source": [
    "# Identificar colunas categóricas\n",
    "categorical_columns = ['HomePlanet', 'Destination', 'Deck', 'Cabin_num', 'Side']\n",
    "\n",
    "# Aplicar One-Hot Encoding às colunas categóricas\n",
    "train_ds_pd_encoded = pd.get_dummies(train_ds_pd, columns=categorical_columns, drop_first=True)\n",
    "valid_ds_pd_encoded = pd.get_dummies(valid_ds_pd, columns=categorical_columns, drop_first=True)\n",
    "\n",
    "# Garantir que ambas as tabelas tenham as mesmas colunas (o mesmo One-Hot Encoding)\n",
    "valid_ds_pd_encoded = valid_ds_pd_encoded.reindex(columns=train_ds_pd_encoded.columns, fill_value=0)"
   ]
  },
  {
   "cell_type": "code",
   "execution_count": 37,
   "id": "c64239f6-efa2-4ea9-b5be-1c8eac3ca8a6",
   "metadata": {
    "tags": []
   },
   "outputs": [],
   "source": [
    "# Converter todas as colunas para float32\n",
    "train_ds_pd_encoded = train_ds_pd_encoded.astype('float32')\n",
    "valid_ds_pd_encoded = valid_ds_pd_encoded.astype('float32')"
   ]
  },
  {
   "cell_type": "code",
   "execution_count": 38,
   "id": "dc42ccef-b9c2-466d-846b-fe09ba8a595f",
   "metadata": {
    "tags": []
   },
   "outputs": [],
   "source": [
    "import tensorflow as tf\n",
    "\n",
    "# Separar features e labels para o TensorFlow\n",
    "X_train = train_ds_pd_encoded.drop(columns=['Transported'])\n",
    "y_train = train_ds_pd_encoded['Transported']\n",
    "X_valid = valid_ds_pd_encoded.drop(columns=['Transported'])\n",
    "y_valid = valid_ds_pd_encoded['Transported']\n",
    "\n",
    "# Converter para o formato tf.data.Dataset\n",
    "train_ds = tf.data.Dataset.from_tensor_slices((X_train.values, y_train.values)).batch(64)\n",
    "valid_ds = tf.data.Dataset.from_tensor_slices((X_valid.values, y_valid.values)).batch(64)"
   ]
  },
  {
   "cell_type": "code",
   "execution_count": 39,
   "id": "09b248c3-63bf-48e8-94e0-b8b3d605800b",
   "metadata": {
    "tags": []
   },
   "outputs": [
    {
     "name": "stderr",
     "output_type": "stream",
     "text": [
      "/home/jrz/anaconda3/lib/python3.11/site-packages/keras/src/layers/core/dense.py:87: UserWarning: Do not pass an `input_shape`/`input_dim` argument to a layer. When using Sequential models, prefer using an `Input(shape)` object as the first layer in the model instead.\n",
      "  super().__init__(activity_regularizer=activity_regularizer, **kwargs)\n"
     ]
    }
   ],
   "source": [
    "from tensorflow.keras import layers, models\n",
    "from tensorflow.keras.callbacks import EarlyStopping, ReduceLROnPlateau\n",
    "\n",
    "# Definir o modelo de rede neural\n",
    "def build_model():\n",
    "    model = models.Sequential([\n",
    "        layers.Dense(256, activation='relu', input_shape=[X_train.shape[1]]),\n",
    "        layers.BatchNormalization(),\n",
    "        layers.Dropout(0.3),\n",
    "        \n",
    "        layers.Dense(128, activation='relu'),\n",
    "        layers.BatchNormalization(),\n",
    "        layers.Dropout(0.3),\n",
    "        \n",
    "        layers.Dense(64, activation='relu'),\n",
    "        layers.BatchNormalization(),\n",
    "        layers.Dropout(0.3),\n",
    "        \n",
    "        layers.Dense(1, activation='sigmoid')\n",
    "    ])\n",
    "    \n",
    "    model.compile(optimizer='adam', loss='binary_crossentropy', metrics=['accuracy'])\n",
    "    return model\n",
    "\n",
    "# Instanciar o modelo\n",
    "model = build_model()\n",
    "\n",
    "# Configurar callbacks\n",
    "early_stopping = EarlyStopping(\n",
    "    monitor='val_loss',       # Monitorar a perda na validação\n",
    "    patience=15,              # Continuar por 15 épocas sem melhoria antes de parar\n",
    "    restore_best_weights=True # Restaurar os melhores pesos no final\n",
    ")\n",
    "\n",
    "reduce_lr = ReduceLROnPlateau(\n",
    "    monitor='val_loss',       # Monitorar a perda na validação\n",
    "    factor=0.2,               # Reduzir a taxa de aprendizado em 20% se não melhorar\n",
    "    patience=5,               # Esperar 5 épocas antes de reduzir\n",
    "    min_lr=1e-5               # Define a taxa de aprendizado mínima\n",
    ")\n"
   ]
  },
  {
   "cell_type": "code",
   "execution_count": 40,
   "id": "b2067473-6f98-4a27-889f-32ddd817ca26",
   "metadata": {
    "tags": []
   },
   "outputs": [
    {
     "name": "stdout",
     "output_type": "stream",
     "text": [
      "Epoch 1/100\n",
      "\u001b[1m109/109\u001b[0m \u001b[32m━━━━━━━━━━━━━━━━━━━━\u001b[0m\u001b[37m\u001b[0m \u001b[1m2s\u001b[0m 8ms/step - accuracy: 0.7078 - loss: 0.6481 - val_accuracy: 0.7987 - val_loss: 0.5026 - learning_rate: 0.0010\n",
      "Epoch 2/100\n",
      "\u001b[1m109/109\u001b[0m \u001b[32m━━━━━━━━━━━━━━━━━━━━\u001b[0m\u001b[37m\u001b[0m \u001b[1m1s\u001b[0m 6ms/step - accuracy: 0.7526 - loss: 0.5270 - val_accuracy: 0.7959 - val_loss: 0.4754 - learning_rate: 0.0010\n",
      "Epoch 3/100\n",
      "\u001b[1m109/109\u001b[0m \u001b[32m━━━━━━━━━━━━━━━━━━━━\u001b[0m\u001b[37m\u001b[0m \u001b[1m1s\u001b[0m 6ms/step - accuracy: 0.7541 - loss: 0.5041 - val_accuracy: 0.7884 - val_loss: 0.4589 - learning_rate: 0.0010\n",
      "Epoch 4/100\n",
      "\u001b[1m109/109\u001b[0m \u001b[32m━━━━━━━━━━━━━━━━━━━━\u001b[0m\u001b[37m\u001b[0m \u001b[1m1s\u001b[0m 6ms/step - accuracy: 0.7568 - loss: 0.4895 - val_accuracy: 0.7947 - val_loss: 0.4441 - learning_rate: 0.0010\n",
      "Epoch 5/100\n",
      "\u001b[1m109/109\u001b[0m \u001b[32m━━━━━━━━━━━━━━━━━━━━\u001b[0m\u001b[37m\u001b[0m \u001b[1m1s\u001b[0m 6ms/step - accuracy: 0.7592 - loss: 0.4889 - val_accuracy: 0.7918 - val_loss: 0.4388 - learning_rate: 0.0010\n",
      "Epoch 6/100\n",
      "\u001b[1m109/109\u001b[0m \u001b[32m━━━━━━━━━━━━━━━━━━━━\u001b[0m\u001b[37m\u001b[0m \u001b[1m1s\u001b[0m 6ms/step - accuracy: 0.7710 - loss: 0.4564 - val_accuracy: 0.7648 - val_loss: 0.4437 - learning_rate: 0.0010\n",
      "Epoch 7/100\n",
      "\u001b[1m109/109\u001b[0m \u001b[32m━━━━━━━━━━━━━━━━━━━━\u001b[0m\u001b[37m\u001b[0m \u001b[1m1s\u001b[0m 6ms/step - accuracy: 0.7775 - loss: 0.4506 - val_accuracy: 0.7832 - val_loss: 0.4427 - learning_rate: 0.0010\n",
      "Epoch 8/100\n",
      "\u001b[1m109/109\u001b[0m \u001b[32m━━━━━━━━━━━━━━━━━━━━\u001b[0m\u001b[37m\u001b[0m \u001b[1m1s\u001b[0m 6ms/step - accuracy: 0.7760 - loss: 0.4454 - val_accuracy: 0.7890 - val_loss: 0.4475 - learning_rate: 0.0010\n",
      "Epoch 9/100\n",
      "\u001b[1m109/109\u001b[0m \u001b[32m━━━━━━━━━━━━━━━━━━━━\u001b[0m\u001b[37m\u001b[0m \u001b[1m1s\u001b[0m 6ms/step - accuracy: 0.7847 - loss: 0.4372 - val_accuracy: 0.7849 - val_loss: 0.4528 - learning_rate: 0.0010\n",
      "Epoch 10/100\n",
      "\u001b[1m109/109\u001b[0m \u001b[32m━━━━━━━━━━━━━━━━━━━━\u001b[0m\u001b[37m\u001b[0m \u001b[1m1s\u001b[0m 6ms/step - accuracy: 0.7866 - loss: 0.4357 - val_accuracy: 0.7838 - val_loss: 0.4527 - learning_rate: 0.0010\n",
      "Epoch 11/100\n",
      "\u001b[1m109/109\u001b[0m \u001b[32m━━━━━━━━━━━━━━━━━━━━\u001b[0m\u001b[37m\u001b[0m \u001b[1m1s\u001b[0m 6ms/step - accuracy: 0.7975 - loss: 0.4235 - val_accuracy: 0.7832 - val_loss: 0.4533 - learning_rate: 2.0000e-04\n",
      "Epoch 12/100\n",
      "\u001b[1m109/109\u001b[0m \u001b[32m━━━━━━━━━━━━━━━━━━━━\u001b[0m\u001b[37m\u001b[0m \u001b[1m1s\u001b[0m 7ms/step - accuracy: 0.8045 - loss: 0.4115 - val_accuracy: 0.7913 - val_loss: 0.4724 - learning_rate: 2.0000e-04\n",
      "Epoch 13/100\n",
      "\u001b[1m109/109\u001b[0m \u001b[32m━━━━━━━━━━━━━━━━━━━━\u001b[0m\u001b[37m\u001b[0m \u001b[1m1s\u001b[0m 6ms/step - accuracy: 0.8100 - loss: 0.4030 - val_accuracy: 0.7821 - val_loss: 0.4692 - learning_rate: 2.0000e-04\n",
      "Epoch 14/100\n",
      "\u001b[1m109/109\u001b[0m \u001b[32m━━━━━━━━━━━━━━━━━━━━\u001b[0m\u001b[37m\u001b[0m \u001b[1m1s\u001b[0m 6ms/step - accuracy: 0.8071 - loss: 0.4022 - val_accuracy: 0.7844 - val_loss: 0.4741 - learning_rate: 2.0000e-04\n",
      "Epoch 15/100\n",
      "\u001b[1m109/109\u001b[0m \u001b[32m━━━━━━━━━━━━━━━━━━━━\u001b[0m\u001b[37m\u001b[0m \u001b[1m1s\u001b[0m 6ms/step - accuracy: 0.8089 - loss: 0.3963 - val_accuracy: 0.7844 - val_loss: 0.4738 - learning_rate: 2.0000e-04\n",
      "Epoch 16/100\n",
      "\u001b[1m109/109\u001b[0m \u001b[32m━━━━━━━━━━━━━━━━━━━━\u001b[0m\u001b[37m\u001b[0m \u001b[1m1s\u001b[0m 6ms/step - accuracy: 0.8067 - loss: 0.3959 - val_accuracy: 0.7849 - val_loss: 0.4727 - learning_rate: 4.0000e-05\n",
      "Epoch 17/100\n",
      "\u001b[1m109/109\u001b[0m \u001b[32m━━━━━━━━━━━━━━━━━━━━\u001b[0m\u001b[37m\u001b[0m \u001b[1m1s\u001b[0m 6ms/step - accuracy: 0.8236 - loss: 0.3839 - val_accuracy: 0.7855 - val_loss: 0.4774 - learning_rate: 4.0000e-05\n",
      "Epoch 18/100\n",
      "\u001b[1m109/109\u001b[0m \u001b[32m━━━━━━━━━━━━━━━━━━━━\u001b[0m\u001b[37m\u001b[0m \u001b[1m1s\u001b[0m 6ms/step - accuracy: 0.8228 - loss: 0.3864 - val_accuracy: 0.7849 - val_loss: 0.4780 - learning_rate: 4.0000e-05\n",
      "Epoch 19/100\n",
      "\u001b[1m109/109\u001b[0m \u001b[32m━━━━━━━━━━━━━━━━━━━━\u001b[0m\u001b[37m\u001b[0m \u001b[1m1s\u001b[0m 6ms/step - accuracy: 0.8199 - loss: 0.3820 - val_accuracy: 0.7849 - val_loss: 0.4789 - learning_rate: 4.0000e-05\n",
      "Epoch 20/100\n",
      "\u001b[1m109/109\u001b[0m \u001b[32m━━━━━━━━━━━━━━━━━━━━\u001b[0m\u001b[37m\u001b[0m \u001b[1m1s\u001b[0m 6ms/step - accuracy: 0.8184 - loss: 0.3805 - val_accuracy: 0.7849 - val_loss: 0.4747 - learning_rate: 4.0000e-05\n",
      "\u001b[1m28/28\u001b[0m \u001b[32m━━━━━━━━━━━━━━━━━━━━\u001b[0m\u001b[37m\u001b[0m \u001b[1m0s\u001b[0m 1ms/step - accuracy: 0.7923 - loss: 0.4447\n",
      "Validation Accuracy: 0.7918344140052795\n"
     ]
    }
   ],
   "source": [
    "# Treinar o modelo\n",
    "history = model.fit(\n",
    "    train_ds,\n",
    "    validation_data=valid_ds,\n",
    "    epochs=100,                   # Definir um número de épocas alto para permitir que o EarlyStopping atue\n",
    "    callbacks=[early_stopping, reduce_lr]\n",
    ")\n",
    "\n",
    "# Avaliar o modelo no conjunto de validação\n",
    "val_loss, val_accuracy = model.evaluate(valid_ds)\n",
    "print(\"Validation Accuracy:\", val_accuracy)\n"
   ]
  },
  {
   "cell_type": "markdown",
   "id": "3ee9223e-dd48-4814-badc-ac9ac377be58",
   "metadata": {
    "tags": []
   },
   "source": [
    "# Submission"
   ]
  },
  {
   "cell_type": "code",
   "execution_count": 41,
   "id": "8d241231-6f1b-4040-8eb2-432cce3ca166",
   "metadata": {
    "tags": []
   },
   "outputs": [
    {
     "name": "stdout",
     "output_type": "stream",
     "text": [
      "5/5 [==============================] - 0s 43ms/step\n"
     ]
    },
    {
     "data": {
      "text/html": [
       "<div>\n",
       "<style scoped>\n",
       "    .dataframe tbody tr th:only-of-type {\n",
       "        vertical-align: middle;\n",
       "    }\n",
       "\n",
       "    .dataframe tbody tr th {\n",
       "        vertical-align: top;\n",
       "    }\n",
       "\n",
       "    .dataframe thead th {\n",
       "        text-align: right;\n",
       "    }\n",
       "</style>\n",
       "<table border=\"1\" class=\"dataframe\">\n",
       "  <thead>\n",
       "    <tr style=\"text-align: right;\">\n",
       "      <th></th>\n",
       "      <th>PassengerId</th>\n",
       "      <th>Transported</th>\n",
       "    </tr>\n",
       "  </thead>\n",
       "  <tbody>\n",
       "    <tr>\n",
       "      <th>0</th>\n",
       "      <td>0013_01</td>\n",
       "      <td>True</td>\n",
       "    </tr>\n",
       "    <tr>\n",
       "      <th>1</th>\n",
       "      <td>0018_01</td>\n",
       "      <td>False</td>\n",
       "    </tr>\n",
       "    <tr>\n",
       "      <th>2</th>\n",
       "      <td>0019_01</td>\n",
       "      <td>True</td>\n",
       "    </tr>\n",
       "    <tr>\n",
       "      <th>3</th>\n",
       "      <td>0021_01</td>\n",
       "      <td>True</td>\n",
       "    </tr>\n",
       "    <tr>\n",
       "      <th>4</th>\n",
       "      <td>0023_01</td>\n",
       "      <td>True</td>\n",
       "    </tr>\n",
       "  </tbody>\n",
       "</table>\n",
       "</div>"
      ],
      "text/plain": [
       "  PassengerId  Transported\n",
       "0     0013_01         True\n",
       "1     0018_01        False\n",
       "2     0019_01         True\n",
       "3     0021_01         True\n",
       "4     0023_01         True"
      ]
     },
     "execution_count": 41,
     "metadata": {},
     "output_type": "execute_result"
    }
   ],
   "source": [
    "# Load the test dataset\n",
    "test_df = pd.read_csv('test.csv')\n",
    "submission_id = test_df['PassengerId']\n",
    "\n",
    "# Impute missing values with the mode for categorical columns\n",
    "categorical_columns = ['VIP', 'CryoSleep']\n",
    "test_df[categorical_columns] = test_df[categorical_columns].fillna(test_df[categorical_columns].mode().iloc[0])\n",
    "\n",
    "# Impute missing values with the mean for numerical columns\n",
    "numerical_columns = ['RoomService', 'FoodCourt', 'ShoppingMall', 'Spa', 'VRDeck', 'Age']\n",
    "test_df[numerical_columns] = test_df[numerical_columns].fillna(test_df[numerical_columns].mean())\n",
    "\n",
    "# Create new columns - Deck, Cabin_num, and Side from the Cabin column, then drop Cabin\n",
    "test_df[['Deck', 'Cabin_num', 'Side']] = test_df['Cabin'].str.split(\"/\", expand=True)\n",
    "test_df = test_df.drop('Cabin', axis=1)\n",
    "\n",
    "# Convert boolean columns (VIP, CryoSleep) to integers\n",
    "test_df['VIP'] = test_df['VIP'].astype(int)\n",
    "test_df['CryoSleep'] = test_df['CryoSleep'].astype(int)\n",
    "\n",
    "# Convert the pandas DataFrame to a TensorFlow Decision Forests compatible dataset\n",
    "test_ds = tfdf.keras.pd_dataframe_to_tf_dataset(test_df)\n",
    "\n",
    "# Get predictions for the test dataset\n",
    "predictions = rf.predict(test_ds)\n",
    "n_predictions = (predictions > 0.5).astype(bool)\n",
    "\n",
    "# Create the submission DataFrame in the required format\n",
    "output = pd.DataFrame({'PassengerId': submission_id,\n",
    "                       'Transported': n_predictions.squeeze()})\n",
    "\n",
    "# Display the first few rows to verify the result\n",
    "output.head()"
   ]
  },
  {
   "cell_type": "code",
   "execution_count": 42,
   "id": "3e2eda8e-846c-488a-b8d0-a503cb5cf8ca",
   "metadata": {
    "tags": []
   },
   "outputs": [
    {
     "data": {
      "text/html": [
       "<div>\n",
       "<style scoped>\n",
       "    .dataframe tbody tr th:only-of-type {\n",
       "        vertical-align: middle;\n",
       "    }\n",
       "\n",
       "    .dataframe tbody tr th {\n",
       "        vertical-align: top;\n",
       "    }\n",
       "\n",
       "    .dataframe thead th {\n",
       "        text-align: right;\n",
       "    }\n",
       "</style>\n",
       "<table border=\"1\" class=\"dataframe\">\n",
       "  <thead>\n",
       "    <tr style=\"text-align: right;\">\n",
       "      <th></th>\n",
       "      <th>PassengerId</th>\n",
       "      <th>Transported</th>\n",
       "    </tr>\n",
       "  </thead>\n",
       "  <tbody>\n",
       "    <tr>\n",
       "      <th>0</th>\n",
       "      <td>0013_01</td>\n",
       "      <td>True</td>\n",
       "    </tr>\n",
       "    <tr>\n",
       "      <th>1</th>\n",
       "      <td>0018_01</td>\n",
       "      <td>False</td>\n",
       "    </tr>\n",
       "    <tr>\n",
       "      <th>2</th>\n",
       "      <td>0019_01</td>\n",
       "      <td>True</td>\n",
       "    </tr>\n",
       "    <tr>\n",
       "      <th>3</th>\n",
       "      <td>0021_01</td>\n",
       "      <td>True</td>\n",
       "    </tr>\n",
       "    <tr>\n",
       "      <th>4</th>\n",
       "      <td>0023_01</td>\n",
       "      <td>True</td>\n",
       "    </tr>\n",
       "  </tbody>\n",
       "</table>\n",
       "</div>"
      ],
      "text/plain": [
       "  PassengerId  Transported\n",
       "0     0013_01         True\n",
       "1     0018_01        False\n",
       "2     0019_01         True\n",
       "3     0021_01         True\n",
       "4     0023_01         True"
      ]
     },
     "execution_count": 42,
     "metadata": {},
     "output_type": "execute_result"
    }
   ],
   "source": [
    "sample_submission_df = pd.read_csv('sample_submission.csv')\n",
    "sample_submission_df['Transported'] = n_predictions\n",
    "sample_submission_df.to_csv('submission.csv', index=False)\n",
    "sample_submission_df.head()"
   ]
  }
 ],
 "metadata": {
  "kernelspec": {
   "display_name": "TensorFlow Environment",
   "language": "python",
   "name": "tensorflow-env"
  },
  "language_info": {
   "codemirror_mode": {
    "name": "ipython",
    "version": 3
   },
   "file_extension": ".py",
   "mimetype": "text/x-python",
   "name": "python",
   "nbconvert_exporter": "python",
   "pygments_lexer": "ipython3",
   "version": "3.11.5"
  }
 },
 "nbformat": 4,
 "nbformat_minor": 5
}
