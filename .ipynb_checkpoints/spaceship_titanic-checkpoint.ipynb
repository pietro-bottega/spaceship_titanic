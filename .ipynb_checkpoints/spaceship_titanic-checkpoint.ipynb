{
 "cells": [
  {
   "cell_type": "markdown",
   "id": "a8e06f7d-fd18-430f-a76e-567a3866e3ea",
   "metadata": {},
   "source": [
    "# Kaggle Competition: Spaceship Titanic"
   ]
  },
  {
   "cell_type": "markdown",
   "id": "280ed032-c64a-41c2-bf78-57782b180d24",
   "metadata": {},
   "source": [
    "In this competition your task is to predict whether a passenger was transported to an alternate dimension during the Spaceship Titanic's collision with the spacetime anomaly.\n",
    "\n",
    "#### Datasets:\n",
    "- Train: Personal records for about 2/3 of passengers, to be used as training data\n",
    "- Test: Personal records for the remaining 1/3 of the passengers, to be used as test data. The goal is to predict the value of 'Transported' in this set."
   ]
  },
  {
   "cell_type": "code",
   "execution_count": null,
   "id": "683f9e2a-d3d3-4aed-87cc-43a93facc2ef",
   "metadata": {},
   "outputs": [],
   "source": [
    "import pandas as pd\n",
    "from sklearn.linear_model import LogisticRegression\n",
    "from sklearn import metrics"
   ]
  },
  {
   "cell_type": "markdown",
   "id": "b376776b-b470-48de-94f6-9b8d45547d21",
   "metadata": {},
   "source": [
    "# Loading train set and data cleaning"
   ]
  },
  {
   "cell_type": "code",
   "execution_count": 5,
   "id": "4b0e654b-657c-4931-91f4-a7e936b17610",
   "metadata": {},
   "outputs": [
    {
     "name": "stdout",
     "output_type": "stream",
     "text": [
      "<class 'pandas.core.frame.DataFrame'>\n",
      "RangeIndex: 8693 entries, 0 to 8692\n",
      "Data columns (total 14 columns):\n",
      " #   Column        Non-Null Count  Dtype  \n",
      "---  ------        --------------  -----  \n",
      " 0   PassengerId   8693 non-null   object \n",
      " 1   HomePlanet    8492 non-null   object \n",
      " 2   CryoSleep     8476 non-null   object \n",
      " 3   Cabin         8494 non-null   object \n",
      " 4   Destination   8511 non-null   object \n",
      " 5   Age           8514 non-null   float64\n",
      " 6   VIP           8490 non-null   object \n",
      " 7   RoomService   8512 non-null   float64\n",
      " 8   FoodCourt     8510 non-null   float64\n",
      " 9   ShoppingMall  8485 non-null   float64\n",
      " 10  Spa           8510 non-null   float64\n",
      " 11  VRDeck        8505 non-null   float64\n",
      " 12  Name          8493 non-null   object \n",
      " 13  Transported   8693 non-null   bool   \n",
      "dtypes: bool(1), float64(6), object(7)\n",
      "memory usage: 891.5+ KB\n"
     ]
    }
   ],
   "source": [
    "train = pd.read_csv('train.csv')\n",
    "train.info()"
   ]
  },
  {
   "cell_type": "code",
   "execution_count": 14,
   "id": "b740e81e-84b4-4dd6-a892-19b28d935c84",
   "metadata": {},
   "outputs": [
    {
     "data": {
      "text/plain": [
       "Transported\n",
       "True     0.503624\n",
       "False    0.496376\n",
       "Name: proportion, dtype: float64"
      ]
     },
     "execution_count": 14,
     "metadata": {},
     "output_type": "execute_result"
    }
   ],
   "source": [
    "train['Transported'].value_counts(normalize=True)"
   ]
  },
  {
   "cell_type": "code",
   "execution_count": 15,
   "id": "765366d5-3a73-48d8-88db-604bd1c30165",
   "metadata": {},
   "outputs": [
    {
     "name": "stdout",
     "output_type": "stream",
     "text": [
      "<class 'pandas.core.frame.DataFrame'>\n",
      "Index: 6606 entries, 0 to 8692\n",
      "Data columns (total 14 columns):\n",
      " #   Column        Non-Null Count  Dtype  \n",
      "---  ------        --------------  -----  \n",
      " 0   PassengerId   6606 non-null   object \n",
      " 1   HomePlanet    6606 non-null   object \n",
      " 2   CryoSleep     6606 non-null   object \n",
      " 3   Cabin         6606 non-null   object \n",
      " 4   Destination   6606 non-null   object \n",
      " 5   Age           6606 non-null   float64\n",
      " 6   VIP           6606 non-null   object \n",
      " 7   RoomService   6606 non-null   float64\n",
      " 8   FoodCourt     6606 non-null   float64\n",
      " 9   ShoppingMall  6606 non-null   float64\n",
      " 10  Spa           6606 non-null   float64\n",
      " 11  VRDeck        6606 non-null   float64\n",
      " 12  Name          6606 non-null   object \n",
      " 13  Transported   6606 non-null   bool   \n",
      "dtypes: bool(1), float64(6), object(7)\n",
      "memory usage: 729.0+ KB\n"
     ]
    }
   ],
   "source": [
    "# Doing something that just feels wrong that is excluding all rows with any NA column\n",
    "\n",
    "rain_clean = train.dropna(axis=0)\n",
    "train_clean.info()"
   ]
  },
  {
   "cell_type": "code",
   "execution_count": 16,
   "id": "ccc3cd8f-59ca-4fd7-8373-0010f6593b7b",
   "metadata": {},
   "outputs": [
    {
     "data": {
      "text/plain": [
       "Transported\n",
       "True     0.503633\n",
       "False    0.496367\n",
       "Name: proportion, dtype: float64"
      ]
     },
     "execution_count": 16,
     "metadata": {},
     "output_type": "execute_result"
    }
   ],
   "source": [
    "# Maybe it is not that wrong as it maintains the same proportion of positive y\n",
    "\n",
    "train_clean['Transported'].value_counts(normalize=True)"
   ]
  },
  {
   "cell_type": "markdown",
   "id": "13fac14a-cdee-4c10-9e8f-a9a51b882e67",
   "metadata": {},
   "source": [
    "# Logistic Regression"
   ]
  },
  {
   "cell_type": "markdown",
   "id": "aa44f7ea-3673-49a0-99a2-aef966372235",
   "metadata": {},
   "source": [
    "Logistic Regression applies a linear regression into a Sigmoid function.\n",
    "<br> Outcome is a constant classification of 0 or 1."
   ]
  },
  {
   "cell_type": "markdown",
   "id": "68b760f7-93af-4bd6-81ba-cd68eeacb631",
   "metadata": {},
   "source": [
    "## Mathmatical representation\n",
    "\n",
    "Consists of a Linear Regression, $y$ being the dependent variable and $x_n$ explanatory variables:\n",
    "$$\n",
    "y = \\beta_0 + \\beta_1 X_1 + ...+ \\beta_n X_n\n",
    "$$\n",
    "Applied into a Sigmoid function:\n",
    "$$\n",
    "p = \\frac{1}{1+e^{-y}}\n",
    "$$\n",
    "\n",
    "Differently from linear regression, logistic regression uses **Maximum Likelihood Estimation** instead of Least Squares Method.\n",
    "<bR> MLE determines the parameters that are most likely to produce the observed data."
   ]
  },
  {
   "cell_type": "markdown",
   "id": "22a3853f-2993-41ee-b1b6-6f6ecf0bcb77",
   "metadata": {},
   "source": [
    "The sigmoid function has a S shaped curve, that maps takes any real number and maps into a value between 0 and 1.\n",
    "<br> We can define that a predicted value above 0.5 will return \"True\", and below 0.5 \"False\""
   ]
  },
  {
   "cell_type": "code",
   "execution_count": 17,
   "id": "47134ee8-ae79-488e-b208-59faf5625238",
   "metadata": {},
   "outputs": [
    {
     "ename": "SyntaxError",
     "evalue": "invalid syntax (1656406843.py, line 1)",
     "output_type": "error",
     "traceback": [
      "\u001b[0;36m  Cell \u001b[0;32mIn[17], line 1\u001b[0;36m\u001b[0m\n\u001b[0;31m    https://www.datacamp.com/tutorial/understanding-logistic-regression-python\u001b[0m\n\u001b[0m          ^\u001b[0m\n\u001b[0;31mSyntaxError\u001b[0m\u001b[0;31m:\u001b[0m invalid syntax\n"
     ]
    }
   ],
   "source": [
    "https://www.datacamp.com/tutorial/understanding-logistic-regression-python"
   ]
  }
 ],
 "metadata": {
  "kernelspec": {
   "display_name": "Python 3 (ipykernel)",
   "language": "python",
   "name": "python3"
  },
  "language_info": {
   "codemirror_mode": {
    "name": "ipython",
    "version": 3
   },
   "file_extension": ".py",
   "mimetype": "text/x-python",
   "name": "python",
   "nbconvert_exporter": "python",
   "pygments_lexer": "ipython3",
   "version": "3.9.20"
  }
 },
 "nbformat": 4,
 "nbformat_minor": 5
}
