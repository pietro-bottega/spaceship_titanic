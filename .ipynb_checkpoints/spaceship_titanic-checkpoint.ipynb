{
 "cells": [
  {
   "cell_type": "markdown",
   "id": "a8e06f7d-fd18-430f-a76e-567a3866e3ea",
   "metadata": {},
   "source": [
    "# Kaggle Competition: Spaceship Titanic"
   ]
  },
  {
   "cell_type": "markdown",
   "id": "280ed032-c64a-41c2-bf78-57782b180d24",
   "metadata": {},
   "source": [
    "In this competition your task is to predict whether a passenger was transported to an alternate dimension during the Spaceship Titanic's collision with the spacetime anomaly.\n",
    "\n",
    "#### Datasets:\n",
    "- Train: Personal records for about 2/3 of passengers, to be used as training data\n",
    "- Test: Personal records for the remaining 1/3 of the passengers, to be used as test data. The goal is to predict the value of 'Transported' in this set."
   ]
  },
  {
   "cell_type": "markdown",
   "id": "ec06d555-a581-45a4-a49f-a40dbf4df216",
   "metadata": {},
   "source": [
    "## Metadata\n",
    "\n",
    "- **PassengerId (str)** - A unique Id for each passenger. Each Id takes the form gggg_pp where gggg indicates a group the passenger is travelling with and pp is their number within the group. People in a group are often family members, but not always.\n",
    "- **HomePlanet (str)** - The planet the passenger departed from, typically their planet of permanent residence.\n",
    "- **CryoSleep (bool)** - Indicates whether the passenger elected to be put into suspended animation for the duration of the voyage. Passengers in cryosleep are confined to their cabins.\n",
    "- **Cabin (str)** - The cabin number where the passenger is staying. Takes the form deck/num/side, where side can be either P for Port or S for Starboard.\n",
    "- **Destination (str)** - The planet the passenger will be debarking to.\n",
    "- **Age (float)** - The age of the passenger.\n",
    "- **VIP (bool)** - Whether the passenger has paid for special VIP service during the voyage.\n",
    "- **RoomService, FoodCourt, ShoppingMall, Spa, VRDeck (float)** - Amount the passenger has billed at each of the Spaceship Titanic's many luxury amenities.\n",
    "- **Name (str)** - The first and last names of the passenger.\n",
    "- **Transported (bool)** - Whether the passenger was transported to another dimension. This is the target, the column you are trying to predict."
   ]
  },
  {
   "cell_type": "code",
   "execution_count": 1,
   "id": "683f9e2a-d3d3-4aed-87cc-43a93facc2ef",
   "metadata": {},
   "outputs": [],
   "source": [
    "import pandas as pd\n",
    "import numpy as np\n",
    "from sklearn.linear_model import LogisticRegression\n",
    "from sklearn.preprocessing import StandardScaler\n",
    "from sklearn.model_selection import train_test_split\n",
    "from sklearn import metrics\n",
    "import seaborn as sns\n",
    "import matplotlib.pyplot as plt\n",
    "np.set_printoptions(legacy='1.25')"
   ]
  },
  {
   "cell_type": "markdown",
   "id": "b376776b-b470-48de-94f6-9b8d45547d21",
   "metadata": {},
   "source": [
    "# Loading train set and data cleaning"
   ]
  },
  {
   "cell_type": "code",
   "execution_count": 2,
   "id": "4b0e654b-657c-4931-91f4-a7e936b17610",
   "metadata": {},
   "outputs": [
    {
     "name": "stdout",
     "output_type": "stream",
     "text": [
      "<class 'pandas.core.frame.DataFrame'>\n",
      "RangeIndex: 8693 entries, 0 to 8692\n",
      "Data columns (total 15 columns):\n",
      " #   Column        Non-Null Count  Dtype   \n",
      "---  ------        --------------  -----   \n",
      " 0   PassengerId   8693 non-null   object  \n",
      " 1   HomePlanet    8492 non-null   category\n",
      " 2   CryoSleep     8693 non-null   bool    \n",
      " 3   Destination   8511 non-null   category\n",
      " 4   Age           8514 non-null   float64 \n",
      " 5   VIP           8693 non-null   bool    \n",
      " 6   RoomService   8512 non-null   float64 \n",
      " 7   FoodCourt     8510 non-null   float64 \n",
      " 8   ShoppingMall  8485 non-null   float64 \n",
      " 9   Spa           8510 non-null   float64 \n",
      " 10  VRDeck        8505 non-null   float64 \n",
      " 11  Name          8493 non-null   object  \n",
      " 12  Transported   8693 non-null   int64   \n",
      " 13  Deck          8494 non-null   object  \n",
      " 14  Side          8494 non-null   object  \n",
      "dtypes: bool(2), category(2), float64(6), int64(1), object(4)\n",
      "memory usage: 781.4+ KB\n"
     ]
    }
   ],
   "source": [
    "# Loading dataset\n",
    "\n",
    "train = pd.read_csv('train.csv')\n",
    "\n",
    "# split Cabin to extract more information\n",
    "\n",
    "train['Deck'] = train['Cabin'].str.split(pat='/', expand=True)[0]\n",
    "train['Side'] = train['Cabin'].str.split(pat='/', expand=True)[2]\n",
    "\n",
    "# assign dtypes for less memory usage\n",
    "\n",
    "column_mapper = {\n",
    "    'HomePlanet':'category',\n",
    "    'CryoSleep':'bool',\n",
    "    'Destination':'category',\n",
    "    'VIP':'bool',\n",
    "    'Transported':'int'\n",
    "}\n",
    "\n",
    "train = train.astype(column_mapper).drop('Cabin', axis=1)\n",
    "\n",
    "train.info()"
   ]
  },
  {
   "cell_type": "code",
   "execution_count": 3,
   "id": "b740e81e-84b4-4dd6-a892-19b28d935c84",
   "metadata": {},
   "outputs": [
    {
     "data": {
      "text/plain": [
       "Transported\n",
       "1    0.503624\n",
       "0    0.496376\n",
       "Name: proportion, dtype: float64"
      ]
     },
     "execution_count": 3,
     "metadata": {},
     "output_type": "execute_result"
    }
   ],
   "source": [
    "# Proportion of observations with positive y variable, is well represented, won't have this risk for biasing the model\n",
    "\n",
    "train['Transported'].value_counts(normalize=True)"
   ]
  },
  {
   "cell_type": "code",
   "execution_count": 4,
   "id": "03f85660-3523-4448-9f68-9ca3380e2384",
   "metadata": {},
   "outputs": [
    {
     "name": "stdout",
     "output_type": "stream",
     "text": [
      "<class 'pandas.core.frame.DataFrame'>\n",
      "RangeIndex: 8693 entries, 0 to 8692\n",
      "Data columns (total 15 columns):\n",
      " #   Column        Non-Null Count  Dtype   \n",
      "---  ------        --------------  -----   \n",
      " 0   PassengerId   8693 non-null   object  \n",
      " 1   HomePlanet    8693 non-null   category\n",
      " 2   CryoSleep     8693 non-null   bool    \n",
      " 3   Destination   8693 non-null   category\n",
      " 4   Age           8693 non-null   float64 \n",
      " 5   VIP           8693 non-null   bool    \n",
      " 6   RoomService   8693 non-null   float64 \n",
      " 7   FoodCourt     8693 non-null   float64 \n",
      " 8   ShoppingMall  8693 non-null   float64 \n",
      " 9   Spa           8693 non-null   float64 \n",
      " 10  VRDeck        8693 non-null   float64 \n",
      " 11  Name          8493 non-null   object  \n",
      " 12  Transported   8693 non-null   int64   \n",
      " 13  Deck          8693 non-null   object  \n",
      " 14  Side          8693 non-null   object  \n",
      "dtypes: bool(2), category(2), float64(6), int64(1), object(4)\n",
      "memory usage: 781.4+ KB\n"
     ]
    }
   ],
   "source": [
    "# Impute missing values with the mode for categorical columns\n",
    "categorical_columns = ['HomePlanet', 'Deck', 'Side', 'Destination']\n",
    "train[categorical_columns] = train[categorical_columns].fillna(train[categorical_columns].mode().iloc[0])\n",
    "\n",
    "# Impute missing values with the mean for numerical columns\n",
    "numerical_columns = ['RoomService', 'FoodCourt', 'ShoppingMall', 'Spa', 'VRDeck', 'Age']\n",
    "train[numerical_columns] = train[numerical_columns].fillna(train[numerical_columns].mean())\n",
    "\n",
    "train.info()"
   ]
  },
  {
   "cell_type": "code",
   "execution_count": 5,
   "id": "0347c597-1bc8-4fd5-a950-d69709c17149",
   "metadata": {},
   "outputs": [
    {
     "data": {
      "image/png": "[encoded data removed]",
      "text/plain": [
       "<Figure size 640x480 with 2 Axes>"
      ]
     },
     "metadata": {},
     "output_type": "display_data"
    }
   ],
   "source": [
    "# Checking multicollinearity: not observable in continuous columns\n",
    "\n",
    "df_continuous = train[['Age','RoomService','FoodCourt','ShoppingMall','Spa','VRDeck']]\n",
    "df_continuous_corr = df_continuous.corr()\n",
    "\n",
    "cmap = sns.cm.rocket_r\n",
    "sns.heatmap(df_continuous_corr, cmap = cmap)\n",
    "plt.show()"
   ]
  },
  {
   "cell_type": "markdown",
   "id": "96c97332-8220-421f-a50d-8245b6f7d96a",
   "metadata": {},
   "source": [
    "## Normalizing continuous data\n",
    "\n",
    "**Normalization vs Standardization**\n",
    "\n",
    "- Normalization (min-max): scales data to a range from 0 and 1\n",
    "$$\n",
    "X_{normal.} = \\frac{X-X_{min}}{X_{max}-X_{min}}\n",
    "$$\n",
    "- Stardardization: transform data to have a mean ($\\mu$) of 0 and standard dev ($\\sigma$) of 1\n",
    "$$\n",
    "X_{stand.} = \\frac{X-\\mu}{\\sigma}\n",
    "$$\n",
    "<br> As Logistic Regression assumes a normal distribution, I'll be using a Z-score standardization"
   ]
  },
  {
   "cell_type": "code",
   "execution_count": 6,
   "id": "291110cb-22ae-4711-b9e4-30fd860801e3",
   "metadata": {},
   "outputs": [],
   "source": [
    "continuous_features = ['Age','RoomService','FoodCourt','ShoppingMall','Spa','VRDeck']"
   ]
  },
  {
   "cell_type": "code",
   "execution_count": 7,
   "id": "8c99a2bf-c9e3-4c3c-8424-b2bab71d5f4d",
   "metadata": {},
   "outputs": [
    {
     "data": {
      "text/plain": [
       "array([[ 0.70943692, -0.34058987, -0.28731404, -0.29081703, -0.27666342,\n",
       "        -0.26902263],\n",
       "       [-0.33671733, -0.1753636 , -0.28166908, -0.24896783,  0.2115053 ,\n",
       "        -0.23019432],\n",
       "       [ 2.03456565, -0.27540886,  1.95561575, -0.29081703,  5.69428913,\n",
       "        -0.22578201],\n",
       "       ...,\n",
       "       [-0.1972301 , -0.34058987, -0.28731404,  2.84285059, -0.27577423,\n",
       "        -0.26902263],\n",
       "       [ 0.2212316 , -0.34058987,  0.37063712, -0.29081703,  0.03722284,\n",
       "         2.58574044],\n",
       "       [ 1.05815501, -0.14959437,  2.65308161, -0.29081703, -0.27666342,\n",
       "        -0.25843309]])"
      ]
     },
     "execution_count": 7,
     "metadata": {},
     "output_type": "execute_result"
    }
   ],
   "source": [
    "# Z-Score normalize the continuous variables\n",
    "\n",
    "standard_scaler = StandardScaler()\n",
    "\n",
    "X_standard = standard_scaler.fit_transform(train[continuous_features])\n",
    "X_standard"
   ]
  },
  {
   "cell_type": "code",
   "execution_count": 8,
   "id": "5978cbaf-566f-4def-bef5-ab756a92320c",
   "metadata": {},
   "outputs": [
    {
     "name": "stdout",
     "output_type": "stream",
     "text": [
      "From 8693 observations,  5577  are 0 for selected column\n"
     ]
    },
    {
     "data": {
      "image/png": "[encoded data removed]",
      "text/plain": [
       "<Figure size 640x480 with 1 Axes>"
      ]
     },
     "metadata": {},
     "output_type": "display_data"
    }
   ],
   "source": [
    "# input: column to check distribution\n",
    "lookup_col = 'RoomService'\n",
    "\n",
    "# calculation\n",
    "df_cont_lookup = df_continuous[df_continuous[lookup_col] > 0]\n",
    "lookup_standard = standard_scaler.fit_transform(df_cont_lookup)\n",
    "cont_lookup = pd.DataFrame(lookup_standard, columns=continuous_features)\n",
    "\n",
    "# output\n",
    "not_zeros = X_standard.shape[0] - cont_lookup.shape[0]\n",
    "print(f'From', X_standard.shape[0], 'observations, ', not_zeros, ' are 0 for selected column')\n",
    "sns.histplot(data=cont_lookup, x=lookup_col);"
   ]
  },
  {
   "cell_type": "code",
   "execution_count": 9,
   "id": "1646017c-a07a-4eed-8042-4927d42ee87d",
   "metadata": {},
   "outputs": [
    {
     "data": {
      "text/html": [
       "<div>\n",
       "<style scoped>\n",
       "    .dataframe tbody tr th:only-of-type {\n",
       "        vertical-align: middle;\n",
       "    }\n",
       "\n",
       "    .dataframe tbody tr th {\n",
       "        vertical-align: top;\n",
       "    }\n",
       "\n",
       "    .dataframe thead th {\n",
       "        text-align: right;\n",
       "    }\n",
       "</style>\n",
       "<table border=\"1\" class=\"dataframe\">\n",
       "  <thead>\n",
       "    <tr style=\"text-align: right;\">\n",
       "      <th></th>\n",
       "      <th>Age</th>\n",
       "      <th>RoomService</th>\n",
       "      <th>FoodCourt</th>\n",
       "      <th>ShoppingMall</th>\n",
       "      <th>Spa</th>\n",
       "      <th>VRDeck</th>\n",
       "      <th>Transported</th>\n",
       "    </tr>\n",
       "  </thead>\n",
       "  <tbody>\n",
       "    <tr>\n",
       "      <th>0</th>\n",
       "      <td>0.709437</td>\n",
       "      <td>-0.340590</td>\n",
       "      <td>-0.287314</td>\n",
       "      <td>-0.290817</td>\n",
       "      <td>-0.276663</td>\n",
       "      <td>-0.269023</td>\n",
       "      <td>0.0</td>\n",
       "    </tr>\n",
       "    <tr>\n",
       "      <th>1</th>\n",
       "      <td>-0.336717</td>\n",
       "      <td>-0.175364</td>\n",
       "      <td>-0.281669</td>\n",
       "      <td>-0.248968</td>\n",
       "      <td>0.211505</td>\n",
       "      <td>-0.230194</td>\n",
       "      <td>1.0</td>\n",
       "    </tr>\n",
       "    <tr>\n",
       "      <th>2</th>\n",
       "      <td>2.034566</td>\n",
       "      <td>-0.275409</td>\n",
       "      <td>1.955616</td>\n",
       "      <td>-0.290817</td>\n",
       "      <td>5.694289</td>\n",
       "      <td>-0.225782</td>\n",
       "      <td>0.0</td>\n",
       "    </tr>\n",
       "    <tr>\n",
       "      <th>3</th>\n",
       "      <td>0.290975</td>\n",
       "      <td>-0.340590</td>\n",
       "      <td>0.517406</td>\n",
       "      <td>0.330225</td>\n",
       "      <td>2.683471</td>\n",
       "      <td>-0.098708</td>\n",
       "      <td>0.0</td>\n",
       "    </tr>\n",
       "    <tr>\n",
       "      <th>4</th>\n",
       "      <td>-0.894666</td>\n",
       "      <td>0.118709</td>\n",
       "      <td>-0.243409</td>\n",
       "      <td>-0.038048</td>\n",
       "      <td>0.225732</td>\n",
       "      <td>-0.267258</td>\n",
       "      <td>1.0</td>\n",
       "    </tr>\n",
       "    <tr>\n",
       "      <th>...</th>\n",
       "      <td>...</td>\n",
       "      <td>...</td>\n",
       "      <td>...</td>\n",
       "      <td>...</td>\n",
       "      <td>...</td>\n",
       "      <td>...</td>\n",
       "      <td>...</td>\n",
       "    </tr>\n",
       "    <tr>\n",
       "      <th>8688</th>\n",
       "      <td>0.848924</td>\n",
       "      <td>-0.340590</td>\n",
       "      <td>3.989682</td>\n",
       "      <td>-0.290817</td>\n",
       "      <td>1.184286</td>\n",
       "      <td>-0.203720</td>\n",
       "      <td>0.0</td>\n",
       "    </tr>\n",
       "    <tr>\n",
       "      <th>8689</th>\n",
       "      <td>-0.755179</td>\n",
       "      <td>-0.340590</td>\n",
       "      <td>-0.287314</td>\n",
       "      <td>-0.290817</td>\n",
       "      <td>-0.276663</td>\n",
       "      <td>-0.269023</td>\n",
       "      <td>0.0</td>\n",
       "    </tr>\n",
       "    <tr>\n",
       "      <th>8690</th>\n",
       "      <td>-0.197230</td>\n",
       "      <td>-0.340590</td>\n",
       "      <td>-0.287314</td>\n",
       "      <td>2.842851</td>\n",
       "      <td>-0.275774</td>\n",
       "      <td>-0.269023</td>\n",
       "      <td>1.0</td>\n",
       "    </tr>\n",
       "    <tr>\n",
       "      <th>8691</th>\n",
       "      <td>0.221232</td>\n",
       "      <td>-0.340590</td>\n",
       "      <td>0.370637</td>\n",
       "      <td>-0.290817</td>\n",
       "      <td>0.037223</td>\n",
       "      <td>2.585740</td>\n",
       "      <td>0.0</td>\n",
       "    </tr>\n",
       "    <tr>\n",
       "      <th>8692</th>\n",
       "      <td>1.058155</td>\n",
       "      <td>-0.149594</td>\n",
       "      <td>2.653082</td>\n",
       "      <td>-0.290817</td>\n",
       "      <td>-0.276663</td>\n",
       "      <td>-0.258433</td>\n",
       "      <td>1.0</td>\n",
       "    </tr>\n",
       "  </tbody>\n",
       "</table>\n",
       "<p>8693 rows × 7 columns</p>\n",
       "</div>"
      ],
      "text/plain": [
       "           Age  RoomService  FoodCourt  ShoppingMall       Spa    VRDeck  \\\n",
       "0     0.709437    -0.340590  -0.287314     -0.290817 -0.276663 -0.269023   \n",
       "1    -0.336717    -0.175364  -0.281669     -0.248968  0.211505 -0.230194   \n",
       "2     2.034566    -0.275409   1.955616     -0.290817  5.694289 -0.225782   \n",
       "3     0.290975    -0.340590   0.517406      0.330225  2.683471 -0.098708   \n",
       "4    -0.894666     0.118709  -0.243409     -0.038048  0.225732 -0.267258   \n",
       "...        ...          ...        ...           ...       ...       ...   \n",
       "8688  0.848924    -0.340590   3.989682     -0.290817  1.184286 -0.203720   \n",
       "8689 -0.755179    -0.340590  -0.287314     -0.290817 -0.276663 -0.269023   \n",
       "8690 -0.197230    -0.340590  -0.287314      2.842851 -0.275774 -0.269023   \n",
       "8691  0.221232    -0.340590   0.370637     -0.290817  0.037223  2.585740   \n",
       "8692  1.058155    -0.149594   2.653082     -0.290817 -0.276663 -0.258433   \n",
       "\n",
       "      Transported  \n",
       "0             0.0  \n",
       "1             1.0  \n",
       "2             0.0  \n",
       "3             0.0  \n",
       "4             1.0  \n",
       "...           ...  \n",
       "8688          0.0  \n",
       "8689          0.0  \n",
       "8690          1.0  \n",
       "8691          0.0  \n",
       "8692          1.0  \n",
       "\n",
       "[8693 rows x 7 columns]"
      ]
     },
     "execution_count": 9,
     "metadata": {},
     "output_type": "execute_result"
    }
   ],
   "source": [
    "# Convert transported to array to append\n",
    "transported_arr = train['Transported'].to_numpy()\n",
    "transported_arr = transported_arr[:, np.newaxis]\n",
    "\n",
    "# Create df with normalized cont var and transported\n",
    "X_yappended = np.append(X_standard, transported_arr, axis=1)\n",
    "cont_standard = pd.DataFrame(X_yappended, columns= np.append(continuous_features, ['Transported'], axis=0))\n",
    "cont_standard"
   ]
  },
  {
   "cell_type": "markdown",
   "id": "53c3d6b7-f5d4-4acd-bfab-a60a5965f464",
   "metadata": {},
   "source": [
    "## Treating categorical as dummies"
   ]
  },
  {
   "cell_type": "code",
   "execution_count": 10,
   "id": "72176896-5c67-4b9e-b985-1d8b2580057b",
   "metadata": {},
   "outputs": [
    {
     "name": "stdout",
     "output_type": "stream",
     "text": [
      "<class 'pandas.core.frame.DataFrame'>\n",
      "RangeIndex: 8693 entries, 0 to 8692\n",
      "Data columns (total 15 columns):\n",
      " #   Column        Non-Null Count  Dtype   \n",
      "---  ------        --------------  -----   \n",
      " 0   PassengerId   8693 non-null   object  \n",
      " 1   HomePlanet    8693 non-null   category\n",
      " 2   CryoSleep     8693 non-null   int64   \n",
      " 3   Destination   8693 non-null   category\n",
      " 4   Age           8693 non-null   float64 \n",
      " 5   VIP           8693 non-null   int64   \n",
      " 6   RoomService   8693 non-null   float64 \n",
      " 7   FoodCourt     8693 non-null   float64 \n",
      " 8   ShoppingMall  8693 non-null   float64 \n",
      " 9   Spa           8693 non-null   float64 \n",
      " 10  VRDeck        8693 non-null   float64 \n",
      " 11  Name          8493 non-null   object  \n",
      " 12  Transported   8693 non-null   int64   \n",
      " 13  Deck          8693 non-null   object  \n",
      " 14  Side          8693 non-null   object  \n",
      "dtypes: category(2), float64(6), int64(3), object(4)\n",
      "memory usage: 900.2+ KB\n"
     ]
    }
   ],
   "source": [
    "train['CryoSleep'] = train.loc[:,'CryoSleep'].astype(int)\n",
    "train['VIP'] = train.loc[:,'VIP'].astype(int)\n",
    "train.info()"
   ]
  },
  {
   "cell_type": "code",
   "execution_count": 11,
   "id": "fbfe0799-01a2-4a2c-9526-ab5ffcc449f3",
   "metadata": {},
   "outputs": [],
   "source": [
    "categorical_features = ['HomePlanet', 'Destination', 'Deck', 'Side']"
   ]
  },
  {
   "cell_type": "code",
   "execution_count": 12,
   "id": "22d7ae0b-0818-42da-8880-7b34bd5a684d",
   "metadata": {},
   "outputs": [
    {
     "data": {
      "text/html": [
       "<div>\n",
       "<style scoped>\n",
       "    .dataframe tbody tr th:only-of-type {\n",
       "        vertical-align: middle;\n",
       "    }\n",
       "\n",
       "    .dataframe tbody tr th {\n",
       "        vertical-align: top;\n",
       "    }\n",
       "\n",
       "    .dataframe thead th {\n",
       "        text-align: right;\n",
       "    }\n",
       "</style>\n",
       "<table border=\"1\" class=\"dataframe\">\n",
       "  <thead>\n",
       "    <tr style=\"text-align: right;\">\n",
       "      <th></th>\n",
       "      <th>CryoSleep</th>\n",
       "      <th>VIP</th>\n",
       "      <th>HomePlanet_Europa</th>\n",
       "      <th>HomePlanet_Mars</th>\n",
       "      <th>Destination_PSO J318.5-22</th>\n",
       "      <th>Destination_TRAPPIST-1e</th>\n",
       "      <th>Deck_B</th>\n",
       "      <th>Deck_C</th>\n",
       "      <th>Deck_D</th>\n",
       "      <th>Deck_E</th>\n",
       "      <th>Deck_F</th>\n",
       "      <th>Deck_G</th>\n",
       "      <th>Deck_T</th>\n",
       "      <th>Side_S</th>\n",
       "    </tr>\n",
       "  </thead>\n",
       "  <tbody>\n",
       "    <tr>\n",
       "      <th>0</th>\n",
       "      <td>0</td>\n",
       "      <td>0</td>\n",
       "      <td>1</td>\n",
       "      <td>0</td>\n",
       "      <td>0</td>\n",
       "      <td>1</td>\n",
       "      <td>1</td>\n",
       "      <td>0</td>\n",
       "      <td>0</td>\n",
       "      <td>0</td>\n",
       "      <td>0</td>\n",
       "      <td>0</td>\n",
       "      <td>0</td>\n",
       "      <td>0</td>\n",
       "    </tr>\n",
       "    <tr>\n",
       "      <th>1</th>\n",
       "      <td>0</td>\n",
       "      <td>0</td>\n",
       "      <td>0</td>\n",
       "      <td>0</td>\n",
       "      <td>0</td>\n",
       "      <td>1</td>\n",
       "      <td>0</td>\n",
       "      <td>0</td>\n",
       "      <td>0</td>\n",
       "      <td>0</td>\n",
       "      <td>1</td>\n",
       "      <td>0</td>\n",
       "      <td>0</td>\n",
       "      <td>1</td>\n",
       "    </tr>\n",
       "    <tr>\n",
       "      <th>2</th>\n",
       "      <td>0</td>\n",
       "      <td>1</td>\n",
       "      <td>1</td>\n",
       "      <td>0</td>\n",
       "      <td>0</td>\n",
       "      <td>1</td>\n",
       "      <td>0</td>\n",
       "      <td>0</td>\n",
       "      <td>0</td>\n",
       "      <td>0</td>\n",
       "      <td>0</td>\n",
       "      <td>0</td>\n",
       "      <td>0</td>\n",
       "      <td>1</td>\n",
       "    </tr>\n",
       "    <tr>\n",
       "      <th>3</th>\n",
       "      <td>0</td>\n",
       "      <td>0</td>\n",
       "      <td>1</td>\n",
       "      <td>0</td>\n",
       "      <td>0</td>\n",
       "      <td>1</td>\n",
       "      <td>0</td>\n",
       "      <td>0</td>\n",
       "      <td>0</td>\n",
       "      <td>0</td>\n",
       "      <td>0</td>\n",
       "      <td>0</td>\n",
       "      <td>0</td>\n",
       "      <td>1</td>\n",
       "    </tr>\n",
       "    <tr>\n",
       "      <th>4</th>\n",
       "      <td>0</td>\n",
       "      <td>0</td>\n",
       "      <td>0</td>\n",
       "      <td>0</td>\n",
       "      <td>0</td>\n",
       "      <td>1</td>\n",
       "      <td>0</td>\n",
       "      <td>0</td>\n",
       "      <td>0</td>\n",
       "      <td>0</td>\n",
       "      <td>1</td>\n",
       "      <td>0</td>\n",
       "      <td>0</td>\n",
       "      <td>1</td>\n",
       "    </tr>\n",
       "    <tr>\n",
       "      <th>...</th>\n",
       "      <td>...</td>\n",
       "      <td>...</td>\n",
       "      <td>...</td>\n",
       "      <td>...</td>\n",
       "      <td>...</td>\n",
       "      <td>...</td>\n",
       "      <td>...</td>\n",
       "      <td>...</td>\n",
       "      <td>...</td>\n",
       "      <td>...</td>\n",
       "      <td>...</td>\n",
       "      <td>...</td>\n",
       "      <td>...</td>\n",
       "      <td>...</td>\n",
       "    </tr>\n",
       "    <tr>\n",
       "      <th>8688</th>\n",
       "      <td>0</td>\n",
       "      <td>1</td>\n",
       "      <td>1</td>\n",
       "      <td>0</td>\n",
       "      <td>0</td>\n",
       "      <td>0</td>\n",
       "      <td>0</td>\n",
       "      <td>0</td>\n",
       "      <td>0</td>\n",
       "      <td>0</td>\n",
       "      <td>0</td>\n",
       "      <td>0</td>\n",
       "      <td>0</td>\n",
       "      <td>0</td>\n",
       "    </tr>\n",
       "    <tr>\n",
       "      <th>8689</th>\n",
       "      <td>1</td>\n",
       "      <td>0</td>\n",
       "      <td>0</td>\n",
       "      <td>0</td>\n",
       "      <td>1</td>\n",
       "      <td>0</td>\n",
       "      <td>0</td>\n",
       "      <td>0</td>\n",
       "      <td>0</td>\n",
       "      <td>0</td>\n",
       "      <td>0</td>\n",
       "      <td>1</td>\n",
       "      <td>0</td>\n",
       "      <td>1</td>\n",
       "    </tr>\n",
       "    <tr>\n",
       "      <th>8690</th>\n",
       "      <td>0</td>\n",
       "      <td>0</td>\n",
       "      <td>0</td>\n",
       "      <td>0</td>\n",
       "      <td>0</td>\n",
       "      <td>1</td>\n",
       "      <td>0</td>\n",
       "      <td>0</td>\n",
       "      <td>0</td>\n",
       "      <td>0</td>\n",
       "      <td>0</td>\n",
       "      <td>1</td>\n",
       "      <td>0</td>\n",
       "      <td>1</td>\n",
       "    </tr>\n",
       "    <tr>\n",
       "      <th>8691</th>\n",
       "      <td>0</td>\n",
       "      <td>0</td>\n",
       "      <td>1</td>\n",
       "      <td>0</td>\n",
       "      <td>0</td>\n",
       "      <td>0</td>\n",
       "      <td>0</td>\n",
       "      <td>0</td>\n",
       "      <td>0</td>\n",
       "      <td>1</td>\n",
       "      <td>0</td>\n",
       "      <td>0</td>\n",
       "      <td>0</td>\n",
       "      <td>1</td>\n",
       "    </tr>\n",
       "    <tr>\n",
       "      <th>8692</th>\n",
       "      <td>0</td>\n",
       "      <td>0</td>\n",
       "      <td>1</td>\n",
       "      <td>0</td>\n",
       "      <td>0</td>\n",
       "      <td>1</td>\n",
       "      <td>0</td>\n",
       "      <td>0</td>\n",
       "      <td>0</td>\n",
       "      <td>1</td>\n",
       "      <td>0</td>\n",
       "      <td>0</td>\n",
       "      <td>0</td>\n",
       "      <td>1</td>\n",
       "    </tr>\n",
       "  </tbody>\n",
       "</table>\n",
       "<p>8693 rows × 14 columns</p>\n",
       "</div>"
      ],
      "text/plain": [
       "      CryoSleep  VIP  HomePlanet_Europa  HomePlanet_Mars  \\\n",
       "0             0    0                  1                0   \n",
       "1             0    0                  0                0   \n",
       "2             0    1                  1                0   \n",
       "3             0    0                  1                0   \n",
       "4             0    0                  0                0   \n",
       "...         ...  ...                ...              ...   \n",
       "8688          0    1                  1                0   \n",
       "8689          1    0                  0                0   \n",
       "8690          0    0                  0                0   \n",
       "8691          0    0                  1                0   \n",
       "8692          0    0                  1                0   \n",
       "\n",
       "      Destination_PSO J318.5-22  Destination_TRAPPIST-1e  Deck_B  Deck_C  \\\n",
       "0                             0                        1       1       0   \n",
       "1                             0                        1       0       0   \n",
       "2                             0                        1       0       0   \n",
       "3                             0                        1       0       0   \n",
       "4                             0                        1       0       0   \n",
       "...                         ...                      ...     ...     ...   \n",
       "8688                          0                        0       0       0   \n",
       "8689                          1                        0       0       0   \n",
       "8690                          0                        1       0       0   \n",
       "8691                          0                        0       0       0   \n",
       "8692                          0                        1       0       0   \n",
       "\n",
       "      Deck_D  Deck_E  Deck_F  Deck_G  Deck_T  Side_S  \n",
       "0          0       0       0       0       0       0  \n",
       "1          0       0       1       0       0       1  \n",
       "2          0       0       0       0       0       1  \n",
       "3          0       0       0       0       0       1  \n",
       "4          0       0       1       0       0       1  \n",
       "...      ...     ...     ...     ...     ...     ...  \n",
       "8688       0       0       0       0       0       0  \n",
       "8689       0       0       0       1       0       1  \n",
       "8690       0       0       0       1       0       1  \n",
       "8691       0       1       0       0       0       1  \n",
       "8692       0       1       0       0       0       1  \n",
       "\n",
       "[8693 rows x 14 columns]"
      ]
     },
     "execution_count": 12,
     "metadata": {},
     "output_type": "execute_result"
    }
   ],
   "source": [
    "# Using one hot encoding\n",
    "# Using drop_first = True to avoid multicolinearity\n",
    "\n",
    "df_categorical = train[np.append(categorical_features, ['CryoSleep', 'VIP'], axis=0)]\n",
    "df_categorical_encoded = pd.get_dummies(df_categorical, columns = categorical_features, dtype='int', drop_first = True)\n",
    "df_categorical_encoded"
   ]
  },
  {
   "cell_type": "markdown",
   "id": "c1d8271d-8852-4d6b-8e21-6caaaa8db0b7",
   "metadata": {},
   "source": [
    "#### Question\n",
    "\n",
    "Should I use some technique to reduce the amount of parameters? Such as PCA? Or it should be done only when there are multicolinearity?\n",
    "<br> I understand it has the trade-off of loosing interpretability"
   ]
  },
  {
   "cell_type": "markdown",
   "id": "13fac14a-cdee-4c10-9e8f-a9a51b882e67",
   "metadata": {},
   "source": [
    "# Logistic Regression"
   ]
  },
  {
   "cell_type": "markdown",
   "id": "68b760f7-93af-4bd6-81ba-cd68eeacb631",
   "metadata": {},
   "source": [
    "## Overview\n",
    "\n",
    "Consists of a Linear Regression, $y$ being the dependent variable and $x_n$ explanatory variables:\n",
    "$$\n",
    "y = \\beta_0 + \\beta_1 X_1 + ...+ \\beta_n X_n\n",
    "$$\n",
    "Applied into a Sigmoid function:\n",
    "$$\n",
    "p = \\frac{1}{1+e^{-y}}\n",
    "$$\n",
    "\n",
    "<br> Therefore, Logistic regression is similar to linear regression, except that coefficients are in terms of *log(odds)*.\n",
    "<br> Additionally, to fit the line based on coefficients to observed datapoints, logistic regression uses *Maximum Likelihood Estimation (MLE)* instead of Least Squares Method.\n",
    "<br> \n",
    "<br> Outcome will be a classification between 0 and 1 probability for the y-variable. Here it will be the \"Transported\" variable.\n"
   ]
  },
  {
   "cell_type": "markdown",
   "id": "51a78c98-64f6-4dc4-9533-b913bba286e6",
   "metadata": {},
   "source": [
    "## Using skitlearn"
   ]
  },
  {
   "cell_type": "markdown",
   "id": "7976c61f-d42d-46b0-9d93-1c21b078af04",
   "metadata": {},
   "source": [
    "### Only continuous features"
   ]
  },
  {
   "cell_type": "code",
   "execution_count": 13,
   "id": "e8023f50-5465-42c1-b4ff-4cfe35d12c33",
   "metadata": {},
   "outputs": [
    {
     "name": "stdout",
     "output_type": "stream",
     "text": [
      "6519 examples in train the set and 2174 examples in the validation set\n"
     ]
    }
   ],
   "source": [
    "X = cont_standard[continuous_features]\n",
    "y = cont_standard['Transported']\n",
    "\n",
    "# Splitting the dataframes into train and validation\n",
    "X_train, X_valid, y_train, y_valid = train_test_split(X, y, test_size=0.25, random_state=16) # randomization is part of this sklearn algorithm\n",
    "print(f\"{len(X_train)} examples in train the set and {len(X_valid)} examples in the validation set\")"
   ]
  },
  {
   "cell_type": "code",
   "execution_count": 14,
   "id": "2fbba543-cab1-40b2-9c8c-ad530c7b98cc",
   "metadata": {},
   "outputs": [
    {
     "data": {
      "text/plain": [
       "array([1., 0., 1., ..., 0., 1., 0.])"
      ]
     },
     "execution_count": 14,
     "metadata": {},
     "output_type": "execute_result"
    }
   ],
   "source": [
    "# Fitting the model to train sets and making the prediction on valiation\n",
    "\n",
    "logreg = LogisticRegression(random_state=16)\n",
    "\n",
    "classifier_cont = logreg.fit(X_train, y_train)\n",
    "\n",
    "y_pred = logreg.predict(X_valid)\n",
    "\n",
    "y_pred"
   ]
  },
  {
   "cell_type": "code",
   "execution_count": 15,
   "id": "dbe10612-13d8-4c83-a9a5-89ef68ee33b8",
   "metadata": {},
   "outputs": [
    {
     "data": {
      "text/plain": [
       "array([[721, 371],\n",
       "       [131, 951]])"
      ]
     },
     "execution_count": 15,
     "metadata": {},
     "output_type": "execute_result"
    }
   ],
   "source": [
    "#Comparing validation and predition for confustion matrix\n",
    "\n",
    "cnf_matrix_1 = metrics.confusion_matrix(y_valid, y_pred)\n",
    "cnf_matrix_1"
   ]
  },
  {
   "cell_type": "code",
   "execution_count": 16,
   "id": "34e91ed5-fcc4-465b-a315-466be757f293",
   "metadata": {},
   "outputs": [
    {
     "data": {
      "image/png": "[encoded data removed]",
      "text/plain": [
       "<Figure size 640x480 with 2 Axes>"
      ]
     },
     "metadata": {},
     "output_type": "display_data"
    }
   ],
   "source": [
    "from sklearn.metrics import ConfusionMatrixDisplay\n",
    "ConfusionMatrixDisplay.from_estimator(classifier_cont, X_valid, y_valid);"
   ]
  },
  {
   "cell_type": "code",
   "execution_count": 17,
   "id": "262aa1c2-98d2-418e-849f-68e7b3c67a7b",
   "metadata": {},
   "outputs": [
    {
     "name": "stdout",
     "output_type": "stream",
     "text": [
      "True negatives:  721\n",
      "False negatives:  131\n",
      "True positive:  951\n",
      "False positive:  371\n"
     ]
    }
   ],
   "source": [
    "# Detailing the Confusion Matrix results\n",
    "\n",
    "print(f'True negatives: ', cnf_matrix_1[0][0])\n",
    "print(f'False negatives: ', cnf_matrix_1[1][0])\n",
    "print(f'True positive: ', cnf_matrix_1[1][1])\n",
    "print(f'False positive: ', cnf_matrix_1[0][1])"
   ]
  },
  {
   "cell_type": "code",
   "execution_count": 18,
   "id": "2303c497-86e8-4c94-ba15-d1a2b12d421a",
   "metadata": {},
   "outputs": [
    {
     "name": "stdout",
     "output_type": "stream",
     "text": [
      "Accuracy =  1672  right predictions,  0.77  score\n"
     ]
    }
   ],
   "source": [
    "# Measure of accuracy\n",
    "\n",
    "from sklearn.metrics import accuracy_score\n",
    "accuracy_norm = accuracy_score(y_valid, y_pred, normalize=True)\n",
    "accuracy_count = accuracy_score(y_valid, y_pred, normalize=False)\n",
    "print(f'Accuracy = ', round(accuracy_count), ' right predictions, ', round(accuracy_norm,2), ' score') "
   ]
  },
  {
   "cell_type": "code",
   "execution_count": 19,
   "id": "e0f013fc-2511-4c53-abe9-84dd92a58674",
   "metadata": {},
   "outputs": [
    {
     "data": {
      "image/png": "[encoded data removed]",
      "text/plain": [
       "<Figure size 640x480 with 1 Axes>"
      ]
     },
     "metadata": {},
     "output_type": "display_data"
    }
   ],
   "source": [
    "from sklearn.metrics import RocCurveDisplay\n",
    "RocCurveDisplay.from_estimator(classifier_cont, X_valid, y_valid);"
   ]
  },
  {
   "cell_type": "code",
   "execution_count": 20,
   "id": "06e62b84-2cb9-4e4a-8491-40af7d43424c",
   "metadata": {},
   "outputs": [
    {
     "data": {
      "text/html": [
       "<div>\n",
       "<style scoped>\n",
       "    .dataframe tbody tr th:only-of-type {\n",
       "        vertical-align: middle;\n",
       "    }\n",
       "\n",
       "    .dataframe tbody tr th {\n",
       "        vertical-align: top;\n",
       "    }\n",
       "\n",
       "    .dataframe thead th {\n",
       "        text-align: right;\n",
       "    }\n",
       "</style>\n",
       "<table border=\"1\" class=\"dataframe\">\n",
       "  <thead>\n",
       "    <tr style=\"text-align: right;\">\n",
       "      <th></th>\n",
       "      <th>Age</th>\n",
       "      <th>RoomService</th>\n",
       "      <th>FoodCourt</th>\n",
       "      <th>ShoppingMall</th>\n",
       "      <th>Spa</th>\n",
       "      <th>VRDeck</th>\n",
       "    </tr>\n",
       "  </thead>\n",
       "  <tbody>\n",
       "    <tr>\n",
       "      <th>Beta Coeff</th>\n",
       "      <td>0.054811</td>\n",
       "      <td>-1.523331</td>\n",
       "      <td>1.131891</td>\n",
       "      <td>0.120396</td>\n",
       "      <td>-2.634958</td>\n",
       "      <td>-2.322906</td>\n",
       "    </tr>\n",
       "    <tr>\n",
       "      <th>Odds Ratio</th>\n",
       "      <td>1.056341</td>\n",
       "      <td>0.217984</td>\n",
       "      <td>3.101515</td>\n",
       "      <td>1.127944</td>\n",
       "      <td>0.071722</td>\n",
       "      <td>0.097988</td>\n",
       "    </tr>\n",
       "  </tbody>\n",
       "</table>\n",
       "</div>"
      ],
      "text/plain": [
       "                 Age  RoomService  FoodCourt  ShoppingMall       Spa    VRDeck\n",
       "Beta Coeff  0.054811    -1.523331   1.131891      0.120396 -2.634958 -2.322906\n",
       "Odds Ratio  1.056341     0.217984   3.101515      1.127944  0.071722  0.097988"
      ]
     },
     "execution_count": 20,
     "metadata": {},
     "output_type": "execute_result"
    }
   ],
   "source": [
    "# Feture importance\n",
    "\n",
    "classifier_cont_coeff_values = np.append(classifier_cont.coef_, np.exp(classifier_cont.coef_), axis=0)\n",
    "classifier_cont_coeff = pd.DataFrame(classifier_cont_coeff_values, columns = continuous_features, index = ['Beta Coeff','Odds Ratio'])\n",
    "classifier_cont_coeff"
   ]
  },
  {
   "cell_type": "markdown",
   "id": "44169ebb-a036-4dd7-9234-5c879a81f5cc",
   "metadata": {},
   "source": [
    "Beta Coeff:\n",
    "- Positive Coefficient: increase in the predictor variable **increases** the log odds of the positive class.\n",
    "- Negative Coefficient: increase in the predictor variable **decreases** the log odds of the positive class.\n",
    "<br>\n",
    "<br>\n",
    "- Odds Ratio > 1: increases the odds of the outcome.\n",
    "- Odds Ratio < 1: decreases the odds of the outcome.\n",
    "- Odds Ratio = 1: does not affect the odds of the outcome.\n",
    "<br>\n",
    "<br> Important to have in mind that the continuous variables were standardized, so it shows relative importance.\n",
    "<br> The test dataframe also needs to be standardized in order to use this model."
   ]
  },
  {
   "cell_type": "markdown",
   "id": "37372962-b7bb-4e0c-99d4-65f944eab84c",
   "metadata": {
    "jp-MarkdownHeadingCollapsed": true
   },
   "source": [
    "### Question:\n",
    "Age has a small importance for the prediction. In econometry, you could do a Wald's test for the hypothesis that Beta Coeff of Age = 0 under 0.05 significance, if it is accepted you can remove this parameter. How would you treat this from a ML POV? That the weight of a given parameter is so small that it justifies being left out?"
   ]
  },
  {
   "cell_type": "markdown",
   "id": "f53c2621-972e-4650-9d10-34a2983e925f",
   "metadata": {},
   "source": [
    "### Continuous and categorical features"
   ]
  },
  {
   "cell_type": "code",
   "execution_count": 21,
   "id": "e3361a50-7ff9-4542-93f4-601f1ab3034e",
   "metadata": {},
   "outputs": [
    {
     "data": {
      "text/html": [
       "<div>\n",
       "<style scoped>\n",
       "    .dataframe tbody tr th:only-of-type {\n",
       "        vertical-align: middle;\n",
       "    }\n",
       "\n",
       "    .dataframe tbody tr th {\n",
       "        vertical-align: top;\n",
       "    }\n",
       "\n",
       "    .dataframe thead th {\n",
       "        text-align: right;\n",
       "    }\n",
       "</style>\n",
       "<table border=\"1\" class=\"dataframe\">\n",
       "  <thead>\n",
       "    <tr style=\"text-align: right;\">\n",
       "      <th></th>\n",
       "      <th>CryoSleep</th>\n",
       "      <th>VIP</th>\n",
       "      <th>HomePlanet_Europa</th>\n",
       "      <th>HomePlanet_Mars</th>\n",
       "      <th>Destination_PSO J318.5-22</th>\n",
       "      <th>Destination_TRAPPIST-1e</th>\n",
       "      <th>Deck_B</th>\n",
       "      <th>Deck_C</th>\n",
       "      <th>Deck_D</th>\n",
       "      <th>Deck_E</th>\n",
       "      <th>...</th>\n",
       "      <th>Deck_G</th>\n",
       "      <th>Deck_T</th>\n",
       "      <th>Side_S</th>\n",
       "      <th>Age</th>\n",
       "      <th>RoomService</th>\n",
       "      <th>FoodCourt</th>\n",
       "      <th>ShoppingMall</th>\n",
       "      <th>Spa</th>\n",
       "      <th>VRDeck</th>\n",
       "      <th>Transported</th>\n",
       "    </tr>\n",
       "  </thead>\n",
       "  <tbody>\n",
       "    <tr>\n",
       "      <th>0</th>\n",
       "      <td>0.0</td>\n",
       "      <td>0.0</td>\n",
       "      <td>1.0</td>\n",
       "      <td>0.0</td>\n",
       "      <td>0.0</td>\n",
       "      <td>1.0</td>\n",
       "      <td>1.0</td>\n",
       "      <td>0.0</td>\n",
       "      <td>0.0</td>\n",
       "      <td>0.0</td>\n",
       "      <td>...</td>\n",
       "      <td>0.0</td>\n",
       "      <td>0.0</td>\n",
       "      <td>0.0</td>\n",
       "      <td>0.709437</td>\n",
       "      <td>-0.340590</td>\n",
       "      <td>-0.287314</td>\n",
       "      <td>-0.290817</td>\n",
       "      <td>-0.276663</td>\n",
       "      <td>-0.269023</td>\n",
       "      <td>0.0</td>\n",
       "    </tr>\n",
       "    <tr>\n",
       "      <th>1</th>\n",
       "      <td>0.0</td>\n",
       "      <td>0.0</td>\n",
       "      <td>0.0</td>\n",
       "      <td>0.0</td>\n",
       "      <td>0.0</td>\n",
       "      <td>1.0</td>\n",
       "      <td>0.0</td>\n",
       "      <td>0.0</td>\n",
       "      <td>0.0</td>\n",
       "      <td>0.0</td>\n",
       "      <td>...</td>\n",
       "      <td>0.0</td>\n",
       "      <td>0.0</td>\n",
       "      <td>1.0</td>\n",
       "      <td>-0.336717</td>\n",
       "      <td>-0.175364</td>\n",
       "      <td>-0.281669</td>\n",
       "      <td>-0.248968</td>\n",
       "      <td>0.211505</td>\n",
       "      <td>-0.230194</td>\n",
       "      <td>1.0</td>\n",
       "    </tr>\n",
       "    <tr>\n",
       "      <th>2</th>\n",
       "      <td>0.0</td>\n",
       "      <td>1.0</td>\n",
       "      <td>1.0</td>\n",
       "      <td>0.0</td>\n",
       "      <td>0.0</td>\n",
       "      <td>1.0</td>\n",
       "      <td>0.0</td>\n",
       "      <td>0.0</td>\n",
       "      <td>0.0</td>\n",
       "      <td>0.0</td>\n",
       "      <td>...</td>\n",
       "      <td>0.0</td>\n",
       "      <td>0.0</td>\n",
       "      <td>1.0</td>\n",
       "      <td>2.034566</td>\n",
       "      <td>-0.275409</td>\n",
       "      <td>1.955616</td>\n",
       "      <td>-0.290817</td>\n",
       "      <td>5.694289</td>\n",
       "      <td>-0.225782</td>\n",
       "      <td>0.0</td>\n",
       "    </tr>\n",
       "    <tr>\n",
       "      <th>3</th>\n",
       "      <td>0.0</td>\n",
       "      <td>0.0</td>\n",
       "      <td>1.0</td>\n",
       "      <td>0.0</td>\n",
       "      <td>0.0</td>\n",
       "      <td>1.0</td>\n",
       "      <td>0.0</td>\n",
       "      <td>0.0</td>\n",
       "      <td>0.0</td>\n",
       "      <td>0.0</td>\n",
       "      <td>...</td>\n",
       "      <td>0.0</td>\n",
       "      <td>0.0</td>\n",
       "      <td>1.0</td>\n",
       "      <td>0.290975</td>\n",
       "      <td>-0.340590</td>\n",
       "      <td>0.517406</td>\n",
       "      <td>0.330225</td>\n",
       "      <td>2.683471</td>\n",
       "      <td>-0.098708</td>\n",
       "      <td>0.0</td>\n",
       "    </tr>\n",
       "    <tr>\n",
       "      <th>4</th>\n",
       "      <td>0.0</td>\n",
       "      <td>0.0</td>\n",
       "      <td>0.0</td>\n",
       "      <td>0.0</td>\n",
       "      <td>0.0</td>\n",
       "      <td>1.0</td>\n",
       "      <td>0.0</td>\n",
       "      <td>0.0</td>\n",
       "      <td>0.0</td>\n",
       "      <td>0.0</td>\n",
       "      <td>...</td>\n",
       "      <td>0.0</td>\n",
       "      <td>0.0</td>\n",
       "      <td>1.0</td>\n",
       "      <td>-0.894666</td>\n",
       "      <td>0.118709</td>\n",
       "      <td>-0.243409</td>\n",
       "      <td>-0.038048</td>\n",
       "      <td>0.225732</td>\n",
       "      <td>-0.267258</td>\n",
       "      <td>1.0</td>\n",
       "    </tr>\n",
       "    <tr>\n",
       "      <th>...</th>\n",
       "      <td>...</td>\n",
       "      <td>...</td>\n",
       "      <td>...</td>\n",
       "      <td>...</td>\n",
       "      <td>...</td>\n",
       "      <td>...</td>\n",
       "      <td>...</td>\n",
       "      <td>...</td>\n",
       "      <td>...</td>\n",
       "      <td>...</td>\n",
       "      <td>...</td>\n",
       "      <td>...</td>\n",
       "      <td>...</td>\n",
       "      <td>...</td>\n",
       "      <td>...</td>\n",
       "      <td>...</td>\n",
       "      <td>...</td>\n",
       "      <td>...</td>\n",
       "      <td>...</td>\n",
       "      <td>...</td>\n",
       "      <td>...</td>\n",
       "    </tr>\n",
       "    <tr>\n",
       "      <th>8688</th>\n",
       "      <td>0.0</td>\n",
       "      <td>1.0</td>\n",
       "      <td>1.0</td>\n",
       "      <td>0.0</td>\n",
       "      <td>0.0</td>\n",
       "      <td>0.0</td>\n",
       "      <td>0.0</td>\n",
       "      <td>0.0</td>\n",
       "      <td>0.0</td>\n",
       "      <td>0.0</td>\n",
       "      <td>...</td>\n",
       "      <td>0.0</td>\n",
       "      <td>0.0</td>\n",
       "      <td>0.0</td>\n",
       "      <td>0.848924</td>\n",
       "      <td>-0.340590</td>\n",
       "      <td>3.989682</td>\n",
       "      <td>-0.290817</td>\n",
       "      <td>1.184286</td>\n",
       "      <td>-0.203720</td>\n",
       "      <td>0.0</td>\n",
       "    </tr>\n",
       "    <tr>\n",
       "      <th>8689</th>\n",
       "      <td>1.0</td>\n",
       "      <td>0.0</td>\n",
       "      <td>0.0</td>\n",
       "      <td>0.0</td>\n",
       "      <td>1.0</td>\n",
       "      <td>0.0</td>\n",
       "      <td>0.0</td>\n",
       "      <td>0.0</td>\n",
       "      <td>0.0</td>\n",
       "      <td>0.0</td>\n",
       "      <td>...</td>\n",
       "      <td>1.0</td>\n",
       "      <td>0.0</td>\n",
       "      <td>1.0</td>\n",
       "      <td>-0.755179</td>\n",
       "      <td>-0.340590</td>\n",
       "      <td>-0.287314</td>\n",
       "      <td>-0.290817</td>\n",
       "      <td>-0.276663</td>\n",
       "      <td>-0.269023</td>\n",
       "      <td>0.0</td>\n",
       "    </tr>\n",
       "    <tr>\n",
       "      <th>8690</th>\n",
       "      <td>0.0</td>\n",
       "      <td>0.0</td>\n",
       "      <td>0.0</td>\n",
       "      <td>0.0</td>\n",
       "      <td>0.0</td>\n",
       "      <td>1.0</td>\n",
       "      <td>0.0</td>\n",
       "      <td>0.0</td>\n",
       "      <td>0.0</td>\n",
       "      <td>0.0</td>\n",
       "      <td>...</td>\n",
       "      <td>1.0</td>\n",
       "      <td>0.0</td>\n",
       "      <td>1.0</td>\n",
       "      <td>-0.197230</td>\n",
       "      <td>-0.340590</td>\n",
       "      <td>-0.287314</td>\n",
       "      <td>2.842851</td>\n",
       "      <td>-0.275774</td>\n",
       "      <td>-0.269023</td>\n",
       "      <td>1.0</td>\n",
       "    </tr>\n",
       "    <tr>\n",
       "      <th>8691</th>\n",
       "      <td>0.0</td>\n",
       "      <td>0.0</td>\n",
       "      <td>1.0</td>\n",
       "      <td>0.0</td>\n",
       "      <td>0.0</td>\n",
       "      <td>0.0</td>\n",
       "      <td>0.0</td>\n",
       "      <td>0.0</td>\n",
       "      <td>0.0</td>\n",
       "      <td>1.0</td>\n",
       "      <td>...</td>\n",
       "      <td>0.0</td>\n",
       "      <td>0.0</td>\n",
       "      <td>1.0</td>\n",
       "      <td>0.221232</td>\n",
       "      <td>-0.340590</td>\n",
       "      <td>0.370637</td>\n",
       "      <td>-0.290817</td>\n",
       "      <td>0.037223</td>\n",
       "      <td>2.585740</td>\n",
       "      <td>0.0</td>\n",
       "    </tr>\n",
       "    <tr>\n",
       "      <th>8692</th>\n",
       "      <td>0.0</td>\n",
       "      <td>0.0</td>\n",
       "      <td>1.0</td>\n",
       "      <td>0.0</td>\n",
       "      <td>0.0</td>\n",
       "      <td>1.0</td>\n",
       "      <td>0.0</td>\n",
       "      <td>0.0</td>\n",
       "      <td>0.0</td>\n",
       "      <td>1.0</td>\n",
       "      <td>...</td>\n",
       "      <td>0.0</td>\n",
       "      <td>0.0</td>\n",
       "      <td>1.0</td>\n",
       "      <td>1.058155</td>\n",
       "      <td>-0.149594</td>\n",
       "      <td>2.653082</td>\n",
       "      <td>-0.290817</td>\n",
       "      <td>-0.276663</td>\n",
       "      <td>-0.258433</td>\n",
       "      <td>1.0</td>\n",
       "    </tr>\n",
       "  </tbody>\n",
       "</table>\n",
       "<p>8693 rows × 21 columns</p>\n",
       "</div>"
      ],
      "text/plain": [
       "      CryoSleep  VIP  HomePlanet_Europa  HomePlanet_Mars  \\\n",
       "0           0.0  0.0                1.0              0.0   \n",
       "1           0.0  0.0                0.0              0.0   \n",
       "2           0.0  1.0                1.0              0.0   \n",
       "3           0.0  0.0                1.0              0.0   \n",
       "4           0.0  0.0                0.0              0.0   \n",
       "...         ...  ...                ...              ...   \n",
       "8688        0.0  1.0                1.0              0.0   \n",
       "8689        1.0  0.0                0.0              0.0   \n",
       "8690        0.0  0.0                0.0              0.0   \n",
       "8691        0.0  0.0                1.0              0.0   \n",
       "8692        0.0  0.0                1.0              0.0   \n",
       "\n",
       "      Destination_PSO J318.5-22  Destination_TRAPPIST-1e  Deck_B  Deck_C  \\\n",
       "0                           0.0                      1.0     1.0     0.0   \n",
       "1                           0.0                      1.0     0.0     0.0   \n",
       "2                           0.0                      1.0     0.0     0.0   \n",
       "3                           0.0                      1.0     0.0     0.0   \n",
       "4                           0.0                      1.0     0.0     0.0   \n",
       "...                         ...                      ...     ...     ...   \n",
       "8688                        0.0                      0.0     0.0     0.0   \n",
       "8689                        1.0                      0.0     0.0     0.0   \n",
       "8690                        0.0                      1.0     0.0     0.0   \n",
       "8691                        0.0                      0.0     0.0     0.0   \n",
       "8692                        0.0                      1.0     0.0     0.0   \n",
       "\n",
       "      Deck_D  Deck_E  ...  Deck_G  Deck_T  Side_S       Age  RoomService  \\\n",
       "0        0.0     0.0  ...     0.0     0.0     0.0  0.709437    -0.340590   \n",
       "1        0.0     0.0  ...     0.0     0.0     1.0 -0.336717    -0.175364   \n",
       "2        0.0     0.0  ...     0.0     0.0     1.0  2.034566    -0.275409   \n",
       "3        0.0     0.0  ...     0.0     0.0     1.0  0.290975    -0.340590   \n",
       "4        0.0     0.0  ...     0.0     0.0     1.0 -0.894666     0.118709   \n",
       "...      ...     ...  ...     ...     ...     ...       ...          ...   \n",
       "8688     0.0     0.0  ...     0.0     0.0     0.0  0.848924    -0.340590   \n",
       "8689     0.0     0.0  ...     1.0     0.0     1.0 -0.755179    -0.340590   \n",
       "8690     0.0     0.0  ...     1.0     0.0     1.0 -0.197230    -0.340590   \n",
       "8691     0.0     1.0  ...     0.0     0.0     1.0  0.221232    -0.340590   \n",
       "8692     0.0     1.0  ...     0.0     0.0     1.0  1.058155    -0.149594   \n",
       "\n",
       "      FoodCourt  ShoppingMall       Spa    VRDeck  Transported  \n",
       "0     -0.287314     -0.290817 -0.276663 -0.269023          0.0  \n",
       "1     -0.281669     -0.248968  0.211505 -0.230194          1.0  \n",
       "2      1.955616     -0.290817  5.694289 -0.225782          0.0  \n",
       "3      0.517406      0.330225  2.683471 -0.098708          0.0  \n",
       "4     -0.243409     -0.038048  0.225732 -0.267258          1.0  \n",
       "...         ...           ...       ...       ...          ...  \n",
       "8688   3.989682     -0.290817  1.184286 -0.203720          0.0  \n",
       "8689  -0.287314     -0.290817 -0.276663 -0.269023          0.0  \n",
       "8690  -0.287314      2.842851 -0.275774 -0.269023          1.0  \n",
       "8691   0.370637     -0.290817  0.037223  2.585740          0.0  \n",
       "8692   2.653082     -0.290817 -0.276663 -0.258433          1.0  \n",
       "\n",
       "[8693 rows x 21 columns]"
      ]
     },
     "execution_count": 21,
     "metadata": {},
     "output_type": "execute_result"
    }
   ],
   "source": [
    "append_cat_cont = np.append(df_categorical_encoded, cont_standard, axis=1)\n",
    "full_df = pd.DataFrame(append_cat_cont, columns = np.append(df_categorical_encoded.columns, cont_standard.columns, axis=0))\n",
    "full_df"
   ]
  },
  {
   "cell_type": "code",
   "execution_count": 22,
   "id": "a2b1a861-9553-480a-9028-6773b3f47874",
   "metadata": {},
   "outputs": [
    {
     "name": "stdout",
     "output_type": "stream",
     "text": [
      "6519 examples in train the set and 2174 examples in the validation set\n"
     ]
    }
   ],
   "source": [
    "X = full_df.loc[:, ~full_df.columns.isin(['Transported'])]\n",
    "y = full_df['Transported']\n",
    "\n",
    "# Splitting the dataframes into train and validation\n",
    "X_train, X_valid, y_train, y_valid = train_test_split(X, y, test_size=0.25, random_state=16) # randomization is part of this sklearn algorithm\n",
    "print(f\"{len(X_train)} examples in train the set and {len(X_valid)} examples in the validation set\")"
   ]
  },
  {
   "cell_type": "code",
   "execution_count": 23,
   "id": "1be4e08b-8861-410c-a2c2-3ea3fdf37c54",
   "metadata": {},
   "outputs": [
    {
     "data": {
      "text/plain": [
       "array([1., 0., 0., ..., 0., 1., 1.])"
      ]
     },
     "execution_count": 23,
     "metadata": {},
     "output_type": "execute_result"
    }
   ],
   "source": [
    "# Fitting the model to train sets and making the prediction on validation\n",
    "\n",
    "logreg = LogisticRegression(random_state=16)\n",
    "\n",
    "classifier_complete = logreg.fit(X_train, y_train)\n",
    "\n",
    "y_pred = logreg.predict(X_valid)\n",
    "\n",
    "y_pred"
   ]
  },
  {
   "cell_type": "code",
   "execution_count": 24,
   "id": "cb855d0b-43a6-4fc3-af06-7ce0f1bc088f",
   "metadata": {},
   "outputs": [
    {
     "data": {
      "text/plain": [
       "array([[835, 257],\n",
       "       [220, 862]])"
      ]
     },
     "execution_count": 24,
     "metadata": {},
     "output_type": "execute_result"
    }
   ],
   "source": [
    "#Comparing validation and predition for confustion matrix\n",
    "\n",
    "cnf_matrix_2 = metrics.confusion_matrix(y_valid, y_pred)\n",
    "cnf_matrix_2"
   ]
  },
  {
   "cell_type": "code",
   "execution_count": 25,
   "id": "a50920a6-d1fb-4f5a-a06a-c41f2fb6faee",
   "metadata": {},
   "outputs": [
    {
     "data": {
      "image/png": "[encoded data removed]",
      "text/plain": [
       "<Figure size 640x480 with 2 Axes>"
      ]
     },
     "metadata": {},
     "output_type": "display_data"
    }
   ],
   "source": [
    "# Plotting the Confusion Matrix of model using all parameters (continuous and categorical)\n",
    "\n",
    "from sklearn.metrics import ConfusionMatrixDisplay\n",
    "ConfusionMatrixDisplay.from_estimator(classifier_complete, X_valid, y_valid);"
   ]
  },
  {
   "cell_type": "code",
   "execution_count": 26,
   "id": "892fb114-3273-4a97-819c-dc35076850ae",
   "metadata": {},
   "outputs": [
    {
     "name": "stdout",
     "output_type": "stream",
     "text": [
      "Accuracy =  1697  right predictions,  0.78  score\n"
     ]
    }
   ],
   "source": [
    "# Measure of accuracy\n",
    "\n",
    "from sklearn.metrics import accuracy_score\n",
    "accuracy_norm = accuracy_score(y_valid, y_pred, normalize=True)\n",
    "accuracy_count = accuracy_score(y_valid, y_pred, normalize=False)\n",
    "print(f'Accuracy = ', round(accuracy_count), ' right predictions, ', round(accuracy_norm,2), ' score') "
   ]
  },
  {
   "cell_type": "code",
   "execution_count": 27,
   "id": "586e298b-6e31-4007-8ef9-934f83cb401f",
   "metadata": {},
   "outputs": [
    {
     "data": {
      "image/png": "[encoded data removed]",
      "text/plain": [
       "<Figure size 640x480 with 1 Axes>"
      ]
     },
     "metadata": {},
     "output_type": "display_data"
    }
   ],
   "source": [
    "from sklearn.metrics import RocCurveDisplay\n",
    "RocCurveDisplay.from_estimator(classifier_complete, X_valid, y_valid);"
   ]
  },
  {
   "cell_type": "markdown",
   "id": "b65b8768-2428-4fde-aff3-cc7fab655fe8",
   "metadata": {},
   "source": [
    "- **ROC:** A receiver operating characteristic, is a graphical plot which illustrates the performance of a binary classifier system as its discrimination threshold is varied. It is created by plotting the fraction of true positives out of the positives (TPR = true positive rate) vs. the fraction of false positives out of the negatives (FPR = false positive rate).\n",
    "- **AUC:** area under the curve, translates the ROC curve into a single number. Probability that given a random positive and negative example. Will rank the positive higher than negative. A model with AUC = 1, will always classify a random passenger as transported"
   ]
  },
  {
   "cell_type": "markdown",
   "id": "dadbb7df-fa06-4470-887a-0a17e028493e",
   "metadata": {},
   "source": [
    "**Recall (TPR)**: proportion of all actual positives that were classified correctly as positives. Detection probability.\n",
    "<br> Used when when false negatives cost more than false positives.\n",
    "$$\n",
    "TPR = \\frac{TP}{TP+FN}\n",
    "$$"
   ]
  },
  {
   "cell_type": "code",
   "execution_count": 28,
   "id": "fa745bf1-42dd-4746-9a07-68c1b302f0fe",
   "metadata": {},
   "outputs": [
    {
     "name": "stdout",
     "output_type": "stream",
     "text": [
      "Model 1 Recall =  0.879\n"
     ]
    }
   ],
   "source": [
    "# Model 1 (Only continuous) TPR/ Recall\n",
    "recall_1 = cnf_matrix_1[1][1] / (cnf_matrix_1[1][1] + cnf_matrix_1[1][0])\n",
    "print(\"Model 1 Recall = \",round(recall_1,3))"
   ]
  },
  {
   "cell_type": "code",
   "execution_count": 29,
   "id": "11c69538-fa7b-43d8-ae5a-b9e98279ccf3",
   "metadata": {},
   "outputs": [
    {
     "name": "stdout",
     "output_type": "stream",
     "text": [
      "Model 2 Recall =  0.797\n"
     ]
    }
   ],
   "source": [
    "# Model 2 (Only continuous) TPR/ Recall\n",
    "recall_2 = cnf_matrix_2[1][1] / (cnf_matrix_2[1][1] + cnf_matrix_2[1][0])\n",
    "print(\"Model 2 Recall = \",round(recall_2,3))"
   ]
  },
  {
   "cell_type": "markdown",
   "id": "9f3433e3-af84-4473-8a21-40e94bdd6481",
   "metadata": {},
   "source": [
    "### Question:\n",
    "- What is the possible reason for the final accuracy being so similar, but distribution between types of errors so different (much more false negatives in this case)? This is cleary visible when comparing the two ROC curves as well\n",
    "- Why the first model seems to have more cases of false positive, but the second model that has a higher AUC? Shouldn't be the opposite?\n",
    "- In this case the false negative costs more (saying that a passenger wasn't teleported while it was, the outcome is that I won't look for him). So is it better to use the \"Recall\" metric to find the best model? Would the Model 1 be better, adding categorical didn't improve the model?\n",
    "- How can I make an analysis of feature importance with so many different dummy variables? NUM_AS_ROOT was used in Random Forest"
   ]
  },
  {
   "cell_type": "markdown",
   "id": "de88ac73-7ece-4574-901f-baef15f0e736",
   "metadata": {},
   "source": [
    "## Submission\n",
    "\n",
    "<br> I was getting the error of features in fitting not matching, removing CabinNum solved.\n",
    "<br> Apparently there were CabinNums present in test that are not present in train\n",
    "<br> Why the random forest didn't have this error? Does TensorFlow cover this problem?"
   ]
  },
  {
   "cell_type": "code",
   "execution_count": 35,
   "id": "8d4556c6-1690-4936-8476-f5e3e6d3cf01",
   "metadata": {},
   "outputs": [
    {
     "name": "stderr",
     "output_type": "stream",
     "text": [
      "/tmp/ipykernel_5500/2477801520.py:7: FutureWarning: Downcasting object dtype arrays on .fillna, .ffill, .bfill is deprecated and will change in a future version. Call result.infer_objects(copy=False) instead. To opt-in to the future behavior, set `pd.set_option('future.no_silent_downcasting', True)`\n",
      "  test_df[categorical_columns] = test_df[categorical_columns].fillna(test_df[categorical_columns].mode().iloc[0])\n"
     ]
    },
    {
     "data": {
      "text/html": [
       "<div>\n",
       "<style scoped>\n",
       "    .dataframe tbody tr th:only-of-type {\n",
       "        vertical-align: middle;\n",
       "    }\n",
       "\n",
       "    .dataframe tbody tr th {\n",
       "        vertical-align: top;\n",
       "    }\n",
       "\n",
       "    .dataframe thead th {\n",
       "        text-align: right;\n",
       "    }\n",
       "</style>\n",
       "<table border=\"1\" class=\"dataframe\">\n",
       "  <thead>\n",
       "    <tr style=\"text-align: right;\">\n",
       "      <th></th>\n",
       "      <th>PassengerId</th>\n",
       "      <th>Transported</th>\n",
       "    </tr>\n",
       "  </thead>\n",
       "  <tbody>\n",
       "    <tr>\n",
       "      <th>0</th>\n",
       "      <td>0013_01</td>\n",
       "      <td>True</td>\n",
       "    </tr>\n",
       "    <tr>\n",
       "      <th>1</th>\n",
       "      <td>0018_01</td>\n",
       "      <td>False</td>\n",
       "    </tr>\n",
       "    <tr>\n",
       "      <th>2</th>\n",
       "      <td>0019_01</td>\n",
       "      <td>True</td>\n",
       "    </tr>\n",
       "    <tr>\n",
       "      <th>3</th>\n",
       "      <td>0021_01</td>\n",
       "      <td>True</td>\n",
       "    </tr>\n",
       "    <tr>\n",
       "      <th>4</th>\n",
       "      <td>0023_01</td>\n",
       "      <td>True</td>\n",
       "    </tr>\n",
       "    <tr>\n",
       "      <th>...</th>\n",
       "      <td>...</td>\n",
       "      <td>...</td>\n",
       "    </tr>\n",
       "    <tr>\n",
       "      <th>4272</th>\n",
       "      <td>9266_02</td>\n",
       "      <td>True</td>\n",
       "    </tr>\n",
       "    <tr>\n",
       "      <th>4273</th>\n",
       "      <td>9269_01</td>\n",
       "      <td>False</td>\n",
       "    </tr>\n",
       "    <tr>\n",
       "      <th>4274</th>\n",
       "      <td>9271_01</td>\n",
       "      <td>True</td>\n",
       "    </tr>\n",
       "    <tr>\n",
       "      <th>4275</th>\n",
       "      <td>9273_01</td>\n",
       "      <td>True</td>\n",
       "    </tr>\n",
       "    <tr>\n",
       "      <th>4276</th>\n",
       "      <td>9277_01</td>\n",
       "      <td>True</td>\n",
       "    </tr>\n",
       "  </tbody>\n",
       "</table>\n",
       "<p>4277 rows × 2 columns</p>\n",
       "</div>"
      ],
      "text/plain": [
       "     PassengerId  Transported\n",
       "0        0013_01         True\n",
       "1        0018_01        False\n",
       "2        0019_01         True\n",
       "3        0021_01         True\n",
       "4        0023_01         True\n",
       "...          ...          ...\n",
       "4272     9266_02         True\n",
       "4273     9269_01        False\n",
       "4274     9271_01         True\n",
       "4275     9273_01         True\n",
       "4276     9277_01         True\n",
       "\n",
       "[4277 rows x 2 columns]"
      ]
     },
     "execution_count": 35,
     "metadata": {},
     "output_type": "execute_result"
    }
   ],
   "source": [
    "# Loading test dataset\n",
    "test_df = pd.read_csv('test.csv')\n",
    "submission_id = test_df['PassengerId']\n",
    "\n",
    "# Impute missing values with the mode for categorical columns\n",
    "categorical_columns = ['VIP', 'CryoSleep']\n",
    "test_df[categorical_columns] = test_df[categorical_columns].fillna(test_df[categorical_columns].mode().iloc[0])\n",
    "\n",
    "# Impute missing values with the mean for numerical columns\n",
    "numerical_columns = ['RoomService', 'FoodCourt', 'ShoppingMall', 'Spa', 'VRDeck', 'Age']\n",
    "test_df[numerical_columns] = test_df[numerical_columns].fillna(test_df[numerical_columns].mean())\n",
    "\n",
    "# Create new columns - Deck, and Side from the Cabin column, then drop Cabin.\n",
    "## Not adding CabinNum as I was going thru error of Fit features not matching\n",
    "test_df['Deck'] = test_df['Cabin'].str.split(pat='/', expand=True)[0]\n",
    "test_df['Side'] = test_df['Cabin'].str.split(pat='/', expand=True)[2]\n",
    "test_df = test_df.drop('Cabin', axis=1)\n",
    "\n",
    "# Convert boolean columns (VIP, CryoSleep) to integers\n",
    "test_df['VIP'] = test_df['VIP'].astype(int)\n",
    "test_df['CryoSleep'] = test_df['CryoSleep'].astype(int)\n",
    "\n",
    "# Remove PassengerId from features\n",
    "X_submission = test_df.loc[:, ~test_df.columns.isin(['PassengerId'])]\n",
    "\n",
    "# Standarization of continuous features\n",
    "continuous_features = ['Age','RoomService','FoodCourt','ShoppingMall','Spa','VRDeck']\n",
    "standard_scaler = StandardScaler()\n",
    "X_standard = standard_scaler.fit_transform(X_submission[continuous_features])\n",
    "cont_standard = pd.DataFrame(X_standard, columns= continuous_features)\n",
    "cont_standard\n",
    "\n",
    "# Hot encodding of categorical features\n",
    "categorical_features = ['HomePlanet', 'Destination', 'Deck', 'Side']\n",
    "df_categorical = X_submission[np.append(categorical_features, ['CryoSleep', 'VIP'], axis=0)]\n",
    "df_categorical_encoded = pd.get_dummies(df_categorical, columns = categorical_features, dtype='int', drop_first = True)\n",
    "df_categorical_encoded\n",
    "\n",
    "# Dataframe with full features\n",
    "append_cat_cont = np.append(df_categorical_encoded, cont_standard, axis=1)\n",
    "full_test_df = pd.DataFrame(append_cat_cont, columns = np.append(df_categorical_encoded.columns, cont_standard.columns, axis=0))\n",
    "full_test_df\n",
    "\n",
    "# Fitting the model to the classifier complete\n",
    "classifier_complete = logreg.fit(X_train, y_train)\n",
    "\n",
    "y_pred = logreg.predict(full_test_df).astype(bool)\n",
    "\n",
    "output = pd.DataFrame({'PassengerId': submission_id,\n",
    "                       'Transported': y_pred})\n",
    "output"
   ]
  },
  {
   "cell_type": "code",
   "execution_count": 36,
   "id": "61f60393-634c-4951-8ebf-40d91da21d4b",
   "metadata": {},
   "outputs": [
    {
     "data": {
      "text/html": [
       "<div>\n",
       "<style scoped>\n",
       "    .dataframe tbody tr th:only-of-type {\n",
       "        vertical-align: middle;\n",
       "    }\n",
       "\n",
       "    .dataframe tbody tr th {\n",
       "        vertical-align: top;\n",
       "    }\n",
       "\n",
       "    .dataframe thead th {\n",
       "        text-align: right;\n",
       "    }\n",
       "</style>\n",
       "<table border=\"1\" class=\"dataframe\">\n",
       "  <thead>\n",
       "    <tr style=\"text-align: right;\">\n",
       "      <th></th>\n",
       "      <th>PassengerId</th>\n",
       "      <th>Transported</th>\n",
       "    </tr>\n",
       "  </thead>\n",
       "  <tbody>\n",
       "    <tr>\n",
       "      <th>0</th>\n",
       "      <td>0013_01</td>\n",
       "      <td>True</td>\n",
       "    </tr>\n",
       "    <tr>\n",
       "      <th>1</th>\n",
       "      <td>0018_01</td>\n",
       "      <td>False</td>\n",
       "    </tr>\n",
       "    <tr>\n",
       "      <th>2</th>\n",
       "      <td>0019_01</td>\n",
       "      <td>True</td>\n",
       "    </tr>\n",
       "    <tr>\n",
       "      <th>3</th>\n",
       "      <td>0021_01</td>\n",
       "      <td>True</td>\n",
       "    </tr>\n",
       "    <tr>\n",
       "      <th>4</th>\n",
       "      <td>0023_01</td>\n",
       "      <td>True</td>\n",
       "    </tr>\n",
       "  </tbody>\n",
       "</table>\n",
       "</div>"
      ],
      "text/plain": [
       "  PassengerId  Transported\n",
       "0     0013_01         True\n",
       "1     0018_01        False\n",
       "2     0019_01         True\n",
       "3     0021_01         True\n",
       "4     0023_01         True"
      ]
     },
     "execution_count": 36,
     "metadata": {},
     "output_type": "execute_result"
    }
   ],
   "source": [
    "sample_submission_df = pd.read_csv('sample_submission.csv')\n",
    "sample_submission_df['Transported'] = y_pred\n",
    "sample_submission_df.to_csv('submission_pietro.csv', index=False)\n",
    "sample_submission_df.head()"
   ]
  },
  {
   "cell_type": "markdown",
   "id": "33ac4c8b-a95f-4791-ac9c-34b2c8242330",
   "metadata": {
    "jp-MarkdownHeadingCollapsed": true
   },
   "source": [
    "## Using Raw Python"
   ]
  },
  {
   "cell_type": "markdown",
   "id": "f5171a8b-f8d8-434e-b581-f47f710e5f55",
   "metadata": {},
   "source": [
    "Y-axis in logistic regression (between 0 and 1) is transformed from \"probability of transported\" to \"log(odds of transported)\", so it will be able to go from -infty to +infty\n",
    "<br>In chart on the left, we can create a linear  with coefficients. It works the same, but in a scale of log(odds)\n",
    "<br>.\n",
    "\n",
    "<img src=\"../images/logistic_regression_continuous.png\" alt=\"Continuous Regression\" width=\"800\"/>"
   ]
  }
 ],
 "metadata": {
  "kernelspec": {
   "display_name": "Python 3 (ipykernel)",
   "language": "python",
   "name": "python3"
  },
  "language_info": {
   "codemirror_mode": {
    "name": "ipython",
    "version": 3
   },
   "file_extension": ".py",
   "mimetype": "text/x-python",
   "name": "python",
   "nbconvert_exporter": "python",
   "pygments_lexer": "ipython3",
   "version": "3.9.20"
  }
 },
 "nbformat": 4,
 "nbformat_minor": 5
}
