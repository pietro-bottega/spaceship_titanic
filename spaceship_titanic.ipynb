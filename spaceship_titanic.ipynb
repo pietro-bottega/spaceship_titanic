{
 "cells": [
  {
   "cell_type": "markdown",
   "id": "a8e06f7d-fd18-430f-a76e-567a3866e3ea",
   "metadata": {},
   "source": [
    "# Kaggle Competition: Spaceship Titanic"
   ]
  },
  {
   "cell_type": "markdown",
   "id": "280ed032-c64a-41c2-bf78-57782b180d24",
   "metadata": {},
   "source": [
    "In this competition your task is to predict whether a passenger was transported to an alternate dimension during the Spaceship Titanic's collision with the spacetime anomaly.\n",
    "\n",
    "#### Datasets:\n",
    "- Train: Personal records for about 2/3 of passengers, to be used as training data\n",
    "- Test: Personal records for the remaining 1/3 of the passengers, to be used as test data. The goal is to predict the value of 'Transported' in this set."
   ]
  },
  {
   "cell_type": "markdown",
   "id": "ec06d555-a581-45a4-a49f-a40dbf4df216",
   "metadata": {},
   "source": [
    "## Metadata\n",
    "\n",
    "- **PassengerId (str)** - A unique Id for each passenger. Each Id takes the form gggg_pp where gggg indicates a group the passenger is travelling with and pp is their number within the group. People in a group are often family members, but not always.\n",
    "- **HomePlanet (str)** - The planet the passenger departed from, typically their planet of permanent residence.\n",
    "- **CryoSleep (bool)** - Indicates whether the passenger elected to be put into suspended animation for the duration of the voyage. Passengers in cryosleep are confined to their cabins.\n",
    "- **Cabin (str)** - The cabin number where the passenger is staying. Takes the form deck/num/side, where side can be either P for Port or S for Starboard.\n",
    "- **Destination (str)** - The planet the passenger will be debarking to.\n",
    "- **Age (float)** - The age of the passenger.\n",
    "- **VIP (bool)** - Whether the passenger has paid for special VIP service during the voyage.\n",
    "- **RoomService, FoodCourt, ShoppingMall, Spa, VRDeck (float)** - Amount the passenger has billed at each of the Spaceship Titanic's many luxury amenities.\n",
    "- **Name (str)** - The first and last names of the passenger.\n",
    "- **Transported (bool)** - Whether the passenger was transported to another dimension. This is the target, the column you are trying to predict."
   ]
  },
  {
   "cell_type": "code",
   "execution_count": 1,
   "id": "683f9e2a-d3d3-4aed-87cc-43a93facc2ef",
   "metadata": {},
   "outputs": [],
   "source": [
    "import pandas as pd\n",
    "import numpy as np\n",
    "from sklearn.linear_model import LogisticRegression\n",
    "from sklearn.preprocessing import StandardScaler\n",
    "from sklearn import metrics\n",
    "import seaborn as sns\n",
    "import matplotlib.pyplot as plt"
   ]
  },
  {
   "cell_type": "markdown",
   "id": "b376776b-b470-48de-94f6-9b8d45547d21",
   "metadata": {},
   "source": [
    "# Loading train set and data cleaning"
   ]
  },
  {
   "cell_type": "code",
   "execution_count": 2,
   "id": "4b0e654b-657c-4931-91f4-a7e936b17610",
   "metadata": {},
   "outputs": [
    {
     "name": "stdout",
     "output_type": "stream",
     "text": [
      "<class 'pandas.core.frame.DataFrame'>\n",
      "RangeIndex: 8693 entries, 0 to 8692\n",
      "Data columns (total 16 columns):\n",
      " #   Column        Non-Null Count  Dtype   \n",
      "---  ------        --------------  -----   \n",
      " 0   PassengerId   8693 non-null   object  \n",
      " 1   HomePlanet    8492 non-null   category\n",
      " 2   CryoSleep     8693 non-null   bool    \n",
      " 3   Destination   8511 non-null   category\n",
      " 4   Age           8514 non-null   float64 \n",
      " 5   VIP           8693 non-null   bool    \n",
      " 6   RoomService   8512 non-null   float64 \n",
      " 7   FoodCourt     8510 non-null   float64 \n",
      " 8   ShoppingMall  8485 non-null   float64 \n",
      " 9   Spa           8510 non-null   float64 \n",
      " 10  VRDeck        8505 non-null   float64 \n",
      " 11  Name          8493 non-null   object  \n",
      " 12  Transported   8693 non-null   bool    \n",
      " 13  Deck          8494 non-null   object  \n",
      " 14  CabinNum      8494 non-null   object  \n",
      " 15  Side          8494 non-null   object  \n",
      "dtypes: bool(3), category(2), float64(6), object(5)\n",
      "memory usage: 789.9+ KB\n"
     ]
    }
   ],
   "source": [
    "# Loading dataset\n",
    "\n",
    "train = pd.read_csv('train.csv')\n",
    "\n",
    "# split Cabin to extract more information\n",
    "\n",
    "train['Deck'] = train['Cabin'].str.split(pat='/', expand=True)[0]\n",
    "train['CabinNum'] = train['Cabin'].str.split(pat='/', expand=True)[1]\n",
    "train['Side'] = train['Cabin'].str.split(pat='/', expand=True)[2]\n",
    "\n",
    "# assign dtypes for less memory usage\n",
    "\n",
    "column_mapper = {\n",
    "    'HomePlanet':'category',\n",
    "    'CryoSleep':'bool',\n",
    "    'Destination':'category',\n",
    "    'VIP':'bool'\n",
    "}\n",
    "\n",
    "train = train.astype(column_mapper).drop('Cabin', axis=1)\n",
    "\n",
    "train.info()"
   ]
  },
  {
   "cell_type": "code",
   "execution_count": 3,
   "id": "b740e81e-84b4-4dd6-a892-19b28d935c84",
   "metadata": {},
   "outputs": [
    {
     "data": {
      "text/plain": [
       "Transported\n",
       "True     0.503624\n",
       "False    0.496376\n",
       "Name: proportion, dtype: float64"
      ]
     },
     "execution_count": 3,
     "metadata": {},
     "output_type": "execute_result"
    }
   ],
   "source": [
    "# Proportion of observations with positive y variable, is well represented, won't have this risk for biasing the model\n",
    "\n",
    "train['Transported'].value_counts(normalize=True)"
   ]
  },
  {
   "cell_type": "code",
   "execution_count": 4,
   "id": "765366d5-3a73-48d8-88db-604bd1c30165",
   "metadata": {},
   "outputs": [
    {
     "data": {
      "text/plain": [
       "(6943, 16)"
      ]
     },
     "execution_count": 4,
     "metadata": {},
     "output_type": "execute_result"
    }
   ],
   "source": [
    "# Testing to just drop rows with NA values\n",
    "\n",
    "train_clean = train.dropna(axis=0)\n",
    "train_clean.shape"
   ]
  },
  {
   "cell_type": "code",
   "execution_count": 5,
   "id": "ccc3cd8f-59ca-4fd7-8373-0010f6593b7b",
   "metadata": {},
   "outputs": [
    {
     "name": "stdout",
     "output_type": "stream",
     "text": [
      "Percentage of sample maintained: 0.798688600023007\n"
     ]
    },
    {
     "data": {
      "text/plain": [
       "Transported\n",
       "True     0.503961\n",
       "False    0.496039\n",
       "Name: proportion, dtype: float64"
      ]
     },
     "execution_count": 5,
     "metadata": {},
     "output_type": "execute_result"
    }
   ],
   "source": [
    "# After removing Na rows, the same proportion of y-positive is maintained and it doesn't loose significant part of sample\n",
    "\n",
    "sample_maintained = train_clean.shape[0] / train.shape[0]\n",
    "print(f'Percentage of sample maintained:',sample_maintained)\n",
    "train_clean['Transported'].value_counts(normalize=True)"
   ]
  },
  {
   "cell_type": "code",
   "execution_count": 6,
   "id": "0347c597-1bc8-4fd5-a950-d69709c17149",
   "metadata": {},
   "outputs": [
    {
     "data": {
      "image/png": "[encoded data removed]",
      "text/plain": [
       "<Figure size 640x480 with 2 Axes>"
      ]
     },
     "metadata": {},
     "output_type": "display_data"
    }
   ],
   "source": [
    "# Checking multicollinearity: not observable in continuous columns\n",
    "\n",
    "df_continuous = train_clean[['RoomService','FoodCourt','ShoppingMall','Spa','VRDeck']]\n",
    "df_continuous_corr = df_continuous.corr()\n",
    "\n",
    "cmap = sns.cm.rocket_r\n",
    "sns.heatmap(df_continuous_corr, cmap = cmap)\n",
    "plt.show()"
   ]
  },
  {
   "cell_type": "markdown",
   "id": "96c97332-8220-421f-a50d-8245b6f7d96a",
   "metadata": {},
   "source": [
    "## Normalizing data\n",
    "\n",
    "**Normalization vs Standardization**\n",
    "\n",
    "- Normalization (min-max): scales data to a range from 0 and 1\n",
    "$$\n",
    "X_{normal.} = \\frac{X-X_{min}}{X_{max}-X_{min}}\n",
    "$$\n",
    "- Stardardization: transform data to have a mean ($\\mu$) of 0 and standard dev ($\\sigma$) of 1\n",
    "$$\n",
    "X_{stand.} = \\frac{X-\\mu}{\\sigma}\n",
    "$$\n",
    "<br> As Logistic Regression assumes a normal distribution, I'll be using a Z-score standardization"
   ]
  },
  {
   "cell_type": "code",
   "execution_count": 7,
   "id": "8c99a2bf-c9e3-4c3c-8424-b2bab71d5f4d",
   "metadata": {},
   "outputs": [
    {
     "data": {
      "text/plain": [
       "array([[-0.34238591, -0.28512436, -0.30894197, -0.27512286, -0.26835819],\n",
       "       [-0.17506205, -0.27977129, -0.26477498,  0.20929638, -0.22923897],\n",
       "       [-0.27637741,  1.84183224, -0.30894197,  5.64996851, -0.22479361],\n",
       "       ...,\n",
       "       [-0.34238591, -0.28512436,  2.99828236, -0.27424049, -0.26835819],\n",
       "       [-0.34238591,  0.3388067 , -0.30894197,  0.03635254,  2.60779324],\n",
       "       [-0.14896567,  2.50323485, -0.30894197, -0.27512286, -0.25768931]])"
      ]
     },
     "execution_count": 7,
     "metadata": {},
     "output_type": "execute_result"
    }
   ],
   "source": [
    "# Z-Score normalize the continuous variables\n",
    "\n",
    "standard_scaler = StandardScaler()\n",
    "\n",
    "cont_standard = standard_scaler.fit_transform(df_continuous)\n",
    "cont_standard"
   ]
  },
  {
   "cell_type": "code",
   "execution_count": 8,
   "id": "5978cbaf-566f-4def-bef5-ab756a92320c",
   "metadata": {},
   "outputs": [
    {
     "name": "stdout",
     "output_type": "stream",
     "text": [
      "From 6943 observations,  4546  are 0 for selected column\n"
     ]
    },
    {
     "data": {
      "text/plain": [
       "<Axes: xlabel='RoomService', ylabel='Count'>"
      ]
     },
     "execution_count": 8,
     "metadata": {},
     "output_type": "execute_result"
    },
    {
     "data": {
      "image/png": "[encoded data removed]",
      "text/plain": [
       "<Figure size 640x480 with 1 Axes>"
      ]
     },
     "metadata": {},
     "output_type": "display_data"
    }
   ],
   "source": [
    "# input: column to check distribution\n",
    "lookup_col = 'RoomService'\n",
    "\n",
    "# calculation\n",
    "df_cont_lookup = df_continuous[df_continuous[lookup_col] > 0]\n",
    "lookup_standard = standard_scaler.fit_transform(df_cont_lookup)\n",
    "cont_lookup = pd.DataFrame(lookup_standard, columns=['RoomService','FoodCourt','ShoppingMall','Spa','VRDeck'])\n",
    "\n",
    "# output\n",
    "not_zeros = cont_standard.shape[0] - cont_lookup.shape[0]\n",
    "print(f'From', cont_standard.shape[0], 'observations, ', not_zeros, ' are 0 for selected column')\n",
    "sns.histplot(data=cont_lookup, x=lookup_col)"
   ]
  },
  {
   "cell_type": "code",
   "execution_count": 9,
   "id": "1646017c-a07a-4eed-8042-4927d42ee87d",
   "metadata": {},
   "outputs": [
    {
     "ename": "NameError",
     "evalue": "name 'X_standard' is not defined",
     "output_type": "error",
     "traceback": [
      "\u001b[0;31m---------------------------------------------------------------------------\u001b[0m",
      "\u001b[0;31mNameError\u001b[0m                                 Traceback (most recent call last)",
      "Cell \u001b[0;32mIn[9], line 6\u001b[0m\n\u001b[1;32m      3\u001b[0m transported_arr \u001b[38;5;241m=\u001b[39m transported_arr[:, np\u001b[38;5;241m.\u001b[39mnewaxis]\n\u001b[1;32m      5\u001b[0m \u001b[38;5;66;03m# Create df with normalized cont var and transported\u001b[39;00m\n\u001b[0;32m----> 6\u001b[0m X_yappended \u001b[38;5;241m=\u001b[39m np\u001b[38;5;241m.\u001b[39mappend(\u001b[43mX_standard\u001b[49m, transported_arr, axis\u001b[38;5;241m=\u001b[39m\u001b[38;5;241m1\u001b[39m)\n\u001b[1;32m      7\u001b[0m cont_standard \u001b[38;5;241m=\u001b[39m pd\u001b[38;5;241m.\u001b[39mDataFrame(X_yappended, columns\u001b[38;5;241m=\u001b[39m[\u001b[38;5;124m'\u001b[39m\u001b[38;5;124mRoomService\u001b[39m\u001b[38;5;124m'\u001b[39m,\u001b[38;5;124m'\u001b[39m\u001b[38;5;124mFoodCourt\u001b[39m\u001b[38;5;124m'\u001b[39m,\u001b[38;5;124m'\u001b[39m\u001b[38;5;124mShoppingMall\u001b[39m\u001b[38;5;124m'\u001b[39m,\u001b[38;5;124m'\u001b[39m\u001b[38;5;124mSpa\u001b[39m\u001b[38;5;124m'\u001b[39m,\u001b[38;5;124m'\u001b[39m\u001b[38;5;124mVRDeck\u001b[39m\u001b[38;5;124m'\u001b[39m,\u001b[38;5;124m'\u001b[39m\u001b[38;5;124mTransported\u001b[39m\u001b[38;5;124m'\u001b[39m])\n\u001b[1;32m      8\u001b[0m cont_standard\u001b[38;5;241m.\u001b[39mhead(\u001b[38;5;241m3\u001b[39m)\n",
      "\u001b[0;31mNameError\u001b[0m: name 'X_standard' is not defined"
     ]
    }
   ],
   "source": [
    "# Convert transported to array to append\n",
    "transported_arr = train_clean['Transported'].to_numpy()\n",
    "transported_arr = transported_arr[:, np.newaxis]\n",
    "\n",
    "# Create df with normalized cont var and transported\n",
    "X_yappended = np.append(X_standard, transported_arr, axis=1)\n",
    "cont_standard = pd.DataFrame(X_yappended, columns=['RoomService','FoodCourt','ShoppingMall','Spa','VRDeck','Transported'])\n",
    "cont_standard.head(3)"
   ]
  },
  {
   "cell_type": "markdown",
   "id": "13fac14a-cdee-4c10-9e8f-a9a51b882e67",
   "metadata": {},
   "source": [
    "# Logistic Regression"
   ]
  },
  {
   "cell_type": "markdown",
   "id": "68b760f7-93af-4bd6-81ba-cd68eeacb631",
   "metadata": {},
   "source": [
    "## Overview\n",
    "\n",
    "Consists of a Linear Regression, $y$ being the dependent variable and $x_n$ explanatory variables:\n",
    "$$\n",
    "y = \\beta_0 + \\beta_1 X_1 + ...+ \\beta_n X_n\n",
    "$$\n",
    "Applied into a Sigmoid function:\n",
    "$$\n",
    "p = \\frac{1}{1+e^{-y}}\n",
    "$$\n",
    "\n",
    "<br> Therefore, Logistic regression is similar to linear regression, except that coefficients are in terms of *log(odds)*.\n",
    "<br> Additionally, to fit the line based on coefficients to observed datapoints, logistic regression uses *Maximum Likelihood Estimation (MLE)* instead of Least Squares Method.\n",
    "<br> \n",
    "<br> Outcome will be a classification between 0 and 1 probability for the y-variable. Here it will be the \"Transported\" variable.\n"
   ]
  },
  {
   "cell_type": "markdown",
   "id": "6ac52880-2e83-48cd-a9d5-97652fdf30a0",
   "metadata": {},
   "source": [
    "## Examples\n",
    "\n",
    "To understand how Logistic Regression works, let's use some columns from the dataset to do an example if continuous data and another with discrete data."
   ]
  },
  {
   "cell_type": "markdown",
   "id": "33ac4c8b-a95f-4791-ac9c-34b2c8242330",
   "metadata": {},
   "source": [
    "### Continuous variables"
   ]
  },
  {
   "cell_type": "markdown",
   "id": "054161b5-dba3-4173-9254-741f1111f849",
   "metadata": {},
   "source": [
    "Y-axis in logistic regression (between 0 and 1) is transformed from \"probability of transported\" to \"log(odds of transported)\", so it will be able to go from -infty to +infty\n",
    "<br>In chart on the left, we can create a linear regression with coefficients. It works the same, but in a scale of log(odds)\n",
    "<br>.\n",
    "\n",
    "<img src=\"../images/logistic_regression_continuous.png\" alt=\"Continuous Regression\" width=\"800\"/>"
   ]
  },
  {
   "cell_type": "code",
   "execution_count": null,
   "id": "1007467e-b710-4948-b400-b1e710e6a8aa",
   "metadata": {},
   "outputs": [],
   "source": [
    "cont_standard"
   ]
  }
 ],
 "metadata": {
  "kernelspec": {
   "display_name": "Python 3 (ipykernel)",
   "language": "python",
   "name": "python3"
  },
  "language_info": {
   "codemirror_mode": {
    "name": "ipython",
    "version": 3
   },
   "file_extension": ".py",
   "mimetype": "text/x-python",
   "name": "python",
   "nbconvert_exporter": "python",
   "pygments_lexer": "ipython3",
   "version": "3.9.20"
  }
 },
 "nbformat": 4,
 "nbformat_minor": 5
}
